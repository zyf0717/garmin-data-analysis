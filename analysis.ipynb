{
 "cells": [
  {
   "cell_type": "code",
   "execution_count": 1,
   "metadata": {},
   "outputs": [],
   "source": [
    "import pandas as pd\n",
    "import numpy as np\n",
    "import plotly.express as px\n",
    "import plotly.graph_objs as go\n",
    "import plotly.figure_factory as ff"
   ]
  },
  {
   "cell_type": "code",
   "execution_count": 2,
   "metadata": {},
   "outputs": [
    {
     "data": {
      "text/html": [
       "<div>\n",
       "<style scoped>\n",
       "    .dataframe tbody tr th:only-of-type {\n",
       "        vertical-align: middle;\n",
       "    }\n",
       "\n",
       "    .dataframe tbody tr th {\n",
       "        vertical-align: top;\n",
       "    }\n",
       "\n",
       "    .dataframe thead th {\n",
       "        text-align: right;\n",
       "    }\n",
       "</style>\n",
       "<table border=\"1\" class=\"dataframe\">\n",
       "  <thead>\n",
       "    <tr style=\"text-align: right;\">\n",
       "      <th></th>\n",
       "      <th>Activity Type</th>\n",
       "      <th>Date</th>\n",
       "      <th>Favorite</th>\n",
       "      <th>Title</th>\n",
       "      <th>Distance</th>\n",
       "      <th>Calories</th>\n",
       "      <th>Time</th>\n",
       "      <th>Avg HR</th>\n",
       "      <th>Max HR</th>\n",
       "      <th>Aerobic TE</th>\n",
       "      <th>...</th>\n",
       "      <th>Grit</th>\n",
       "      <th>Flow</th>\n",
       "      <th>Climb Time</th>\n",
       "      <th>Bottom Time</th>\n",
       "      <th>Min Temp</th>\n",
       "      <th>Surface Interval</th>\n",
       "      <th>Decompression</th>\n",
       "      <th>Best Lap Time</th>\n",
       "      <th>Number of Laps</th>\n",
       "      <th>Max Temp</th>\n",
       "    </tr>\n",
       "  </thead>\n",
       "  <tbody>\n",
       "    <tr>\n",
       "      <th>0</th>\n",
       "      <td>Running</td>\n",
       "      <td>2020-10-01 23:42:43</td>\n",
       "      <td>False</td>\n",
       "      <td>West Coast</td>\n",
       "      <td>12.01</td>\n",
       "      <td>628</td>\n",
       "      <td>01:19:02</td>\n",
       "      <td>165</td>\n",
       "      <td>186</td>\n",
       "      <td>3.7</td>\n",
       "      <td>...</td>\n",
       "      <td>0</td>\n",
       "      <td>0</td>\n",
       "      <td>1:19:02</td>\n",
       "      <td>0:00</td>\n",
       "      <td>29</td>\n",
       "      <td>0:00</td>\n",
       "      <td>No</td>\n",
       "      <td>00:02.02</td>\n",
       "      <td>13</td>\n",
       "      <td>0</td>\n",
       "    </tr>\n",
       "    <tr>\n",
       "      <th>1</th>\n",
       "      <td>Running</td>\n",
       "      <td>2020-09-28 23:08:06</td>\n",
       "      <td>False</td>\n",
       "      <td>West Coast</td>\n",
       "      <td>12.01</td>\n",
       "      <td>674</td>\n",
       "      <td>01:22:05</td>\n",
       "      <td>170</td>\n",
       "      <td>184</td>\n",
       "      <td>3.9</td>\n",
       "      <td>...</td>\n",
       "      <td>0</td>\n",
       "      <td>0</td>\n",
       "      <td>1:22:05</td>\n",
       "      <td>0:00</td>\n",
       "      <td>30</td>\n",
       "      <td>0:00</td>\n",
       "      <td>No</td>\n",
       "      <td>00:02.06</td>\n",
       "      <td>13</td>\n",
       "      <td>0</td>\n",
       "    </tr>\n",
       "    <tr>\n",
       "      <th>2</th>\n",
       "      <td>Other</td>\n",
       "      <td>2020-09-27 19:55:18</td>\n",
       "      <td>False</td>\n",
       "      <td>Table Tennis</td>\n",
       "      <td>0.00</td>\n",
       "      <td>612</td>\n",
       "      <td>01:55:53</td>\n",
       "      <td>140</td>\n",
       "      <td>180</td>\n",
       "      <td>3.1</td>\n",
       "      <td>...</td>\n",
       "      <td>0</td>\n",
       "      <td>0</td>\n",
       "      <td>1:55:53</td>\n",
       "      <td>0:00</td>\n",
       "      <td>28</td>\n",
       "      <td>0:00</td>\n",
       "      <td>No</td>\n",
       "      <td>01:55:53.43</td>\n",
       "      <td>1</td>\n",
       "      <td>0</td>\n",
       "    </tr>\n",
       "    <tr>\n",
       "      <th>3</th>\n",
       "      <td>Running</td>\n",
       "      <td>2020-09-24 23:40:59</td>\n",
       "      <td>False</td>\n",
       "      <td>West Coast</td>\n",
       "      <td>8.01</td>\n",
       "      <td>470</td>\n",
       "      <td>00:54:08</td>\n",
       "      <td>171</td>\n",
       "      <td>185</td>\n",
       "      <td>3.6</td>\n",
       "      <td>...</td>\n",
       "      <td>0</td>\n",
       "      <td>0</td>\n",
       "      <td>54:08</td>\n",
       "      <td>0:00</td>\n",
       "      <td>30</td>\n",
       "      <td>0:00</td>\n",
       "      <td>No</td>\n",
       "      <td>00:02.43</td>\n",
       "      <td>9</td>\n",
       "      <td>0</td>\n",
       "    </tr>\n",
       "    <tr>\n",
       "      <th>4</th>\n",
       "      <td>Other</td>\n",
       "      <td>2020-09-23 19:59:19</td>\n",
       "      <td>False</td>\n",
       "      <td>Table Tennis</td>\n",
       "      <td>0.00</td>\n",
       "      <td>873</td>\n",
       "      <td>01:51:55</td>\n",
       "      <td>156</td>\n",
       "      <td>171</td>\n",
       "      <td>3.6</td>\n",
       "      <td>...</td>\n",
       "      <td>0</td>\n",
       "      <td>0</td>\n",
       "      <td>1:51:55</td>\n",
       "      <td>0:00</td>\n",
       "      <td>31</td>\n",
       "      <td>0:00</td>\n",
       "      <td>No</td>\n",
       "      <td>01:51:55.17</td>\n",
       "      <td>1</td>\n",
       "      <td>0</td>\n",
       "    </tr>\n",
       "    <tr>\n",
       "      <th>...</th>\n",
       "      <td>...</td>\n",
       "      <td>...</td>\n",
       "      <td>...</td>\n",
       "      <td>...</td>\n",
       "      <td>...</td>\n",
       "      <td>...</td>\n",
       "      <td>...</td>\n",
       "      <td>...</td>\n",
       "      <td>...</td>\n",
       "      <td>...</td>\n",
       "      <td>...</td>\n",
       "      <td>...</td>\n",
       "      <td>...</td>\n",
       "      <td>...</td>\n",
       "      <td>...</td>\n",
       "      <td>...</td>\n",
       "      <td>...</td>\n",
       "      <td>...</td>\n",
       "      <td>...</td>\n",
       "      <td>...</td>\n",
       "      <td>...</td>\n",
       "    </tr>\n",
       "    <tr>\n",
       "      <th>365</th>\n",
       "      <td>Running</td>\n",
       "      <td>2017-12-20 18:45:50</td>\n",
       "      <td>False</td>\n",
       "      <td>Marina Bay</td>\n",
       "      <td>3.95</td>\n",
       "      <td>--</td>\n",
       "      <td>00:23:55</td>\n",
       "      <td>178</td>\n",
       "      <td>194</td>\n",
       "      <td>--</td>\n",
       "      <td>...</td>\n",
       "      <td>0</td>\n",
       "      <td>0</td>\n",
       "      <td>23:55</td>\n",
       "      <td>0:00</td>\n",
       "      <td>0</td>\n",
       "      <td>0:00</td>\n",
       "      <td>No</td>\n",
       "      <td>00:00.00</td>\n",
       "      <td>1</td>\n",
       "      <td>0</td>\n",
       "    </tr>\n",
       "    <tr>\n",
       "      <th>366</th>\n",
       "      <td>Running</td>\n",
       "      <td>2017-12-08 18:20:38</td>\n",
       "      <td>False</td>\n",
       "      <td>Marina Bay</td>\n",
       "      <td>5.02</td>\n",
       "      <td>--</td>\n",
       "      <td>00:29:17</td>\n",
       "      <td>--</td>\n",
       "      <td>--</td>\n",
       "      <td>--</td>\n",
       "      <td>...</td>\n",
       "      <td>0</td>\n",
       "      <td>0</td>\n",
       "      <td>29:17</td>\n",
       "      <td>0:00</td>\n",
       "      <td>0</td>\n",
       "      <td>0:00</td>\n",
       "      <td>No</td>\n",
       "      <td>00:00.00</td>\n",
       "      <td>1</td>\n",
       "      <td>0</td>\n",
       "    </tr>\n",
       "    <tr>\n",
       "      <th>367</th>\n",
       "      <td>Running</td>\n",
       "      <td>2017-12-05 18:17:43</td>\n",
       "      <td>False</td>\n",
       "      <td>Marina Bay</td>\n",
       "      <td>4.61</td>\n",
       "      <td>--</td>\n",
       "      <td>00:28:19</td>\n",
       "      <td>--</td>\n",
       "      <td>--</td>\n",
       "      <td>--</td>\n",
       "      <td>...</td>\n",
       "      <td>0</td>\n",
       "      <td>0</td>\n",
       "      <td>28:19</td>\n",
       "      <td>0:00</td>\n",
       "      <td>0</td>\n",
       "      <td>0:00</td>\n",
       "      <td>No</td>\n",
       "      <td>00:00.00</td>\n",
       "      <td>1</td>\n",
       "      <td>0</td>\n",
       "    </tr>\n",
       "    <tr>\n",
       "      <th>368</th>\n",
       "      <td>Running</td>\n",
       "      <td>2017-11-30 18:16:51</td>\n",
       "      <td>False</td>\n",
       "      <td>Marina Bay</td>\n",
       "      <td>3.21</td>\n",
       "      <td>--</td>\n",
       "      <td>00:19:14</td>\n",
       "      <td>--</td>\n",
       "      <td>--</td>\n",
       "      <td>--</td>\n",
       "      <td>...</td>\n",
       "      <td>0</td>\n",
       "      <td>0</td>\n",
       "      <td>19:14</td>\n",
       "      <td>0:00</td>\n",
       "      <td>0</td>\n",
       "      <td>0:00</td>\n",
       "      <td>No</td>\n",
       "      <td>00:00.00</td>\n",
       "      <td>1</td>\n",
       "      <td>0</td>\n",
       "    </tr>\n",
       "    <tr>\n",
       "      <th>369</th>\n",
       "      <td>Running</td>\n",
       "      <td>2017-11-27 18:08:37</td>\n",
       "      <td>False</td>\n",
       "      <td>Marina Bay</td>\n",
       "      <td>3.01</td>\n",
       "      <td>--</td>\n",
       "      <td>00:18:18</td>\n",
       "      <td>--</td>\n",
       "      <td>--</td>\n",
       "      <td>--</td>\n",
       "      <td>...</td>\n",
       "      <td>0</td>\n",
       "      <td>0</td>\n",
       "      <td>18:18</td>\n",
       "      <td>0:00</td>\n",
       "      <td>0</td>\n",
       "      <td>0:00</td>\n",
       "      <td>No</td>\n",
       "      <td>00:00.00</td>\n",
       "      <td>1</td>\n",
       "      <td>0</td>\n",
       "    </tr>\n",
       "  </tbody>\n",
       "</table>\n",
       "<p>370 rows × 34 columns</p>\n",
       "</div>"
      ],
      "text/plain": [
       "    Activity Type                 Date  Favorite         Title  Distance  \\\n",
       "0         Running  2020-10-01 23:42:43     False    West Coast     12.01   \n",
       "1         Running  2020-09-28 23:08:06     False    West Coast     12.01   \n",
       "2           Other  2020-09-27 19:55:18     False  Table Tennis      0.00   \n",
       "3         Running  2020-09-24 23:40:59     False    West Coast      8.01   \n",
       "4           Other  2020-09-23 19:59:19     False  Table Tennis      0.00   \n",
       "..            ...                  ...       ...           ...       ...   \n",
       "365       Running  2017-12-20 18:45:50     False    Marina Bay      3.95   \n",
       "366       Running  2017-12-08 18:20:38     False    Marina Bay      5.02   \n",
       "367       Running  2017-12-05 18:17:43     False    Marina Bay      4.61   \n",
       "368       Running  2017-11-30 18:16:51     False    Marina Bay      3.21   \n",
       "369       Running  2017-11-27 18:08:37     False    Marina Bay      3.01   \n",
       "\n",
       "    Calories      Time Avg HR Max HR Aerobic TE  ... Grit Flow Climb Time  \\\n",
       "0        628  01:19:02    165    186        3.7  ...    0    0    1:19:02   \n",
       "1        674  01:22:05    170    184        3.9  ...    0    0    1:22:05   \n",
       "2        612  01:55:53    140    180        3.1  ...    0    0    1:55:53   \n",
       "3        470  00:54:08    171    185        3.6  ...    0    0      54:08   \n",
       "4        873  01:51:55    156    171        3.6  ...    0    0    1:51:55   \n",
       "..       ...       ...    ...    ...        ...  ...  ...  ...        ...   \n",
       "365       --  00:23:55    178    194         --  ...    0    0      23:55   \n",
       "366       --  00:29:17     --     --         --  ...    0    0      29:17   \n",
       "367       --  00:28:19     --     --         --  ...    0    0      28:19   \n",
       "368       --  00:19:14     --     --         --  ...    0    0      19:14   \n",
       "369       --  00:18:18     --     --         --  ...    0    0      18:18   \n",
       "\n",
       "    Bottom Time Min Temp Surface Interval  Decompression  Best Lap Time  \\\n",
       "0          0:00       29             0:00             No       00:02.02   \n",
       "1          0:00       30             0:00             No       00:02.06   \n",
       "2          0:00       28             0:00             No    01:55:53.43   \n",
       "3          0:00       30             0:00             No       00:02.43   \n",
       "4          0:00       31             0:00             No    01:51:55.17   \n",
       "..          ...      ...              ...            ...            ...   \n",
       "365        0:00        0             0:00             No       00:00.00   \n",
       "366        0:00        0             0:00             No       00:00.00   \n",
       "367        0:00        0             0:00             No       00:00.00   \n",
       "368        0:00        0             0:00             No       00:00.00   \n",
       "369        0:00        0             0:00             No       00:00.00   \n",
       "\n",
       "     Number of Laps Max Temp  \n",
       "0                13        0  \n",
       "1                13        0  \n",
       "2                 1        0  \n",
       "3                 9        0  \n",
       "4                 1        0  \n",
       "..              ...      ...  \n",
       "365               1        0  \n",
       "366               1        0  \n",
       "367               1        0  \n",
       "368               1        0  \n",
       "369               1        0  \n",
       "\n",
       "[370 rows x 34 columns]"
      ]
     },
     "execution_count": 2,
     "metadata": {},
     "output_type": "execute_result"
    }
   ],
   "source": [
    "df = pd.read_csv('./data/activities_20201001.csv')\n",
    "df"
   ]
  },
  {
   "cell_type": "code",
   "execution_count": 3,
   "metadata": {},
   "outputs": [
    {
     "data": {
      "text/plain": [
       "Index(['Activity Type', 'Date', 'Favorite', 'Title', 'Distance', 'Calories',\n",
       "       'Time', 'Avg HR', 'Max HR', 'Aerobic TE', 'Avg Run Cadence',\n",
       "       'Max Run Cadence', 'Avg Pace', 'Best Pace', 'Elev Gain', 'Elev Loss',\n",
       "       'Avg Stride Length', 'Avg Vertical Ratio', 'Avg Vertical Oscillation',\n",
       "       'Avg Ground Contact Time', 'Avg GCT Balance', 'Avg Run Cadence.1',\n",
       "       'Max Run Cadence.1', 'Training Stress Score®', 'Grit', 'Flow',\n",
       "       'Climb Time', 'Bottom Time', 'Min Temp', 'Surface Interval',\n",
       "       'Decompression', 'Best Lap Time', 'Number of Laps', 'Max Temp'],\n",
       "      dtype='object')"
      ]
     },
     "execution_count": 3,
     "metadata": {},
     "output_type": "execute_result"
    }
   ],
   "source": [
    "df.columns"
   ]
  },
  {
   "cell_type": "code",
   "execution_count": 4,
   "metadata": {},
   "outputs": [
    {
     "data": {
      "text/html": [
       "<div>\n",
       "<style scoped>\n",
       "    .dataframe tbody tr th:only-of-type {\n",
       "        vertical-align: middle;\n",
       "    }\n",
       "\n",
       "    .dataframe tbody tr th {\n",
       "        vertical-align: top;\n",
       "    }\n",
       "\n",
       "    .dataframe thead th {\n",
       "        text-align: right;\n",
       "    }\n",
       "</style>\n",
       "<table border=\"1\" class=\"dataframe\">\n",
       "  <thead>\n",
       "    <tr style=\"text-align: right;\">\n",
       "      <th></th>\n",
       "      <th>Activity Type</th>\n",
       "      <th>Date</th>\n",
       "      <th>Title</th>\n",
       "      <th>Distance</th>\n",
       "      <th>Calories</th>\n",
       "      <th>Time</th>\n",
       "      <th>Avg HR</th>\n",
       "      <th>Max HR</th>\n",
       "      <th>Aerobic TE</th>\n",
       "      <th>Avg Run Cadence</th>\n",
       "      <th>Avg Pace</th>\n",
       "      <th>Elev Gain</th>\n",
       "      <th>Elev Loss</th>\n",
       "      <th>Avg Stride Length</th>\n",
       "      <th>Min Temp</th>\n",
       "    </tr>\n",
       "  </thead>\n",
       "  <tbody>\n",
       "    <tr>\n",
       "      <th>0</th>\n",
       "      <td>Running</td>\n",
       "      <td>2020-10-01 23:42:43</td>\n",
       "      <td>West Coast</td>\n",
       "      <td>12.01</td>\n",
       "      <td>628</td>\n",
       "      <td>01:19:02</td>\n",
       "      <td>165</td>\n",
       "      <td>186</td>\n",
       "      <td>3.7</td>\n",
       "      <td>154</td>\n",
       "      <td>6:35</td>\n",
       "      <td>38</td>\n",
       "      <td>21</td>\n",
       "      <td>0.98</td>\n",
       "      <td>29</td>\n",
       "    </tr>\n",
       "    <tr>\n",
       "      <th>1</th>\n",
       "      <td>Running</td>\n",
       "      <td>2020-09-28 23:08:06</td>\n",
       "      <td>West Coast</td>\n",
       "      <td>12.01</td>\n",
       "      <td>674</td>\n",
       "      <td>01:22:05</td>\n",
       "      <td>170</td>\n",
       "      <td>184</td>\n",
       "      <td>3.9</td>\n",
       "      <td>153</td>\n",
       "      <td>6:50</td>\n",
       "      <td>30</td>\n",
       "      <td>28</td>\n",
       "      <td>0.95</td>\n",
       "      <td>30</td>\n",
       "    </tr>\n",
       "    <tr>\n",
       "      <th>2</th>\n",
       "      <td>Other</td>\n",
       "      <td>2020-09-27 19:55:18</td>\n",
       "      <td>Table Tennis</td>\n",
       "      <td>0.00</td>\n",
       "      <td>612</td>\n",
       "      <td>01:55:53</td>\n",
       "      <td>140</td>\n",
       "      <td>180</td>\n",
       "      <td>3.1</td>\n",
       "      <td>8</td>\n",
       "      <td>NaN</td>\n",
       "      <td>NaN</td>\n",
       "      <td>NaN</td>\n",
       "      <td>0.00</td>\n",
       "      <td>28</td>\n",
       "    </tr>\n",
       "    <tr>\n",
       "      <th>3</th>\n",
       "      <td>Running</td>\n",
       "      <td>2020-09-24 23:40:59</td>\n",
       "      <td>West Coast</td>\n",
       "      <td>8.01</td>\n",
       "      <td>470</td>\n",
       "      <td>00:54:08</td>\n",
       "      <td>171</td>\n",
       "      <td>185</td>\n",
       "      <td>3.6</td>\n",
       "      <td>154</td>\n",
       "      <td>6:46</td>\n",
       "      <td>17</td>\n",
       "      <td>16</td>\n",
       "      <td>0.96</td>\n",
       "      <td>30</td>\n",
       "    </tr>\n",
       "    <tr>\n",
       "      <th>4</th>\n",
       "      <td>Other</td>\n",
       "      <td>2020-09-23 19:59:19</td>\n",
       "      <td>Table Tennis</td>\n",
       "      <td>0.00</td>\n",
       "      <td>873</td>\n",
       "      <td>01:51:55</td>\n",
       "      <td>156</td>\n",
       "      <td>171</td>\n",
       "      <td>3.6</td>\n",
       "      <td>8</td>\n",
       "      <td>NaN</td>\n",
       "      <td>NaN</td>\n",
       "      <td>NaN</td>\n",
       "      <td>0.00</td>\n",
       "      <td>31</td>\n",
       "    </tr>\n",
       "    <tr>\n",
       "      <th>...</th>\n",
       "      <td>...</td>\n",
       "      <td>...</td>\n",
       "      <td>...</td>\n",
       "      <td>...</td>\n",
       "      <td>...</td>\n",
       "      <td>...</td>\n",
       "      <td>...</td>\n",
       "      <td>...</td>\n",
       "      <td>...</td>\n",
       "      <td>...</td>\n",
       "      <td>...</td>\n",
       "      <td>...</td>\n",
       "      <td>...</td>\n",
       "      <td>...</td>\n",
       "      <td>...</td>\n",
       "    </tr>\n",
       "    <tr>\n",
       "      <th>365</th>\n",
       "      <td>Running</td>\n",
       "      <td>2017-12-20 18:45:50</td>\n",
       "      <td>Marina Bay</td>\n",
       "      <td>3.95</td>\n",
       "      <td>NaN</td>\n",
       "      <td>00:23:55</td>\n",
       "      <td>178</td>\n",
       "      <td>194</td>\n",
       "      <td>NaN</td>\n",
       "      <td>NaN</td>\n",
       "      <td>6:03</td>\n",
       "      <td>89</td>\n",
       "      <td>120</td>\n",
       "      <td>0.00</td>\n",
       "      <td>0</td>\n",
       "    </tr>\n",
       "    <tr>\n",
       "      <th>366</th>\n",
       "      <td>Running</td>\n",
       "      <td>2017-12-08 18:20:38</td>\n",
       "      <td>Marina Bay</td>\n",
       "      <td>5.02</td>\n",
       "      <td>NaN</td>\n",
       "      <td>00:29:17</td>\n",
       "      <td>NaN</td>\n",
       "      <td>NaN</td>\n",
       "      <td>NaN</td>\n",
       "      <td>NaN</td>\n",
       "      <td>5:50</td>\n",
       "      <td>111</td>\n",
       "      <td>107</td>\n",
       "      <td>0.00</td>\n",
       "      <td>0</td>\n",
       "    </tr>\n",
       "    <tr>\n",
       "      <th>367</th>\n",
       "      <td>Running</td>\n",
       "      <td>2017-12-05 18:17:43</td>\n",
       "      <td>Marina Bay</td>\n",
       "      <td>4.61</td>\n",
       "      <td>NaN</td>\n",
       "      <td>00:28:19</td>\n",
       "      <td>NaN</td>\n",
       "      <td>NaN</td>\n",
       "      <td>NaN</td>\n",
       "      <td>NaN</td>\n",
       "      <td>6:08</td>\n",
       "      <td>69</td>\n",
       "      <td>97</td>\n",
       "      <td>0.00</td>\n",
       "      <td>0</td>\n",
       "    </tr>\n",
       "    <tr>\n",
       "      <th>368</th>\n",
       "      <td>Running</td>\n",
       "      <td>2017-11-30 18:16:51</td>\n",
       "      <td>Marina Bay</td>\n",
       "      <td>3.21</td>\n",
       "      <td>NaN</td>\n",
       "      <td>00:19:14</td>\n",
       "      <td>NaN</td>\n",
       "      <td>NaN</td>\n",
       "      <td>NaN</td>\n",
       "      <td>NaN</td>\n",
       "      <td>6:00</td>\n",
       "      <td>9</td>\n",
       "      <td>43</td>\n",
       "      <td>0.00</td>\n",
       "      <td>0</td>\n",
       "    </tr>\n",
       "    <tr>\n",
       "      <th>369</th>\n",
       "      <td>Running</td>\n",
       "      <td>2017-11-27 18:08:37</td>\n",
       "      <td>Marina Bay</td>\n",
       "      <td>3.01</td>\n",
       "      <td>NaN</td>\n",
       "      <td>00:18:18</td>\n",
       "      <td>NaN</td>\n",
       "      <td>NaN</td>\n",
       "      <td>NaN</td>\n",
       "      <td>NaN</td>\n",
       "      <td>6:05</td>\n",
       "      <td>45</td>\n",
       "      <td>50</td>\n",
       "      <td>0.00</td>\n",
       "      <td>0</td>\n",
       "    </tr>\n",
       "  </tbody>\n",
       "</table>\n",
       "<p>370 rows × 15 columns</p>\n",
       "</div>"
      ],
      "text/plain": [
       "    Activity Type                 Date         Title  Distance Calories  \\\n",
       "0         Running  2020-10-01 23:42:43    West Coast     12.01      628   \n",
       "1         Running  2020-09-28 23:08:06    West Coast     12.01      674   \n",
       "2           Other  2020-09-27 19:55:18  Table Tennis      0.00      612   \n",
       "3         Running  2020-09-24 23:40:59    West Coast      8.01      470   \n",
       "4           Other  2020-09-23 19:59:19  Table Tennis      0.00      873   \n",
       "..            ...                  ...           ...       ...      ...   \n",
       "365       Running  2017-12-20 18:45:50    Marina Bay      3.95      NaN   \n",
       "366       Running  2017-12-08 18:20:38    Marina Bay      5.02      NaN   \n",
       "367       Running  2017-12-05 18:17:43    Marina Bay      4.61      NaN   \n",
       "368       Running  2017-11-30 18:16:51    Marina Bay      3.21      NaN   \n",
       "369       Running  2017-11-27 18:08:37    Marina Bay      3.01      NaN   \n",
       "\n",
       "         Time Avg HR Max HR Aerobic TE Avg Run Cadence Avg Pace Elev Gain  \\\n",
       "0    01:19:02    165    186        3.7             154     6:35        38   \n",
       "1    01:22:05    170    184        3.9             153     6:50        30   \n",
       "2    01:55:53    140    180        3.1               8      NaN       NaN   \n",
       "3    00:54:08    171    185        3.6             154     6:46        17   \n",
       "4    01:51:55    156    171        3.6               8      NaN       NaN   \n",
       "..        ...    ...    ...        ...             ...      ...       ...   \n",
       "365  00:23:55    178    194        NaN             NaN     6:03        89   \n",
       "366  00:29:17    NaN    NaN        NaN             NaN     5:50       111   \n",
       "367  00:28:19    NaN    NaN        NaN             NaN     6:08        69   \n",
       "368  00:19:14    NaN    NaN        NaN             NaN     6:00         9   \n",
       "369  00:18:18    NaN    NaN        NaN             NaN     6:05        45   \n",
       "\n",
       "    Elev Loss  Avg Stride Length  Min Temp  \n",
       "0          21               0.98        29  \n",
       "1          28               0.95        30  \n",
       "2         NaN               0.00        28  \n",
       "3          16               0.96        30  \n",
       "4         NaN               0.00        31  \n",
       "..        ...                ...       ...  \n",
       "365       120               0.00         0  \n",
       "366       107               0.00         0  \n",
       "367        97               0.00         0  \n",
       "368        43               0.00         0  \n",
       "369        50               0.00         0  \n",
       "\n",
       "[370 rows x 15 columns]"
      ]
     },
     "execution_count": 4,
     "metadata": {},
     "output_type": "execute_result"
    }
   ],
   "source": [
    "# Drop irrelevant columns, and replace all missing data with np.nan.\n",
    "\n",
    "relevant_columns = [\n",
    "    'Activity Type', 'Date', 'Title', 'Distance', 'Calories', 'Time', 'Avg HR', \n",
    "    'Max HR', 'Aerobic TE', 'Avg Run Cadence', 'Avg Pace', 'Elev Gain', \n",
    "    'Elev Loss', 'Avg Stride Length', 'Min Temp'\n",
    "]\n",
    "\n",
    "df = df[relevant_columns]\n",
    "\n",
    "df = df.applymap(lambda x: np.nan if x == '--' else x)\n",
    "\n",
    "df"
   ]
  },
  {
   "cell_type": "code",
   "execution_count": 5,
   "metadata": {},
   "outputs": [
    {
     "data": {
      "text/plain": [
       "Activity Type         object\n",
       "Date                  object\n",
       "Title                 object\n",
       "Distance             float64\n",
       "Calories              object\n",
       "Time                  object\n",
       "Avg HR                object\n",
       "Max HR                object\n",
       "Aerobic TE            object\n",
       "Avg Run Cadence       object\n",
       "Avg Pace              object\n",
       "Elev Gain             object\n",
       "Elev Loss             object\n",
       "Avg Stride Length    float64\n",
       "Min Temp               int64\n",
       "dtype: object"
      ]
     },
     "execution_count": 5,
     "metadata": {},
     "output_type": "execute_result"
    }
   ],
   "source": [
    "df.dtypes"
   ]
  },
  {
   "cell_type": "code",
   "execution_count": 42,
   "metadata": {},
   "outputs": [
    {
     "data": {
      "text/plain": [
       "Activity Type               category\n",
       "Date                  datetime64[ns]\n",
       "Title                       category\n",
       "Distance                     float64\n",
       "Calories                     float64\n",
       "Time                 timedelta64[ns]\n",
       "Avg HR                       float64\n",
       "Max HR                       float64\n",
       "Aerobic TE                   float64\n",
       "Avg Run Cadence              float64\n",
       "Avg Pace                      object\n",
       "Elev Gain                    float64\n",
       "Elev Loss                    float64\n",
       "Avg Stride Length            float64\n",
       "Min Temp                       int64\n",
       "Year                        category\n",
       "Month                       category\n",
       "Hour                        category\n",
       "dtype: object"
      ]
     },
     "execution_count": 42,
     "metadata": {},
     "output_type": "execute_result"
    }
   ],
   "source": [
    "# Parse date and timedelta columns.\n",
    "df.Date = pd.to_datetime(df.Date)\n",
    "df['Time'] = pd.to_timedelta(df['Time'])\n",
    "\n",
    "# Add in a 'Year', 'Month' and 'Hour' columns.\n",
    "df['Year'] = pd.DatetimeIndex(df['Date']).year\n",
    "df['Month'] = pd.DatetimeIndex(df['Date']).month\n",
    "df['Hour'] = pd.DatetimeIndex(df['Date']).hour\n",
    "\n",
    "# Change column types.\n",
    "col_types = {\n",
    "    'Activity Type': 'category',\n",
    "    'Title': 'category',\n",
    "    'Calories': 'float64',\n",
    "    'Avg HR': 'float64',\n",
    "    'Max HR': 'float64',\n",
    "    'Aerobic TE': 'float64',\n",
    "    'Avg Run Cadence': 'float64',\n",
    "    'Elev Gain': 'float64',\n",
    "    'Elev Loss': 'float64',\n",
    "    'Year': 'category',\n",
    "    'Month': 'category',\n",
    "    'Hour': 'category'\n",
    "}\n",
    "df = df.astype(col_types)\n",
    "\n",
    "# df.Calories = df.Calories.astype('Int64')\n",
    "# df['Avg HR'] = df['Avg HR'].astype('Int64')\n",
    "# df['Max HR'] = df['Max HR'].astype('Int64')\n",
    "# df['Avg Run Cadence'] = df['Avg Run Cadence'].astype('Int64')\n",
    "# df['Elev Gain'] = df['Elev Gain'].astype('Int64')\n",
    "# df['Elev Loss'] = df['Elev Loss'].astype('Int64')\n",
    "\n",
    "df.dtypes"
   ]
  },
  {
   "cell_type": "code",
   "execution_count": 43,
   "metadata": {},
   "outputs": [
    {
     "data": {
      "text/plain": [
       "{'Cycling',\n",
       " 'Hiking',\n",
       " 'Indoor Cycling',\n",
       " 'Indoor Running',\n",
       " 'Other',\n",
       " 'Running',\n",
       " 'Treadmill Running'}"
      ]
     },
     "execution_count": 43,
     "metadata": {},
     "output_type": "execute_result"
    }
   ],
   "source": [
    "set(df['Activity Type'])"
   ]
  },
  {
   "cell_type": "code",
   "execution_count": 44,
   "metadata": {},
   "outputs": [
    {
     "data": {
      "text/html": [
       "<div>\n",
       "<style scoped>\n",
       "    .dataframe tbody tr th:only-of-type {\n",
       "        vertical-align: middle;\n",
       "    }\n",
       "\n",
       "    .dataframe tbody tr th {\n",
       "        vertical-align: top;\n",
       "    }\n",
       "\n",
       "    .dataframe thead th {\n",
       "        text-align: right;\n",
       "    }\n",
       "</style>\n",
       "<table border=\"1\" class=\"dataframe\">\n",
       "  <thead>\n",
       "    <tr style=\"text-align: right;\">\n",
       "      <th></th>\n",
       "      <th>Activity Type</th>\n",
       "      <th>Date</th>\n",
       "      <th>Title</th>\n",
       "      <th>Distance</th>\n",
       "      <th>Calories</th>\n",
       "      <th>Time</th>\n",
       "      <th>Avg HR</th>\n",
       "      <th>Max HR</th>\n",
       "      <th>Aerobic TE</th>\n",
       "      <th>Avg Run Cadence</th>\n",
       "      <th>Avg Pace</th>\n",
       "      <th>Elev Gain</th>\n",
       "      <th>Elev Loss</th>\n",
       "      <th>Avg Stride Length</th>\n",
       "      <th>Min Temp</th>\n",
       "      <th>Year</th>\n",
       "      <th>Month</th>\n",
       "      <th>Hour</th>\n",
       "    </tr>\n",
       "  </thead>\n",
       "  <tbody>\n",
       "    <tr>\n",
       "      <th>0</th>\n",
       "      <td>Running</td>\n",
       "      <td>2020-10-01 23:42:43</td>\n",
       "      <td>West Coast</td>\n",
       "      <td>12.01</td>\n",
       "      <td>628.0</td>\n",
       "      <td>0 days 01:19:02</td>\n",
       "      <td>165.0</td>\n",
       "      <td>186.0</td>\n",
       "      <td>3.7</td>\n",
       "      <td>154.0</td>\n",
       "      <td>6.583333</td>\n",
       "      <td>38.0</td>\n",
       "      <td>21.0</td>\n",
       "      <td>0.98</td>\n",
       "      <td>29</td>\n",
       "      <td>2020</td>\n",
       "      <td>10</td>\n",
       "      <td>23</td>\n",
       "    </tr>\n",
       "    <tr>\n",
       "      <th>1</th>\n",
       "      <td>Running</td>\n",
       "      <td>2020-09-28 23:08:06</td>\n",
       "      <td>West Coast</td>\n",
       "      <td>12.01</td>\n",
       "      <td>674.0</td>\n",
       "      <td>0 days 01:22:05</td>\n",
       "      <td>170.0</td>\n",
       "      <td>184.0</td>\n",
       "      <td>3.9</td>\n",
       "      <td>153.0</td>\n",
       "      <td>6.833333</td>\n",
       "      <td>30.0</td>\n",
       "      <td>28.0</td>\n",
       "      <td>0.95</td>\n",
       "      <td>30</td>\n",
       "      <td>2020</td>\n",
       "      <td>9</td>\n",
       "      <td>23</td>\n",
       "    </tr>\n",
       "    <tr>\n",
       "      <th>2</th>\n",
       "      <td>Running</td>\n",
       "      <td>2020-09-24 23:40:59</td>\n",
       "      <td>West Coast</td>\n",
       "      <td>8.01</td>\n",
       "      <td>470.0</td>\n",
       "      <td>0 days 00:54:08</td>\n",
       "      <td>171.0</td>\n",
       "      <td>185.0</td>\n",
       "      <td>3.6</td>\n",
       "      <td>154.0</td>\n",
       "      <td>6.766667</td>\n",
       "      <td>17.0</td>\n",
       "      <td>16.0</td>\n",
       "      <td>0.96</td>\n",
       "      <td>30</td>\n",
       "      <td>2020</td>\n",
       "      <td>9</td>\n",
       "      <td>23</td>\n",
       "    </tr>\n",
       "    <tr>\n",
       "      <th>3</th>\n",
       "      <td>Running</td>\n",
       "      <td>2020-09-19 23:28:36</td>\n",
       "      <td>West Coast</td>\n",
       "      <td>2.05</td>\n",
       "      <td>97.0</td>\n",
       "      <td>0 days 00:10:11</td>\n",
       "      <td>171.0</td>\n",
       "      <td>193.0</td>\n",
       "      <td>2.5</td>\n",
       "      <td>168.0</td>\n",
       "      <td>4.966667</td>\n",
       "      <td>8.0</td>\n",
       "      <td>8.0</td>\n",
       "      <td>1.20</td>\n",
       "      <td>30</td>\n",
       "      <td>2020</td>\n",
       "      <td>9</td>\n",
       "      <td>23</td>\n",
       "    </tr>\n",
       "    <tr>\n",
       "      <th>4</th>\n",
       "      <td>Running</td>\n",
       "      <td>2020-09-16 23:22:58</td>\n",
       "      <td>West Coast</td>\n",
       "      <td>12.01</td>\n",
       "      <td>664.0</td>\n",
       "      <td>0 days 01:19:10</td>\n",
       "      <td>165.0</td>\n",
       "      <td>177.0</td>\n",
       "      <td>3.6</td>\n",
       "      <td>157.0</td>\n",
       "      <td>6.600000</td>\n",
       "      <td>40.0</td>\n",
       "      <td>27.0</td>\n",
       "      <td>0.97</td>\n",
       "      <td>29</td>\n",
       "      <td>2020</td>\n",
       "      <td>9</td>\n",
       "      <td>23</td>\n",
       "    </tr>\n",
       "    <tr>\n",
       "      <th>...</th>\n",
       "      <td>...</td>\n",
       "      <td>...</td>\n",
       "      <td>...</td>\n",
       "      <td>...</td>\n",
       "      <td>...</td>\n",
       "      <td>...</td>\n",
       "      <td>...</td>\n",
       "      <td>...</td>\n",
       "      <td>...</td>\n",
       "      <td>...</td>\n",
       "      <td>...</td>\n",
       "      <td>...</td>\n",
       "      <td>...</td>\n",
       "      <td>...</td>\n",
       "      <td>...</td>\n",
       "      <td>...</td>\n",
       "      <td>...</td>\n",
       "      <td>...</td>\n",
       "    </tr>\n",
       "    <tr>\n",
       "      <th>229</th>\n",
       "      <td>Running</td>\n",
       "      <td>2017-12-20 18:45:50</td>\n",
       "      <td>Marina Bay</td>\n",
       "      <td>3.95</td>\n",
       "      <td>NaN</td>\n",
       "      <td>0 days 00:23:55</td>\n",
       "      <td>178.0</td>\n",
       "      <td>194.0</td>\n",
       "      <td>NaN</td>\n",
       "      <td>NaN</td>\n",
       "      <td>6.050000</td>\n",
       "      <td>89.0</td>\n",
       "      <td>120.0</td>\n",
       "      <td>0.00</td>\n",
       "      <td>0</td>\n",
       "      <td>2017</td>\n",
       "      <td>12</td>\n",
       "      <td>18</td>\n",
       "    </tr>\n",
       "    <tr>\n",
       "      <th>230</th>\n",
       "      <td>Running</td>\n",
       "      <td>2017-12-08 18:20:38</td>\n",
       "      <td>Marina Bay</td>\n",
       "      <td>5.02</td>\n",
       "      <td>NaN</td>\n",
       "      <td>0 days 00:29:17</td>\n",
       "      <td>NaN</td>\n",
       "      <td>NaN</td>\n",
       "      <td>NaN</td>\n",
       "      <td>NaN</td>\n",
       "      <td>5.833333</td>\n",
       "      <td>111.0</td>\n",
       "      <td>107.0</td>\n",
       "      <td>0.00</td>\n",
       "      <td>0</td>\n",
       "      <td>2017</td>\n",
       "      <td>12</td>\n",
       "      <td>18</td>\n",
       "    </tr>\n",
       "    <tr>\n",
       "      <th>231</th>\n",
       "      <td>Running</td>\n",
       "      <td>2017-12-05 18:17:43</td>\n",
       "      <td>Marina Bay</td>\n",
       "      <td>4.61</td>\n",
       "      <td>NaN</td>\n",
       "      <td>0 days 00:28:19</td>\n",
       "      <td>NaN</td>\n",
       "      <td>NaN</td>\n",
       "      <td>NaN</td>\n",
       "      <td>NaN</td>\n",
       "      <td>6.133333</td>\n",
       "      <td>69.0</td>\n",
       "      <td>97.0</td>\n",
       "      <td>0.00</td>\n",
       "      <td>0</td>\n",
       "      <td>2017</td>\n",
       "      <td>12</td>\n",
       "      <td>18</td>\n",
       "    </tr>\n",
       "    <tr>\n",
       "      <th>232</th>\n",
       "      <td>Running</td>\n",
       "      <td>2017-11-30 18:16:51</td>\n",
       "      <td>Marina Bay</td>\n",
       "      <td>3.21</td>\n",
       "      <td>NaN</td>\n",
       "      <td>0 days 00:19:14</td>\n",
       "      <td>NaN</td>\n",
       "      <td>NaN</td>\n",
       "      <td>NaN</td>\n",
       "      <td>NaN</td>\n",
       "      <td>6.000000</td>\n",
       "      <td>9.0</td>\n",
       "      <td>43.0</td>\n",
       "      <td>0.00</td>\n",
       "      <td>0</td>\n",
       "      <td>2017</td>\n",
       "      <td>11</td>\n",
       "      <td>18</td>\n",
       "    </tr>\n",
       "    <tr>\n",
       "      <th>233</th>\n",
       "      <td>Running</td>\n",
       "      <td>2017-11-27 18:08:37</td>\n",
       "      <td>Marina Bay</td>\n",
       "      <td>3.01</td>\n",
       "      <td>NaN</td>\n",
       "      <td>0 days 00:18:18</td>\n",
       "      <td>NaN</td>\n",
       "      <td>NaN</td>\n",
       "      <td>NaN</td>\n",
       "      <td>NaN</td>\n",
       "      <td>6.083333</td>\n",
       "      <td>45.0</td>\n",
       "      <td>50.0</td>\n",
       "      <td>0.00</td>\n",
       "      <td>0</td>\n",
       "      <td>2017</td>\n",
       "      <td>11</td>\n",
       "      <td>18</td>\n",
       "    </tr>\n",
       "  </tbody>\n",
       "</table>\n",
       "<p>234 rows × 18 columns</p>\n",
       "</div>"
      ],
      "text/plain": [
       "    Activity Type                Date       Title  Distance  Calories  \\\n",
       "0         Running 2020-10-01 23:42:43  West Coast     12.01     628.0   \n",
       "1         Running 2020-09-28 23:08:06  West Coast     12.01     674.0   \n",
       "2         Running 2020-09-24 23:40:59  West Coast      8.01     470.0   \n",
       "3         Running 2020-09-19 23:28:36  West Coast      2.05      97.0   \n",
       "4         Running 2020-09-16 23:22:58  West Coast     12.01     664.0   \n",
       "..            ...                 ...         ...       ...       ...   \n",
       "229       Running 2017-12-20 18:45:50  Marina Bay      3.95       NaN   \n",
       "230       Running 2017-12-08 18:20:38  Marina Bay      5.02       NaN   \n",
       "231       Running 2017-12-05 18:17:43  Marina Bay      4.61       NaN   \n",
       "232       Running 2017-11-30 18:16:51  Marina Bay      3.21       NaN   \n",
       "233       Running 2017-11-27 18:08:37  Marina Bay      3.01       NaN   \n",
       "\n",
       "               Time  Avg HR  Max HR  Aerobic TE  Avg Run Cadence  Avg Pace  \\\n",
       "0   0 days 01:19:02   165.0   186.0         3.7            154.0  6.583333   \n",
       "1   0 days 01:22:05   170.0   184.0         3.9            153.0  6.833333   \n",
       "2   0 days 00:54:08   171.0   185.0         3.6            154.0  6.766667   \n",
       "3   0 days 00:10:11   171.0   193.0         2.5            168.0  4.966667   \n",
       "4   0 days 01:19:10   165.0   177.0         3.6            157.0  6.600000   \n",
       "..              ...     ...     ...         ...              ...       ...   \n",
       "229 0 days 00:23:55   178.0   194.0         NaN              NaN  6.050000   \n",
       "230 0 days 00:29:17     NaN     NaN         NaN              NaN  5.833333   \n",
       "231 0 days 00:28:19     NaN     NaN         NaN              NaN  6.133333   \n",
       "232 0 days 00:19:14     NaN     NaN         NaN              NaN  6.000000   \n",
       "233 0 days 00:18:18     NaN     NaN         NaN              NaN  6.083333   \n",
       "\n",
       "     Elev Gain  Elev Loss  Avg Stride Length  Min Temp  Year Month Hour  \n",
       "0         38.0       21.0               0.98        29  2020    10   23  \n",
       "1         30.0       28.0               0.95        30  2020     9   23  \n",
       "2         17.0       16.0               0.96        30  2020     9   23  \n",
       "3          8.0        8.0               1.20        30  2020     9   23  \n",
       "4         40.0       27.0               0.97        29  2020     9   23  \n",
       "..         ...        ...                ...       ...   ...   ...  ...  \n",
       "229       89.0      120.0               0.00         0  2017    12   18  \n",
       "230      111.0      107.0               0.00         0  2017    12   18  \n",
       "231       69.0       97.0               0.00         0  2017    12   18  \n",
       "232        9.0       43.0               0.00         0  2017    11   18  \n",
       "233       45.0       50.0               0.00         0  2017    11   18  \n",
       "\n",
       "[234 rows x 18 columns]"
      ]
     },
     "execution_count": 44,
     "metadata": {},
     "output_type": "execute_result"
    }
   ],
   "source": [
    "# Running data only.\n",
    "running_df = df[df['Activity Type'].isin(['Indoor Running', 'Running', 'Treadmill Running'])].reset_index(drop=True)\n",
    "\n",
    "# Convert 'Avg Pace' column from 'mm:ss' string to decimal (float64).\n",
    "running_df['Avg Pace'] = running_df['Avg Pace'].map(lambda x: '00:0' + x)\n",
    "running_df['Avg Pace'] = pd\\\n",
    "    .to_timedelta(running_df['Avg Pace'])\\\n",
    "    .map(lambda x: x.total_seconds()/60)\n",
    "\n",
    "running_df"
   ]
  },
  {
   "cell_type": "code",
   "execution_count": 49,
   "metadata": {},
   "outputs": [
    {
     "data": {
      "application/vnd.plotly.v1+json": {
       "config": {
        "plotlyServerURL": "https://plot.ly"
       },
       "data": [
        {
         "hovertemplate": "Year=2020<br>Distance=%{x}<br>Avg Pace=%{y}<extra></extra>",
         "legendgroup": "2020",
         "marker": {
          "color": "#636efa",
          "symbol": "circle"
         },
         "mode": "markers",
         "name": "2020",
         "orientation": "v",
         "showlegend": true,
         "type": "scatter",
         "x": [
          12.01,
          12.01,
          8.01,
          2.05,
          12.01,
          7.01,
          4.71,
          12.01,
          8.8,
          7.52,
          4.01,
          10.01,
          3.51,
          9.01,
          5.01,
          12.01,
          10,
          4.9,
          5.01,
          7.01,
          5.01,
          3.01,
          7.01,
          3.33,
          5.33,
          4.01,
          2.01,
          4.01,
          3.21,
          5.01,
          3.01,
          4.01,
          3.33,
          3.36,
          2.3,
          2.01,
          4.01,
          3.25,
          2.7,
          4.01,
          3.01,
          7.01,
          4.51,
          3.75,
          5.21,
          3.01,
          5.51,
          4.26,
          3.26,
          7.63,
          4.6,
          3.51,
          7.01,
          7.25,
          7.51
         ],
         "xaxis": "x",
         "y": [
          6.583333333333333,
          6.833333333333333,
          6.766666666666667,
          4.966666666666667,
          6.6,
          6.5,
          5.8,
          6.866666666666666,
          6.75,
          6.516666666666667,
          5.7,
          6.883333333333334,
          5.833333333333333,
          6.766666666666667,
          5.766666666666667,
          6.95,
          6.85,
          6.916666666666667,
          6.216666666666667,
          6.966666666666667,
          6.45,
          6.45,
          6.933333333333334,
          6.95,
          6.85,
          6.366666666666666,
          5.916666666666667,
          6.933333333333334,
          6.433333333333334,
          6.883333333333334,
          6.483333333333333,
          6.966666666666667,
          7.083333333333333,
          7.316666666666666,
          6.316666666666666,
          6.733333333333333,
          6.583333333333333,
          6.466666666666667,
          6.5,
          6.983333333333333,
          6.433333333333334,
          6.966666666666667,
          5.916666666666667,
          5.933333333333334,
          6.283333333333333,
          5.433333333333334,
          5.983333333333333,
          5.516666666666667,
          5.4,
          5.516666666666667,
          5.683333333333334,
          5.716666666666667,
          6,
          6.833333333333333,
          5.816666666666666
         ],
         "yaxis": "y"
        },
        {
         "hovertemplate": "<b>LOWESS trendline</b><br><br>Year=2020<br>Distance=%{x}<br>Avg Pace=%{y} <b>(trend)</b><extra></extra>",
         "legendgroup": "2020",
         "marker": {
          "color": "#636efa",
          "symbol": "circle"
         },
         "mode": "lines",
         "name": "2020",
         "showlegend": false,
         "type": "scatter",
         "x": [
          2.01,
          2.01,
          2.05,
          2.3,
          2.7,
          3.01,
          3.01,
          3.01,
          3.01,
          3.21,
          3.25,
          3.26,
          3.33,
          3.33,
          3.36,
          3.51,
          3.51,
          3.75,
          4.01,
          4.01,
          4.01,
          4.01,
          4.01,
          4.01,
          4.26,
          4.51,
          4.6,
          4.71,
          4.9,
          5.01,
          5.01,
          5.01,
          5.01,
          5.21,
          5.33,
          5.51,
          7.01,
          7.01,
          7.01,
          7.01,
          7.01,
          7.25,
          7.51,
          7.52,
          7.63,
          8.01,
          8.8,
          9.01,
          10,
          10.01,
          12.01,
          12.01,
          12.01,
          12.01,
          12.01
         ],
         "xaxis": "x",
         "y": [
          6.223768817077562,
          6.223768817077562,
          6.22756175542647,
          6.249361933598238,
          6.278424388974375,
          6.297378170812496,
          6.297378170812496,
          6.297378170812496,
          6.297378170812496,
          6.3083949314245835,
          6.31049374379984,
          6.311012019926063,
          6.314553766954335,
          6.314553766954335,
          6.316015566812002,
          6.32204219779271,
          6.32204219779271,
          6.315925059950977,
          6.310353678177931,
          6.310353678177931,
          6.310353678177931,
          6.310353678177931,
          6.310353678177931,
          6.310353678177931,
          6.306894854366354,
          6.300683049306264,
          6.29752232322567,
          6.293493551378452,
          6.287591542802927,
          6.288483658882089,
          6.288483658882089,
          6.288483658882089,
          6.288483658882089,
          6.328288844183718,
          6.363923325426768,
          6.392869170206365,
          6.502733397723763,
          6.502733397723763,
          6.502733397723763,
          6.502733397723763,
          6.502733397723763,
          6.530448365541171,
          6.560090428256211,
          6.561208961194706,
          6.573396824931434,
          6.612298248904425,
          6.646916744038354,
          6.654913396742406,
          6.703757476702814,
          6.704293478595192,
          6.811887189014991,
          6.811887189014991,
          6.811887189014991,
          6.811887189014991,
          6.811887189014991
         ],
         "yaxis": "y"
        },
        {
         "hovertemplate": "Year=2019<br>Distance=%{x}<br>Avg Pace=%{y}<extra></extra>",
         "legendgroup": "2019",
         "marker": {
          "color": "#EF553B",
          "symbol": "circle"
         },
         "mode": "markers",
         "name": "2019",
         "orientation": "v",
         "showlegend": true,
         "type": "scatter",
         "x": [
          4.01,
          7.34,
          7.29,
          7.52,
          4.01,
          3.51,
          10.01,
          7.01,
          7.01,
          8.01,
          7.01,
          4.51,
          12.01,
          8.01,
          7.01,
          5.02,
          12,
          6.01,
          12.01,
          3.01,
          5.01,
          11.25,
          6.01,
          6.01,
          7.01,
          3.31,
          10.01,
          4.15,
          5.01,
          8.15,
          5,
          7.01,
          7,
          2.15,
          8.01,
          6.01,
          5,
          5.01,
          3.01,
          5,
          5.01,
          2.21,
          4.7,
          2.44,
          2.4,
          3.7,
          4.01,
          2.01,
          2.01,
          4.01,
          6.01,
          2.01,
          4,
          3.3,
          1,
          3.5,
          4.5,
          2.01,
          5.01,
          5.07,
          1,
          4,
          2,
          3.25,
          2,
          4.01,
          2.01,
          5,
          2.01,
          3,
          2.22,
          1,
          3.01,
          4.01,
          3.02,
          5.01,
          2.41,
          5.01,
          4.01,
          6,
          4.21,
          3,
          2.25,
          11.01,
          6.02,
          3.02
         ],
         "xaxis": "x",
         "y": [
          5.783333333333333,
          6.3,
          6.083333333333333,
          6.316666666666666,
          5.916666666666667,
          5.8,
          6.866666666666666,
          6.483333333333333,
          6.933333333333334,
          6.583333333333333,
          6.533333333333333,
          5.433333333333334,
          6.666666666666667,
          6.65,
          6.716666666666667,
          5.283333333333333,
          6.85,
          5.75,
          6.933333333333334,
          5.9,
          5.883333333333334,
          6.9,
          6.483333333333333,
          5.916666666666667,
          6.95,
          5.7,
          7,
          6.866666666666666,
          6.3,
          6.9,
          6.316666666666666,
          7.116666666666666,
          6.5,
          5.45,
          6.5,
          6,
          5.483333333333333,
          5.95,
          4.95,
          5.633333333333334,
          5.783333333333333,
          5.55,
          5.866666666666666,
          4.766666666666667,
          5.983333333333333,
          5.583333333333333,
          5.9,
          4.683333333333334,
          5.566666666666666,
          5.966666666666667,
          6,
          6.55,
          5.6,
          5.483333333333333,
          4.883333333333334,
          5.316666666666666,
          5.883333333333334,
          5.233333333333333,
          5.966666666666667,
          5.683333333333334,
          4.983333333333333,
          5.5,
          4.95,
          5.7,
          5.466666666666667,
          5.8,
          5.716666666666667,
          5.9,
          5.85,
          5.433333333333334,
          5.5,
          5.033333333333333,
          5.416666666666667,
          5.9,
          5.566666666666666,
          5.883333333333334,
          5.383333333333334,
          5.5,
          5.966666666666667,
          5.883333333333334,
          5.966666666666667,
          5.616666666666666,
          5.466666666666667,
          7.283333333333333,
          5.8,
          5.933333333333334
         ],
         "yaxis": "y"
        },
        {
         "hovertemplate": "<b>LOWESS trendline</b><br><br>Year=2019<br>Distance=%{x}<br>Avg Pace=%{y} <b>(trend)</b><extra></extra>",
         "legendgroup": "2019",
         "marker": {
          "color": "#EF553B",
          "symbol": "circle"
         },
         "mode": "lines",
         "name": "2019",
         "showlegend": false,
         "type": "scatter",
         "x": [
          1,
          1,
          1,
          2,
          2,
          2.01,
          2.01,
          2.01,
          2.01,
          2.01,
          2.01,
          2.15,
          2.21,
          2.22,
          2.25,
          2.4,
          2.41,
          2.44,
          3,
          3,
          3.01,
          3.01,
          3.01,
          3.02,
          3.02,
          3.25,
          3.3,
          3.31,
          3.5,
          3.51,
          3.7,
          4,
          4,
          4.01,
          4.01,
          4.01,
          4.01,
          4.01,
          4.01,
          4.01,
          4.15,
          4.21,
          4.5,
          4.51,
          4.7,
          5,
          5,
          5,
          5,
          5.01,
          5.01,
          5.01,
          5.01,
          5.01,
          5.01,
          5.01,
          5.02,
          5.07,
          6,
          6.01,
          6.01,
          6.01,
          6.01,
          6.01,
          6.02,
          7,
          7.01,
          7.01,
          7.01,
          7.01,
          7.01,
          7.01,
          7.29,
          7.34,
          7.52,
          8.01,
          8.01,
          8.01,
          8.15,
          10.01,
          10.01,
          11.01,
          11.25,
          12,
          12.01,
          12.01
         ],
         "xaxis": "x",
         "y": [
          5.095203352384042,
          5.095203352384042,
          5.095203352384042,
          5.346867657143694,
          5.346867657143694,
          5.349354623825581,
          5.349354623825581,
          5.349354623825581,
          5.349354623825581,
          5.349354623825581,
          5.349354623825581,
          5.384294718941651,
          5.399352525767329,
          5.401867646169224,
          5.409422560517025,
          5.447389415712348,
          5.449929342730338,
          5.457552210641907,
          5.587024985821266,
          5.587024985821266,
          5.588834654674662,
          5.588834654674662,
          5.588834654674662,
          5.590667518205493,
          5.590667518205493,
          5.6268143865688165,
          5.6336025089400446,
          5.6349457849437234,
          5.660139571852597,
          5.661565913121972,
          5.690644676433702,
          5.735591096603422,
          5.735591096603422,
          5.737011139719226,
          5.737011139719226,
          5.737011139719226,
          5.737011139719226,
          5.737011139719226,
          5.737011139719226,
          5.737011139719226,
          5.753098776000914,
          5.760070976557278,
          5.794250835812225,
          5.795430069695064,
          5.8191274965803075,
          5.872939177607015,
          5.872939177607015,
          5.872939177607015,
          5.872939177607015,
          5.874410807187125,
          5.874410807187125,
          5.874410807187125,
          5.874410807187125,
          5.874410807187125,
          5.874410807187125,
          5.874410807187125,
          5.875883103810843,
          5.883255946417762,
          6.124704036632019,
          6.127227528238369,
          6.127227528238369,
          6.127227528238369,
          6.127227528238369,
          6.127227528238369,
          6.129748877067105,
          6.371781673449646,
          6.374066904023051,
          6.374066904023051,
          6.374066904023051,
          6.374066904023051,
          6.374066904023051,
          6.374066904023051,
          6.443095236065715,
          6.454131115463801,
          6.491618726537838,
          6.581204905869633,
          6.581204905869633,
          6.581204905869633,
          6.594542574186894,
          6.803196848418828,
          6.803196848418828,
          6.9347230618625915,
          6.965841180529241,
          7.060514595279993,
          7.061745228447261,
          7.061745228447261
         ],
         "yaxis": "y"
        },
        {
         "hovertemplate": "Year=2018<br>Distance=%{x}<br>Avg Pace=%{y}<extra></extra>",
         "legendgroup": "2018",
         "marker": {
          "color": "#00cc96",
          "symbol": "circle"
         },
         "mode": "markers",
         "name": "2018",
         "orientation": "v",
         "showlegend": true,
         "type": "scatter",
         "x": [
          0.53,
          3.19,
          5.89,
          2.66,
          3.05,
          2.01,
          2,
          3.13,
          2,
          3.02,
          3,
          2.41,
          2.01,
          4.15,
          3.5,
          4.01,
          2.74,
          5.01,
          2.36,
          5.25,
          3.01,
          8.01,
          3.01,
          5.01,
          2.4,
          1.61,
          6,
          2.4,
          5.01,
          3.45,
          2.42,
          4.01,
          3,
          5.01,
          2.4,
          3.56,
          2.01,
          5,
          4.36,
          3.01,
          2.41,
          1.28,
          3.14,
          2.2,
          3.02,
          1.19,
          3.31,
          5.01,
          2.01,
          15.07,
          2.91,
          2.01,
          7.01,
          3.03,
          3.21,
          4.01,
          0.41,
          3.59,
          0.4,
          0.41,
          0.54,
          3.13,
          7.51,
          1.01,
          4.01,
          3.01,
          1.12,
          1.11,
          2.01,
          5.01,
          2.41,
          2.01,
          10.01,
          2.01,
          1.01,
          4.01,
          1.01,
          1.11,
          4.92,
          3.04,
          5.12,
          2.34,
          1.13,
          3.14,
          8.18,
          5.07,
          5.08
         ],
         "xaxis": "x",
         "y": [
          5.266666666666667,
          6.266666666666667,
          5.866666666666666,
          5.466666666666667,
          7.7,
          5.55,
          5.75,
          7.966666666666667,
          5.216666666666667,
          5.6,
          5.433333333333334,
          5.566666666666666,
          4.916666666666667,
          5.7,
          6,
          5.416666666666667,
          5,
          6,
          4.75,
          5.333333333333333,
          4.7,
          5.433333333333334,
          4.8,
          5.766666666666667,
          4.566666666666666,
          5.25,
          5.416666666666667,
          4.85,
          5.983333333333333,
          5.566666666666666,
          5,
          5.183333333333334,
          4.916666666666667,
          5.383333333333334,
          4.65,
          5.583333333333333,
          5.8,
          6.5,
          5.6,
          5.583333333333333,
          6.716666666666667,
          5.533333333333333,
          5.783333333333333,
          5.516666666666667,
          4.95,
          5.6,
          6.65,
          4.866666666666666,
          4.883333333333334,
          5.95,
          5.666666666666667,
          4.933333333333334,
          5.466666666666667,
          5.216666666666667,
          4.866666666666666,
          5.066666666666666,
          3.55,
          5,
          4.3,
          4.183333333333334,
          4.433333333333334,
          4.983333333333333,
          5.433333333333334,
          4.35,
          5.1,
          4.966666666666667,
          4.633333333333334,
          4.983333333333333,
          4.7,
          5.2,
          4.783333333333333,
          5.283333333333333,
          5.566666666666666,
          4.833333333333333,
          4.433333333333334,
          5.433333333333334,
          4.75,
          5.45,
          5.166666666666667,
          5.15,
          5.383333333333334,
          5.55,
          5.983333333333333,
          5.833333333333333,
          7.933333333333334,
          5.8,
          5.933333333333334
         ],
         "yaxis": "y"
        },
        {
         "hovertemplate": "<b>LOWESS trendline</b><br><br>Year=2018<br>Distance=%{x}<br>Avg Pace=%{y} <b>(trend)</b><extra></extra>",
         "legendgroup": "2018",
         "marker": {
          "color": "#00cc96",
          "symbol": "circle"
         },
         "mode": "lines",
         "name": "2018",
         "showlegend": false,
         "type": "scatter",
         "x": [
          0.4,
          0.41,
          0.41,
          0.53,
          0.54,
          1.01,
          1.01,
          1.01,
          1.11,
          1.11,
          1.12,
          1.13,
          1.19,
          1.28,
          1.61,
          2,
          2,
          2.01,
          2.01,
          2.01,
          2.01,
          2.01,
          2.01,
          2.01,
          2.01,
          2.2,
          2.34,
          2.36,
          2.4,
          2.4,
          2.4,
          2.41,
          2.41,
          2.41,
          2.42,
          2.66,
          2.74,
          2.91,
          3,
          3,
          3.01,
          3.01,
          3.01,
          3.01,
          3.02,
          3.02,
          3.03,
          3.04,
          3.05,
          3.13,
          3.13,
          3.14,
          3.14,
          3.19,
          3.21,
          3.31,
          3.45,
          3.5,
          3.56,
          3.59,
          4.01,
          4.01,
          4.01,
          4.01,
          4.01,
          4.15,
          4.36,
          4.92,
          5,
          5.01,
          5.01,
          5.01,
          5.01,
          5.01,
          5.01,
          5.07,
          5.08,
          5.12,
          5.25,
          5.89,
          6,
          7.01,
          7.51,
          8.01,
          8.18,
          10.01,
          15.07
         ],
         "xaxis": "x",
         "y": [
          4.586400043099306,
          4.59027283392133,
          4.59027283392133,
          4.635967208019885,
          4.639713872062479,
          4.8076924382064155,
          4.8076924382064155,
          4.8076924382064155,
          4.842205872712757,
          4.842205872712757,
          4.845658240668094,
          4.849112258119812,
          4.86988788454657,
          4.901315070560458,
          5.021744887056484,
          5.140031908357079,
          5.140031908357079,
          5.141175821739714,
          5.141175821739714,
          5.141175821739714,
          5.141175821739714,
          5.141175821739714,
          5.141175821739714,
          5.141175821739714,
          5.141175821739714,
          5.167203292095699,
          5.187489806897249,
          5.189807843564609,
          5.193790075858267,
          5.193790075858267,
          5.193790075858267,
          5.194643535110963,
          5.194643535110963,
          5.194643535110963,
          5.1954430910709295,
          5.228081104318887,
          5.241901253170145,
          5.266074039351257,
          5.27854106622616,
          5.27854106622616,
          5.279945719568983,
          5.279945719568983,
          5.279945719568983,
          5.279945719568983,
          5.281375739900503,
          5.281375739900503,
          5.282787946253791,
          5.284202095049814,
          5.28561559393012,
          5.297477778479819,
          5.297477778479819,
          5.299011890009468,
          5.299011890009468,
          5.306827284287291,
          5.3100297551002384,
          5.326839629815482,
          5.352688809004051,
          5.3618552897838905,
          5.370450626232435,
          5.374631328736027,
          5.440261907780585,
          5.440261907780585,
          5.440261907780585,
          5.440261907780585,
          5.440261907780585,
          5.460186256945669,
          5.487487820141557,
          5.549091890588431,
          5.554011209854929,
          5.55451672055916,
          5.55451672055916,
          5.55451672055916,
          5.55451672055916,
          5.55451672055916,
          5.55451672055916,
          5.557098065763107,
          5.557460765744994,
          5.559515350428485,
          5.5650732318684275,
          5.553351745253405,
          5.551905670489382,
          5.541765116922728,
          5.539360081145681,
          5.536699319017716,
          5.5355757462985515,
          5.615048273108349,
          5.862621590544343
         ],
         "yaxis": "y"
        },
        {
         "hovertemplate": "Year=2017<br>Distance=%{x}<br>Avg Pace=%{y}<extra></extra>",
         "legendgroup": "2017",
         "marker": {
          "color": "#ab63fa",
          "symbol": "circle"
         },
         "mode": "markers",
         "name": "2017",
         "orientation": "v",
         "showlegend": true,
         "type": "scatter",
         "x": [
          4.96,
          3.95,
          5.02,
          4.61,
          3.21,
          3.01
         ],
         "xaxis": "x",
         "y": [
          5.9,
          6.05,
          5.833333333333333,
          6.133333333333334,
          6,
          6.083333333333333
         ],
         "yaxis": "y"
        },
        {
         "hovertemplate": "<b>LOWESS trendline</b><br><br>Year=2017<br>Distance=%{x}<br>Avg Pace=%{y} <b>(trend)</b><extra></extra>",
         "legendgroup": "2017",
         "marker": {
          "color": "#ab63fa",
          "symbol": "circle"
         },
         "mode": "lines",
         "name": "2017",
         "showlegend": false,
         "type": "scatter",
         "x": [
          3.01,
          3.21,
          3.95,
          4.61,
          4.96,
          5.02
         ],
         "xaxis": "x",
         "y": [
          6.080586222281404,
          6.073807752409419,
          6.050518902961394,
          6.134286908745454,
          5.886896132871586,
          5.844286214202645
         ],
         "yaxis": "y"
        }
       ],
       "layout": {
        "autosize": true,
        "legend": {
         "title": {
          "text": "Year"
         },
         "tracegroupgap": 0
        },
        "margin": {
         "t": 60
        },
        "template": {
         "data": {
          "bar": [
           {
            "error_x": {
             "color": "#2a3f5f"
            },
            "error_y": {
             "color": "#2a3f5f"
            },
            "marker": {
             "line": {
              "color": "#E5ECF6",
              "width": 0.5
             }
            },
            "type": "bar"
           }
          ],
          "barpolar": [
           {
            "marker": {
             "line": {
              "color": "#E5ECF6",
              "width": 0.5
             }
            },
            "type": "barpolar"
           }
          ],
          "carpet": [
           {
            "aaxis": {
             "endlinecolor": "#2a3f5f",
             "gridcolor": "white",
             "linecolor": "white",
             "minorgridcolor": "white",
             "startlinecolor": "#2a3f5f"
            },
            "baxis": {
             "endlinecolor": "#2a3f5f",
             "gridcolor": "white",
             "linecolor": "white",
             "minorgridcolor": "white",
             "startlinecolor": "#2a3f5f"
            },
            "type": "carpet"
           }
          ],
          "choropleth": [
           {
            "colorbar": {
             "outlinewidth": 0,
             "ticks": ""
            },
            "type": "choropleth"
           }
          ],
          "contour": [
           {
            "colorbar": {
             "outlinewidth": 0,
             "ticks": ""
            },
            "colorscale": [
             [
              0,
              "#0d0887"
             ],
             [
              0.1111111111111111,
              "#46039f"
             ],
             [
              0.2222222222222222,
              "#7201a8"
             ],
             [
              0.3333333333333333,
              "#9c179e"
             ],
             [
              0.4444444444444444,
              "#bd3786"
             ],
             [
              0.5555555555555556,
              "#d8576b"
             ],
             [
              0.6666666666666666,
              "#ed7953"
             ],
             [
              0.7777777777777778,
              "#fb9f3a"
             ],
             [
              0.8888888888888888,
              "#fdca26"
             ],
             [
              1,
              "#f0f921"
             ]
            ],
            "type": "contour"
           }
          ],
          "contourcarpet": [
           {
            "colorbar": {
             "outlinewidth": 0,
             "ticks": ""
            },
            "type": "contourcarpet"
           }
          ],
          "heatmap": [
           {
            "colorbar": {
             "outlinewidth": 0,
             "ticks": ""
            },
            "colorscale": [
             [
              0,
              "#0d0887"
             ],
             [
              0.1111111111111111,
              "#46039f"
             ],
             [
              0.2222222222222222,
              "#7201a8"
             ],
             [
              0.3333333333333333,
              "#9c179e"
             ],
             [
              0.4444444444444444,
              "#bd3786"
             ],
             [
              0.5555555555555556,
              "#d8576b"
             ],
             [
              0.6666666666666666,
              "#ed7953"
             ],
             [
              0.7777777777777778,
              "#fb9f3a"
             ],
             [
              0.8888888888888888,
              "#fdca26"
             ],
             [
              1,
              "#f0f921"
             ]
            ],
            "type": "heatmap"
           }
          ],
          "heatmapgl": [
           {
            "colorbar": {
             "outlinewidth": 0,
             "ticks": ""
            },
            "colorscale": [
             [
              0,
              "#0d0887"
             ],
             [
              0.1111111111111111,
              "#46039f"
             ],
             [
              0.2222222222222222,
              "#7201a8"
             ],
             [
              0.3333333333333333,
              "#9c179e"
             ],
             [
              0.4444444444444444,
              "#bd3786"
             ],
             [
              0.5555555555555556,
              "#d8576b"
             ],
             [
              0.6666666666666666,
              "#ed7953"
             ],
             [
              0.7777777777777778,
              "#fb9f3a"
             ],
             [
              0.8888888888888888,
              "#fdca26"
             ],
             [
              1,
              "#f0f921"
             ]
            ],
            "type": "heatmapgl"
           }
          ],
          "histogram": [
           {
            "marker": {
             "colorbar": {
              "outlinewidth": 0,
              "ticks": ""
             }
            },
            "type": "histogram"
           }
          ],
          "histogram2d": [
           {
            "colorbar": {
             "outlinewidth": 0,
             "ticks": ""
            },
            "colorscale": [
             [
              0,
              "#0d0887"
             ],
             [
              0.1111111111111111,
              "#46039f"
             ],
             [
              0.2222222222222222,
              "#7201a8"
             ],
             [
              0.3333333333333333,
              "#9c179e"
             ],
             [
              0.4444444444444444,
              "#bd3786"
             ],
             [
              0.5555555555555556,
              "#d8576b"
             ],
             [
              0.6666666666666666,
              "#ed7953"
             ],
             [
              0.7777777777777778,
              "#fb9f3a"
             ],
             [
              0.8888888888888888,
              "#fdca26"
             ],
             [
              1,
              "#f0f921"
             ]
            ],
            "type": "histogram2d"
           }
          ],
          "histogram2dcontour": [
           {
            "colorbar": {
             "outlinewidth": 0,
             "ticks": ""
            },
            "colorscale": [
             [
              0,
              "#0d0887"
             ],
             [
              0.1111111111111111,
              "#46039f"
             ],
             [
              0.2222222222222222,
              "#7201a8"
             ],
             [
              0.3333333333333333,
              "#9c179e"
             ],
             [
              0.4444444444444444,
              "#bd3786"
             ],
             [
              0.5555555555555556,
              "#d8576b"
             ],
             [
              0.6666666666666666,
              "#ed7953"
             ],
             [
              0.7777777777777778,
              "#fb9f3a"
             ],
             [
              0.8888888888888888,
              "#fdca26"
             ],
             [
              1,
              "#f0f921"
             ]
            ],
            "type": "histogram2dcontour"
           }
          ],
          "mesh3d": [
           {
            "colorbar": {
             "outlinewidth": 0,
             "ticks": ""
            },
            "type": "mesh3d"
           }
          ],
          "parcoords": [
           {
            "line": {
             "colorbar": {
              "outlinewidth": 0,
              "ticks": ""
             }
            },
            "type": "parcoords"
           }
          ],
          "pie": [
           {
            "automargin": true,
            "type": "pie"
           }
          ],
          "scatter": [
           {
            "marker": {
             "colorbar": {
              "outlinewidth": 0,
              "ticks": ""
             }
            },
            "type": "scatter"
           }
          ],
          "scatter3d": [
           {
            "line": {
             "colorbar": {
              "outlinewidth": 0,
              "ticks": ""
             }
            },
            "marker": {
             "colorbar": {
              "outlinewidth": 0,
              "ticks": ""
             }
            },
            "type": "scatter3d"
           }
          ],
          "scattercarpet": [
           {
            "marker": {
             "colorbar": {
              "outlinewidth": 0,
              "ticks": ""
             }
            },
            "type": "scattercarpet"
           }
          ],
          "scattergeo": [
           {
            "marker": {
             "colorbar": {
              "outlinewidth": 0,
              "ticks": ""
             }
            },
            "type": "scattergeo"
           }
          ],
          "scattergl": [
           {
            "marker": {
             "colorbar": {
              "outlinewidth": 0,
              "ticks": ""
             }
            },
            "type": "scattergl"
           }
          ],
          "scattermapbox": [
           {
            "marker": {
             "colorbar": {
              "outlinewidth": 0,
              "ticks": ""
             }
            },
            "type": "scattermapbox"
           }
          ],
          "scatterpolar": [
           {
            "marker": {
             "colorbar": {
              "outlinewidth": 0,
              "ticks": ""
             }
            },
            "type": "scatterpolar"
           }
          ],
          "scatterpolargl": [
           {
            "marker": {
             "colorbar": {
              "outlinewidth": 0,
              "ticks": ""
             }
            },
            "type": "scatterpolargl"
           }
          ],
          "scatterternary": [
           {
            "marker": {
             "colorbar": {
              "outlinewidth": 0,
              "ticks": ""
             }
            },
            "type": "scatterternary"
           }
          ],
          "surface": [
           {
            "colorbar": {
             "outlinewidth": 0,
             "ticks": ""
            },
            "colorscale": [
             [
              0,
              "#0d0887"
             ],
             [
              0.1111111111111111,
              "#46039f"
             ],
             [
              0.2222222222222222,
              "#7201a8"
             ],
             [
              0.3333333333333333,
              "#9c179e"
             ],
             [
              0.4444444444444444,
              "#bd3786"
             ],
             [
              0.5555555555555556,
              "#d8576b"
             ],
             [
              0.6666666666666666,
              "#ed7953"
             ],
             [
              0.7777777777777778,
              "#fb9f3a"
             ],
             [
              0.8888888888888888,
              "#fdca26"
             ],
             [
              1,
              "#f0f921"
             ]
            ],
            "type": "surface"
           }
          ],
          "table": [
           {
            "cells": {
             "fill": {
              "color": "#EBF0F8"
             },
             "line": {
              "color": "white"
             }
            },
            "header": {
             "fill": {
              "color": "#C8D4E3"
             },
             "line": {
              "color": "white"
             }
            },
            "type": "table"
           }
          ]
         },
         "layout": {
          "annotationdefaults": {
           "arrowcolor": "#2a3f5f",
           "arrowhead": 0,
           "arrowwidth": 1
          },
          "coloraxis": {
           "colorbar": {
            "outlinewidth": 0,
            "ticks": ""
           }
          },
          "colorscale": {
           "diverging": [
            [
             0,
             "#8e0152"
            ],
            [
             0.1,
             "#c51b7d"
            ],
            [
             0.2,
             "#de77ae"
            ],
            [
             0.3,
             "#f1b6da"
            ],
            [
             0.4,
             "#fde0ef"
            ],
            [
             0.5,
             "#f7f7f7"
            ],
            [
             0.6,
             "#e6f5d0"
            ],
            [
             0.7,
             "#b8e186"
            ],
            [
             0.8,
             "#7fbc41"
            ],
            [
             0.9,
             "#4d9221"
            ],
            [
             1,
             "#276419"
            ]
           ],
           "sequential": [
            [
             0,
             "#0d0887"
            ],
            [
             0.1111111111111111,
             "#46039f"
            ],
            [
             0.2222222222222222,
             "#7201a8"
            ],
            [
             0.3333333333333333,
             "#9c179e"
            ],
            [
             0.4444444444444444,
             "#bd3786"
            ],
            [
             0.5555555555555556,
             "#d8576b"
            ],
            [
             0.6666666666666666,
             "#ed7953"
            ],
            [
             0.7777777777777778,
             "#fb9f3a"
            ],
            [
             0.8888888888888888,
             "#fdca26"
            ],
            [
             1,
             "#f0f921"
            ]
           ],
           "sequentialminus": [
            [
             0,
             "#0d0887"
            ],
            [
             0.1111111111111111,
             "#46039f"
            ],
            [
             0.2222222222222222,
             "#7201a8"
            ],
            [
             0.3333333333333333,
             "#9c179e"
            ],
            [
             0.4444444444444444,
             "#bd3786"
            ],
            [
             0.5555555555555556,
             "#d8576b"
            ],
            [
             0.6666666666666666,
             "#ed7953"
            ],
            [
             0.7777777777777778,
             "#fb9f3a"
            ],
            [
             0.8888888888888888,
             "#fdca26"
            ],
            [
             1,
             "#f0f921"
            ]
           ]
          },
          "colorway": [
           "#636efa",
           "#EF553B",
           "#00cc96",
           "#ab63fa",
           "#FFA15A",
           "#19d3f3",
           "#FF6692",
           "#B6E880",
           "#FF97FF",
           "#FECB52"
          ],
          "font": {
           "color": "#2a3f5f"
          },
          "geo": {
           "bgcolor": "white",
           "lakecolor": "white",
           "landcolor": "#E5ECF6",
           "showlakes": true,
           "showland": true,
           "subunitcolor": "white"
          },
          "hoverlabel": {
           "align": "left"
          },
          "hovermode": "closest",
          "mapbox": {
           "style": "light"
          },
          "paper_bgcolor": "white",
          "plot_bgcolor": "#E5ECF6",
          "polar": {
           "angularaxis": {
            "gridcolor": "white",
            "linecolor": "white",
            "ticks": ""
           },
           "bgcolor": "#E5ECF6",
           "radialaxis": {
            "gridcolor": "white",
            "linecolor": "white",
            "ticks": ""
           }
          },
          "scene": {
           "xaxis": {
            "backgroundcolor": "#E5ECF6",
            "gridcolor": "white",
            "gridwidth": 2,
            "linecolor": "white",
            "showbackground": true,
            "ticks": "",
            "zerolinecolor": "white"
           },
           "yaxis": {
            "backgroundcolor": "#E5ECF6",
            "gridcolor": "white",
            "gridwidth": 2,
            "linecolor": "white",
            "showbackground": true,
            "ticks": "",
            "zerolinecolor": "white"
           },
           "zaxis": {
            "backgroundcolor": "#E5ECF6",
            "gridcolor": "white",
            "gridwidth": 2,
            "linecolor": "white",
            "showbackground": true,
            "ticks": "",
            "zerolinecolor": "white"
           }
          },
          "shapedefaults": {
           "line": {
            "color": "#2a3f5f"
           }
          },
          "ternary": {
           "aaxis": {
            "gridcolor": "white",
            "linecolor": "white",
            "ticks": ""
           },
           "baxis": {
            "gridcolor": "white",
            "linecolor": "white",
            "ticks": ""
           },
           "bgcolor": "#E5ECF6",
           "caxis": {
            "gridcolor": "white",
            "linecolor": "white",
            "ticks": ""
           }
          },
          "title": {
           "x": 0.05
          },
          "xaxis": {
           "automargin": true,
           "gridcolor": "white",
           "linecolor": "white",
           "ticks": "",
           "title": {
            "standoff": 15
           },
           "zerolinecolor": "white",
           "zerolinewidth": 2
          },
          "yaxis": {
           "automargin": true,
           "gridcolor": "white",
           "linecolor": "white",
           "ticks": "",
           "title": {
            "standoff": 15
           },
           "zerolinecolor": "white",
           "zerolinewidth": 2
          }
         }
        },
        "xaxis": {
         "anchor": "y",
         "autorange": true,
         "domain": [
          0,
          1
         ],
         "range": [
          -0.46913124335812983,
          15.93913124335813
         ],
         "title": {
          "text": "Distance"
         },
         "type": "linear"
        },
        "yaxis": {
         "anchor": "x",
         "autorange": true,
         "domain": [
          0,
          1
         ],
         "range": [
          3.2368477593615714,
          8.279818907305096
         ],
         "title": {
          "text": "Avg Pace"
         },
         "type": "linear"
        }
       }
      },
      "image/png": "[encoded data removed]",
      "text/html": [
       "<div>                            <div id=\"29adf009-f1d8-4ed1-9417-424118f634d2\" class=\"plotly-graph-div\" style=\"height:525px; width:100%;\"></div>            <script type=\"text/javascript\">                require([\"plotly\"], function(Plotly) {                    window.PLOTLYENV=window.PLOTLYENV || {};                                    if (document.getElementById(\"29adf009-f1d8-4ed1-9417-424118f634d2\")) {                    Plotly.newPlot(                        \"29adf009-f1d8-4ed1-9417-424118f634d2\",                        [{\"hovertemplate\": \"Year=2020<br>Distance=%{x}<br>Avg Pace=%{y}<extra></extra>\", \"legendgroup\": \"2020\", \"marker\": {\"color\": \"#636efa\", \"symbol\": \"circle\"}, \"mode\": \"markers\", \"name\": \"2020\", \"orientation\": \"v\", \"showlegend\": true, \"type\": \"scatter\", \"x\": [12.01, 12.01, 8.01, 2.05, 12.01, 7.01, 4.71, 12.01, 8.8, 7.52, 4.01, 10.01, 3.51, 9.01, 5.01, 12.01, 10.0, 4.9, 5.01, 7.01, 5.01, 3.01, 7.01, 3.33, 5.33, 4.01, 2.01, 4.01, 3.21, 5.01, 3.01, 4.01, 3.33, 3.36, 2.3, 2.01, 4.01, 3.25, 2.7, 4.01, 3.01, 7.01, 4.51, 3.75, 5.21, 3.01, 5.51, 4.26, 3.26, 7.63, 4.6, 3.51, 7.01, 7.25, 7.51], \"xaxis\": \"x\", \"y\": [6.583333333333333, 6.833333333333333, 6.766666666666667, 4.966666666666667, 6.6, 6.5, 5.8, 6.866666666666666, 6.75, 6.516666666666667, 5.7, 6.883333333333334, 5.833333333333333, 6.766666666666667, 5.766666666666667, 6.95, 6.85, 6.916666666666667, 6.216666666666667, 6.966666666666667, 6.45, 6.45, 6.933333333333334, 6.95, 6.85, 6.366666666666666, 5.916666666666667, 6.933333333333334, 6.433333333333334, 6.883333333333334, 6.483333333333333, 6.966666666666667, 7.083333333333333, 7.316666666666666, 6.316666666666666, 6.733333333333333, 6.583333333333333, 6.466666666666667, 6.5, 6.983333333333333, 6.433333333333334, 6.966666666666667, 5.916666666666667, 5.933333333333334, 6.283333333333333, 5.433333333333334, 5.983333333333333, 5.516666666666667, 5.4, 5.516666666666667, 5.683333333333334, 5.716666666666667, 6.0, 6.833333333333333, 5.816666666666666], \"yaxis\": \"y\"}, {\"hovertemplate\": \"<b>LOWESS trendline</b><br><br>Year=2020<br>Distance=%{x}<br>Avg Pace=%{y} <b>(trend)</b><extra></extra>\", \"legendgroup\": \"2020\", \"marker\": {\"color\": \"#636efa\", \"symbol\": \"circle\"}, \"mode\": \"lines\", \"name\": \"2020\", \"showlegend\": false, \"type\": \"scatter\", \"x\": [2.01, 2.01, 2.05, 2.3, 2.7, 3.01, 3.01, 3.01, 3.01, 3.21, 3.25, 3.26, 3.33, 3.33, 3.36, 3.51, 3.51, 3.75, 4.01, 4.01, 4.01, 4.01, 4.01, 4.01, 4.26, 4.51, 4.6, 4.71, 4.9, 5.01, 5.01, 5.01, 5.01, 5.21, 5.33, 5.51, 7.01, 7.01, 7.01, 7.01, 7.01, 7.25, 7.51, 7.52, 7.63, 8.01, 8.8, 9.01, 10.0, 10.01, 12.01, 12.01, 12.01, 12.01, 12.01], \"xaxis\": \"x\", \"y\": [6.223768817077562, 6.223768817077562, 6.22756175542647, 6.249361933598238, 6.278424388974375, 6.297378170812496, 6.297378170812496, 6.297378170812496, 6.297378170812496, 6.3083949314245835, 6.31049374379984, 6.311012019926063, 6.314553766954335, 6.314553766954335, 6.316015566812002, 6.32204219779271, 6.32204219779271, 6.315925059950977, 6.310353678177931, 6.310353678177931, 6.310353678177931, 6.310353678177931, 6.310353678177931, 6.310353678177931, 6.306894854366354, 6.300683049306264, 6.29752232322567, 6.293493551378452, 6.287591542802927, 6.288483658882089, 6.288483658882089, 6.288483658882089, 6.288483658882089, 6.328288844183718, 6.363923325426768, 6.392869170206365, 6.502733397723763, 6.502733397723763, 6.502733397723763, 6.502733397723763, 6.502733397723763, 6.530448365541171, 6.560090428256211, 6.561208961194706, 6.573396824931434, 6.612298248904425, 6.646916744038354, 6.654913396742406, 6.703757476702814, 6.704293478595192, 6.811887189014991, 6.811887189014991, 6.811887189014991, 6.811887189014991, 6.811887189014991], \"yaxis\": \"y\"}, {\"hovertemplate\": \"Year=2019<br>Distance=%{x}<br>Avg Pace=%{y}<extra></extra>\", \"legendgroup\": \"2019\", \"marker\": {\"color\": \"#EF553B\", \"symbol\": \"circle\"}, \"mode\": \"markers\", \"name\": \"2019\", \"orientation\": \"v\", \"showlegend\": true, \"type\": \"scatter\", \"x\": [4.01, 7.34, 7.29, 7.52, 4.01, 3.51, 10.01, 7.01, 7.01, 8.01, 7.01, 4.51, 12.01, 8.01, 7.01, 5.02, 12.0, 6.01, 12.01, 3.01, 5.01, 11.25, 6.01, 6.01, 7.01, 3.31, 10.01, 4.15, 5.01, 8.15, 5.0, 7.01, 7.0, 2.15, 8.01, 6.01, 5.0, 5.01, 3.01, 5.0, 5.01, 2.21, 4.7, 2.44, 2.4, 3.7, 4.01, 2.01, 2.01, 4.01, 6.01, 2.01, 4.0, 3.3, 1.0, 3.5, 4.5, 2.01, 5.01, 5.07, 1.0, 4.0, 2.0, 3.25, 2.0, 4.01, 2.01, 5.0, 2.01, 3.0, 2.22, 1.0, 3.01, 4.01, 3.02, 5.01, 2.41, 5.01, 4.01, 6.0, 4.21, 3.0, 2.25, 11.01, 6.02, 3.02], \"xaxis\": \"x\", \"y\": [5.783333333333333, 6.3, 6.083333333333333, 6.316666666666666, 5.916666666666667, 5.8, 6.866666666666666, 6.483333333333333, 6.933333333333334, 6.583333333333333, 6.533333333333333, 5.433333333333334, 6.666666666666667, 6.65, 6.716666666666667, 5.283333333333333, 6.85, 5.75, 6.933333333333334, 5.9, 5.883333333333334, 6.9, 6.483333333333333, 5.916666666666667, 6.95, 5.7, 7.0, 6.866666666666666, 6.3, 6.9, 6.316666666666666, 7.116666666666666, 6.5, 5.45, 6.5, 6.0, 5.483333333333333, 5.95, 4.95, 5.633333333333334, 5.783333333333333, 5.55, 5.866666666666666, 4.766666666666667, 5.983333333333333, 5.583333333333333, 5.9, 4.683333333333334, 5.566666666666666, 5.966666666666667, 6.0, 6.55, 5.6, 5.483333333333333, 4.883333333333334, 5.316666666666666, 5.883333333333334, 5.233333333333333, 5.966666666666667, 5.683333333333334, 4.983333333333333, 5.5, 4.95, 5.7, 5.466666666666667, 5.8, 5.716666666666667, 5.9, 5.85, 5.433333333333334, 5.5, 5.033333333333333, 5.416666666666667, 5.9, 5.566666666666666, 5.883333333333334, 5.383333333333334, 5.5, 5.966666666666667, 5.883333333333334, 5.966666666666667, 5.616666666666666, 5.466666666666667, 7.283333333333333, 5.8, 5.933333333333334], \"yaxis\": \"y\"}, {\"hovertemplate\": \"<b>LOWESS trendline</b><br><br>Year=2019<br>Distance=%{x}<br>Avg Pace=%{y} <b>(trend)</b><extra></extra>\", \"legendgroup\": \"2019\", \"marker\": {\"color\": \"#EF553B\", \"symbol\": \"circle\"}, \"mode\": \"lines\", \"name\": \"2019\", \"showlegend\": false, \"type\": \"scatter\", \"x\": [1.0, 1.0, 1.0, 2.0, 2.0, 2.01, 2.01, 2.01, 2.01, 2.01, 2.01, 2.15, 2.21, 2.22, 2.25, 2.4, 2.41, 2.44, 3.0, 3.0, 3.01, 3.01, 3.01, 3.02, 3.02, 3.25, 3.3, 3.31, 3.5, 3.51, 3.7, 4.0, 4.0, 4.01, 4.01, 4.01, 4.01, 4.01, 4.01, 4.01, 4.15, 4.21, 4.5, 4.51, 4.7, 5.0, 5.0, 5.0, 5.0, 5.01, 5.01, 5.01, 5.01, 5.01, 5.01, 5.01, 5.02, 5.07, 6.0, 6.01, 6.01, 6.01, 6.01, 6.01, 6.02, 7.0, 7.01, 7.01, 7.01, 7.01, 7.01, 7.01, 7.29, 7.34, 7.52, 8.01, 8.01, 8.01, 8.15, 10.01, 10.01, 11.01, 11.25, 12.0, 12.01, 12.01], \"xaxis\": \"x\", \"y\": [5.095203352384042, 5.095203352384042, 5.095203352384042, 5.346867657143694, 5.346867657143694, 5.349354623825581, 5.349354623825581, 5.349354623825581, 5.349354623825581, 5.349354623825581, 5.349354623825581, 5.384294718941651, 5.399352525767329, 5.401867646169224, 5.409422560517025, 5.447389415712348, 5.449929342730338, 5.457552210641907, 5.587024985821266, 5.587024985821266, 5.588834654674662, 5.588834654674662, 5.588834654674662, 5.590667518205493, 5.590667518205493, 5.6268143865688165, 5.6336025089400446, 5.6349457849437234, 5.660139571852597, 5.661565913121972, 5.690644676433702, 5.735591096603422, 5.735591096603422, 5.737011139719226, 5.737011139719226, 5.737011139719226, 5.737011139719226, 5.737011139719226, 5.737011139719226, 5.737011139719226, 5.753098776000914, 5.760070976557278, 5.794250835812225, 5.795430069695064, 5.8191274965803075, 5.872939177607015, 5.872939177607015, 5.872939177607015, 5.872939177607015, 5.874410807187125, 5.874410807187125, 5.874410807187125, 5.874410807187125, 5.874410807187125, 5.874410807187125, 5.874410807187125, 5.875883103810843, 5.883255946417762, 6.124704036632019, 6.127227528238369, 6.127227528238369, 6.127227528238369, 6.127227528238369, 6.127227528238369, 6.129748877067105, 6.371781673449646, 6.374066904023051, 6.374066904023051, 6.374066904023051, 6.374066904023051, 6.374066904023051, 6.374066904023051, 6.443095236065715, 6.454131115463801, 6.491618726537838, 6.581204905869633, 6.581204905869633, 6.581204905869633, 6.594542574186894, 6.803196848418828, 6.803196848418828, 6.9347230618625915, 6.965841180529241, 7.060514595279993, 7.061745228447261, 7.061745228447261], \"yaxis\": \"y\"}, {\"hovertemplate\": \"Year=2018<br>Distance=%{x}<br>Avg Pace=%{y}<extra></extra>\", \"legendgroup\": \"2018\", \"marker\": {\"color\": \"#00cc96\", \"symbol\": \"circle\"}, \"mode\": \"markers\", \"name\": \"2018\", \"orientation\": \"v\", \"showlegend\": true, \"type\": \"scatter\", \"x\": [0.53, 3.19, 5.89, 2.66, 3.05, 2.01, 2.0, 3.13, 2.0, 3.02, 3.0, 2.41, 2.01, 4.15, 3.5, 4.01, 2.74, 5.01, 2.36, 5.25, 3.01, 8.01, 3.01, 5.01, 2.4, 1.61, 6.0, 2.4, 5.01, 3.45, 2.42, 4.01, 3.0, 5.01, 2.4, 3.56, 2.01, 5.0, 4.36, 3.01, 2.41, 1.28, 3.14, 2.2, 3.02, 1.19, 3.31, 5.01, 2.01, 15.07, 2.91, 2.01, 7.01, 3.03, 3.21, 4.01, 0.41, 3.59, 0.4, 0.41, 0.54, 3.13, 7.51, 1.01, 4.01, 3.01, 1.12, 1.11, 2.01, 5.01, 2.41, 2.01, 10.01, 2.01, 1.01, 4.01, 1.01, 1.11, 4.92, 3.04, 5.12, 2.34, 1.13, 3.14, 8.18, 5.07, 5.08], \"xaxis\": \"x\", \"y\": [5.266666666666667, 6.266666666666667, 5.866666666666666, 5.466666666666667, 7.7, 5.55, 5.75, 7.966666666666667, 5.216666666666667, 5.6, 5.433333333333334, 5.566666666666666, 4.916666666666667, 5.7, 6.0, 5.416666666666667, 5.0, 6.0, 4.75, 5.333333333333333, 4.7, 5.433333333333334, 4.8, 5.766666666666667, 4.566666666666666, 5.25, 5.416666666666667, 4.85, 5.983333333333333, 5.566666666666666, 5.0, 5.183333333333334, 4.916666666666667, 5.383333333333334, 4.65, 5.583333333333333, 5.8, 6.5, 5.6, 5.583333333333333, 6.716666666666667, 5.533333333333333, 5.783333333333333, 5.516666666666667, 4.95, 5.6, 6.65, 4.866666666666666, 4.883333333333334, 5.95, 5.666666666666667, 4.933333333333334, 5.466666666666667, 5.216666666666667, 4.866666666666666, 5.066666666666666, 3.55, 5.0, 4.3, 4.183333333333334, 4.433333333333334, 4.983333333333333, 5.433333333333334, 4.35, 5.1, 4.966666666666667, 4.633333333333334, 4.983333333333333, 4.7, 5.2, 4.783333333333333, 5.283333333333333, 5.566666666666666, 4.833333333333333, 4.433333333333334, 5.433333333333334, 4.75, 5.45, 5.166666666666667, 5.15, 5.383333333333334, 5.55, 5.983333333333333, 5.833333333333333, 7.933333333333334, 5.8, 5.933333333333334], \"yaxis\": \"y\"}, {\"hovertemplate\": \"<b>LOWESS trendline</b><br><br>Year=2018<br>Distance=%{x}<br>Avg Pace=%{y} <b>(trend)</b><extra></extra>\", \"legendgroup\": \"2018\", \"marker\": {\"color\": \"#00cc96\", \"symbol\": \"circle\"}, \"mode\": \"lines\", \"name\": \"2018\", \"showlegend\": false, \"type\": \"scatter\", \"x\": [0.4, 0.41, 0.41, 0.53, 0.54, 1.01, 1.01, 1.01, 1.11, 1.11, 1.12, 1.13, 1.19, 1.28, 1.61, 2.0, 2.0, 2.01, 2.01, 2.01, 2.01, 2.01, 2.01, 2.01, 2.01, 2.2, 2.34, 2.36, 2.4, 2.4, 2.4, 2.41, 2.41, 2.41, 2.42, 2.66, 2.74, 2.91, 3.0, 3.0, 3.01, 3.01, 3.01, 3.01, 3.02, 3.02, 3.03, 3.04, 3.05, 3.13, 3.13, 3.14, 3.14, 3.19, 3.21, 3.31, 3.45, 3.5, 3.56, 3.59, 4.01, 4.01, 4.01, 4.01, 4.01, 4.15, 4.36, 4.92, 5.0, 5.01, 5.01, 5.01, 5.01, 5.01, 5.01, 5.07, 5.08, 5.12, 5.25, 5.89, 6.0, 7.01, 7.51, 8.01, 8.18, 10.01, 15.07], \"xaxis\": \"x\", \"y\": [4.586400043099306, 4.59027283392133, 4.59027283392133, 4.635967208019885, 4.639713872062479, 4.8076924382064155, 4.8076924382064155, 4.8076924382064155, 4.842205872712757, 4.842205872712757, 4.845658240668094, 4.849112258119812, 4.86988788454657, 4.901315070560458, 5.021744887056484, 5.140031908357079, 5.140031908357079, 5.141175821739714, 5.141175821739714, 5.141175821739714, 5.141175821739714, 5.141175821739714, 5.141175821739714, 5.141175821739714, 5.141175821739714, 5.167203292095699, 5.187489806897249, 5.189807843564609, 5.193790075858267, 5.193790075858267, 5.193790075858267, 5.194643535110963, 5.194643535110963, 5.194643535110963, 5.1954430910709295, 5.228081104318887, 5.241901253170145, 5.266074039351257, 5.27854106622616, 5.27854106622616, 5.279945719568983, 5.279945719568983, 5.279945719568983, 5.279945719568983, 5.281375739900503, 5.281375739900503, 5.282787946253791, 5.284202095049814, 5.28561559393012, 5.297477778479819, 5.297477778479819, 5.299011890009468, 5.299011890009468, 5.306827284287291, 5.3100297551002384, 5.326839629815482, 5.352688809004051, 5.3618552897838905, 5.370450626232435, 5.374631328736027, 5.440261907780585, 5.440261907780585, 5.440261907780585, 5.440261907780585, 5.440261907780585, 5.460186256945669, 5.487487820141557, 5.549091890588431, 5.554011209854929, 5.55451672055916, 5.55451672055916, 5.55451672055916, 5.55451672055916, 5.55451672055916, 5.55451672055916, 5.557098065763107, 5.557460765744994, 5.559515350428485, 5.5650732318684275, 5.553351745253405, 5.551905670489382, 5.541765116922728, 5.539360081145681, 5.536699319017716, 5.5355757462985515, 5.615048273108349, 5.862621590544343], \"yaxis\": \"y\"}, {\"hovertemplate\": \"Year=2017<br>Distance=%{x}<br>Avg Pace=%{y}<extra></extra>\", \"legendgroup\": \"2017\", \"marker\": {\"color\": \"#ab63fa\", \"symbol\": \"circle\"}, \"mode\": \"markers\", \"name\": \"2017\", \"orientation\": \"v\", \"showlegend\": true, \"type\": \"scatter\", \"x\": [4.96, 3.95, 5.02, 4.61, 3.21, 3.01], \"xaxis\": \"x\", \"y\": [5.9, 6.05, 5.833333333333333, 6.133333333333334, 6.0, 6.083333333333333], \"yaxis\": \"y\"}, {\"hovertemplate\": \"<b>LOWESS trendline</b><br><br>Year=2017<br>Distance=%{x}<br>Avg Pace=%{y} <b>(trend)</b><extra></extra>\", \"legendgroup\": \"2017\", \"marker\": {\"color\": \"#ab63fa\", \"symbol\": \"circle\"}, \"mode\": \"lines\", \"name\": \"2017\", \"showlegend\": false, \"type\": \"scatter\", \"x\": [3.01, 3.21, 3.95, 4.61, 4.96, 5.02], \"xaxis\": \"x\", \"y\": [6.080586222281404, 6.073807752409419, 6.050518902961394, 6.134286908745454, 5.886896132871586, 5.844286214202645], \"yaxis\": \"y\"}],                        {\"legend\": {\"title\": {\"text\": \"Year\"}, \"tracegroupgap\": 0}, \"margin\": {\"t\": 60}, \"template\": {\"data\": {\"bar\": [{\"error_x\": {\"color\": \"#2a3f5f\"}, \"error_y\": {\"color\": \"#2a3f5f\"}, \"marker\": {\"line\": {\"color\": \"#E5ECF6\", \"width\": 0.5}}, \"type\": \"bar\"}], \"barpolar\": [{\"marker\": {\"line\": {\"color\": \"#E5ECF6\", \"width\": 0.5}}, \"type\": \"barpolar\"}], \"carpet\": [{\"aaxis\": {\"endlinecolor\": \"#2a3f5f\", \"gridcolor\": \"white\", \"linecolor\": \"white\", \"minorgridcolor\": \"white\", \"startlinecolor\": \"#2a3f5f\"}, \"baxis\": {\"endlinecolor\": \"#2a3f5f\", \"gridcolor\": \"white\", \"linecolor\": \"white\", \"minorgridcolor\": \"white\", \"startlinecolor\": \"#2a3f5f\"}, \"type\": \"carpet\"}], \"choropleth\": [{\"colorbar\": {\"outlinewidth\": 0, \"ticks\": \"\"}, \"type\": \"choropleth\"}], \"contour\": [{\"colorbar\": {\"outlinewidth\": 0, \"ticks\": \"\"}, \"colorscale\": [[0.0, \"#0d0887\"], [0.1111111111111111, \"#46039f\"], [0.2222222222222222, \"#7201a8\"], [0.3333333333333333, \"#9c179e\"], [0.4444444444444444, \"#bd3786\"], [0.5555555555555556, \"#d8576b\"], [0.6666666666666666, \"#ed7953\"], [0.7777777777777778, \"#fb9f3a\"], [0.8888888888888888, \"#fdca26\"], [1.0, \"#f0f921\"]], \"type\": \"contour\"}], \"contourcarpet\": [{\"colorbar\": {\"outlinewidth\": 0, \"ticks\": \"\"}, \"type\": \"contourcarpet\"}], \"heatmap\": [{\"colorbar\": {\"outlinewidth\": 0, \"ticks\": \"\"}, \"colorscale\": [[0.0, \"#0d0887\"], [0.1111111111111111, \"#46039f\"], [0.2222222222222222, \"#7201a8\"], [0.3333333333333333, \"#9c179e\"], [0.4444444444444444, \"#bd3786\"], [0.5555555555555556, \"#d8576b\"], [0.6666666666666666, \"#ed7953\"], [0.7777777777777778, \"#fb9f3a\"], [0.8888888888888888, \"#fdca26\"], [1.0, \"#f0f921\"]], \"type\": \"heatmap\"}], \"heatmapgl\": [{\"colorbar\": {\"outlinewidth\": 0, \"ticks\": \"\"}, \"colorscale\": [[0.0, \"#0d0887\"], [0.1111111111111111, \"#46039f\"], [0.2222222222222222, \"#7201a8\"], [0.3333333333333333, \"#9c179e\"], [0.4444444444444444, \"#bd3786\"], [0.5555555555555556, \"#d8576b\"], [0.6666666666666666, \"#ed7953\"], [0.7777777777777778, \"#fb9f3a\"], [0.8888888888888888, \"#fdca26\"], [1.0, \"#f0f921\"]], \"type\": \"heatmapgl\"}], \"histogram\": [{\"marker\": {\"colorbar\": {\"outlinewidth\": 0, \"ticks\": \"\"}}, \"type\": \"histogram\"}], \"histogram2d\": [{\"colorbar\": {\"outlinewidth\": 0, \"ticks\": \"\"}, \"colorscale\": [[0.0, \"#0d0887\"], [0.1111111111111111, \"#46039f\"], [0.2222222222222222, \"#7201a8\"], [0.3333333333333333, \"#9c179e\"], [0.4444444444444444, \"#bd3786\"], [0.5555555555555556, \"#d8576b\"], [0.6666666666666666, \"#ed7953\"], [0.7777777777777778, \"#fb9f3a\"], [0.8888888888888888, \"#fdca26\"], [1.0, \"#f0f921\"]], \"type\": \"histogram2d\"}], \"histogram2dcontour\": [{\"colorbar\": {\"outlinewidth\": 0, \"ticks\": \"\"}, \"colorscale\": [[0.0, \"#0d0887\"], [0.1111111111111111, \"#46039f\"], [0.2222222222222222, \"#7201a8\"], [0.3333333333333333, \"#9c179e\"], [0.4444444444444444, \"#bd3786\"], [0.5555555555555556, \"#d8576b\"], [0.6666666666666666, \"#ed7953\"], [0.7777777777777778, \"#fb9f3a\"], [0.8888888888888888, \"#fdca26\"], [1.0, \"#f0f921\"]], \"type\": \"histogram2dcontour\"}], \"mesh3d\": [{\"colorbar\": {\"outlinewidth\": 0, \"ticks\": \"\"}, \"type\": \"mesh3d\"}], \"parcoords\": [{\"line\": {\"colorbar\": {\"outlinewidth\": 0, \"ticks\": \"\"}}, \"type\": \"parcoords\"}], \"pie\": [{\"automargin\": true, \"type\": \"pie\"}], \"scatter\": [{\"marker\": {\"colorbar\": {\"outlinewidth\": 0, \"ticks\": \"\"}}, \"type\": \"scatter\"}], \"scatter3d\": [{\"line\": {\"colorbar\": {\"outlinewidth\": 0, \"ticks\": \"\"}}, \"marker\": {\"colorbar\": {\"outlinewidth\": 0, \"ticks\": \"\"}}, \"type\": \"scatter3d\"}], \"scattercarpet\": [{\"marker\": {\"colorbar\": {\"outlinewidth\": 0, \"ticks\": \"\"}}, \"type\": \"scattercarpet\"}], \"scattergeo\": [{\"marker\": {\"colorbar\": {\"outlinewidth\": 0, \"ticks\": \"\"}}, \"type\": \"scattergeo\"}], \"scattergl\": [{\"marker\": {\"colorbar\": {\"outlinewidth\": 0, \"ticks\": \"\"}}, \"type\": \"scattergl\"}], \"scattermapbox\": [{\"marker\": {\"colorbar\": {\"outlinewidth\": 0, \"ticks\": \"\"}}, \"type\": \"scattermapbox\"}], \"scatterpolar\": [{\"marker\": {\"colorbar\": {\"outlinewidth\": 0, \"ticks\": \"\"}}, \"type\": \"scatterpolar\"}], \"scatterpolargl\": [{\"marker\": {\"colorbar\": {\"outlinewidth\": 0, \"ticks\": \"\"}}, \"type\": \"scatterpolargl\"}], \"scatterternary\": [{\"marker\": {\"colorbar\": {\"outlinewidth\": 0, \"ticks\": \"\"}}, \"type\": \"scatterternary\"}], \"surface\": [{\"colorbar\": {\"outlinewidth\": 0, \"ticks\": \"\"}, \"colorscale\": [[0.0, \"#0d0887\"], [0.1111111111111111, \"#46039f\"], [0.2222222222222222, \"#7201a8\"], [0.3333333333333333, \"#9c179e\"], [0.4444444444444444, \"#bd3786\"], [0.5555555555555556, \"#d8576b\"], [0.6666666666666666, \"#ed7953\"], [0.7777777777777778, \"#fb9f3a\"], [0.8888888888888888, \"#fdca26\"], [1.0, \"#f0f921\"]], \"type\": \"surface\"}], \"table\": [{\"cells\": {\"fill\": {\"color\": \"#EBF0F8\"}, \"line\": {\"color\": \"white\"}}, \"header\": {\"fill\": {\"color\": \"#C8D4E3\"}, \"line\": {\"color\": \"white\"}}, \"type\": \"table\"}]}, \"layout\": {\"annotationdefaults\": {\"arrowcolor\": \"#2a3f5f\", \"arrowhead\": 0, \"arrowwidth\": 1}, \"coloraxis\": {\"colorbar\": {\"outlinewidth\": 0, \"ticks\": \"\"}}, \"colorscale\": {\"diverging\": [[0, \"#8e0152\"], [0.1, \"#c51b7d\"], [0.2, \"#de77ae\"], [0.3, \"#f1b6da\"], [0.4, \"#fde0ef\"], [0.5, \"#f7f7f7\"], [0.6, \"#e6f5d0\"], [0.7, \"#b8e186\"], [0.8, \"#7fbc41\"], [0.9, \"#4d9221\"], [1, \"#276419\"]], \"sequential\": [[0.0, \"#0d0887\"], [0.1111111111111111, \"#46039f\"], [0.2222222222222222, \"#7201a8\"], [0.3333333333333333, \"#9c179e\"], [0.4444444444444444, \"#bd3786\"], [0.5555555555555556, \"#d8576b\"], [0.6666666666666666, \"#ed7953\"], [0.7777777777777778, \"#fb9f3a\"], [0.8888888888888888, \"#fdca26\"], [1.0, \"#f0f921\"]], \"sequentialminus\": [[0.0, \"#0d0887\"], [0.1111111111111111, \"#46039f\"], [0.2222222222222222, \"#7201a8\"], [0.3333333333333333, \"#9c179e\"], [0.4444444444444444, \"#bd3786\"], [0.5555555555555556, \"#d8576b\"], [0.6666666666666666, \"#ed7953\"], [0.7777777777777778, \"#fb9f3a\"], [0.8888888888888888, \"#fdca26\"], [1.0, \"#f0f921\"]]}, \"colorway\": [\"#636efa\", \"#EF553B\", \"#00cc96\", \"#ab63fa\", \"#FFA15A\", \"#19d3f3\", \"#FF6692\", \"#B6E880\", \"#FF97FF\", \"#FECB52\"], \"font\": {\"color\": \"#2a3f5f\"}, \"geo\": {\"bgcolor\": \"white\", \"lakecolor\": \"white\", \"landcolor\": \"#E5ECF6\", \"showlakes\": true, \"showland\": true, \"subunitcolor\": \"white\"}, \"hoverlabel\": {\"align\": \"left\"}, \"hovermode\": \"closest\", \"mapbox\": {\"style\": \"light\"}, \"paper_bgcolor\": \"white\", \"plot_bgcolor\": \"#E5ECF6\", \"polar\": {\"angularaxis\": {\"gridcolor\": \"white\", \"linecolor\": \"white\", \"ticks\": \"\"}, \"bgcolor\": \"#E5ECF6\", \"radialaxis\": {\"gridcolor\": \"white\", \"linecolor\": \"white\", \"ticks\": \"\"}}, \"scene\": {\"xaxis\": {\"backgroundcolor\": \"#E5ECF6\", \"gridcolor\": \"white\", \"gridwidth\": 2, \"linecolor\": \"white\", \"showbackground\": true, \"ticks\": \"\", \"zerolinecolor\": \"white\"}, \"yaxis\": {\"backgroundcolor\": \"#E5ECF6\", \"gridcolor\": \"white\", \"gridwidth\": 2, \"linecolor\": \"white\", \"showbackground\": true, \"ticks\": \"\", \"zerolinecolor\": \"white\"}, \"zaxis\": {\"backgroundcolor\": \"#E5ECF6\", \"gridcolor\": \"white\", \"gridwidth\": 2, \"linecolor\": \"white\", \"showbackground\": true, \"ticks\": \"\", \"zerolinecolor\": \"white\"}}, \"shapedefaults\": {\"line\": {\"color\": \"#2a3f5f\"}}, \"ternary\": {\"aaxis\": {\"gridcolor\": \"white\", \"linecolor\": \"white\", \"ticks\": \"\"}, \"baxis\": {\"gridcolor\": \"white\", \"linecolor\": \"white\", \"ticks\": \"\"}, \"bgcolor\": \"#E5ECF6\", \"caxis\": {\"gridcolor\": \"white\", \"linecolor\": \"white\", \"ticks\": \"\"}}, \"title\": {\"x\": 0.05}, \"xaxis\": {\"automargin\": true, \"gridcolor\": \"white\", \"linecolor\": \"white\", \"ticks\": \"\", \"title\": {\"standoff\": 15}, \"zerolinecolor\": \"white\", \"zerolinewidth\": 2}, \"yaxis\": {\"automargin\": true, \"gridcolor\": \"white\", \"linecolor\": \"white\", \"ticks\": \"\", \"title\": {\"standoff\": 15}, \"zerolinecolor\": \"white\", \"zerolinewidth\": 2}}}, \"xaxis\": {\"anchor\": \"y\", \"domain\": [0.0, 1.0], \"title\": {\"text\": \"Distance\"}}, \"yaxis\": {\"anchor\": \"x\", \"domain\": [0.0, 1.0], \"title\": {\"text\": \"Avg Pace\"}}},                        {\"responsive\": true}                    ).then(function(){\n",
       "                            \n",
       "var gd = document.getElementById('29adf009-f1d8-4ed1-9417-424118f634d2');\n",
       "var x = new MutationObserver(function (mutations, observer) {{\n",
       "        var display = window.getComputedStyle(gd).display;\n",
       "        if (!display || display === 'none') {{\n",
       "            console.log([gd, 'removed!']);\n",
       "            Plotly.purge(gd);\n",
       "            observer.disconnect();\n",
       "        }}\n",
       "}});\n",
       "\n",
       "// Listen for the removal of the full notebook cells\n",
       "var notebookContainer = gd.closest('#notebook-container');\n",
       "if (notebookContainer) {{\n",
       "    x.observe(notebookContainer, {childList: true});\n",
       "}}\n",
       "\n",
       "// Listen for the clearing of the current output cell\n",
       "var outputEl = gd.closest('.output');\n",
       "if (outputEl) {{\n",
       "    x.observe(outputEl, {childList: true});\n",
       "}}\n",
       "\n",
       "                        })                };                });            </script>        </div>"
      ]
     },
     "metadata": {},
     "output_type": "display_data"
    }
   ],
   "source": [
    "fig = px.scatter(running_df, x='Distance', y='Avg Pace', color='Year', trendline='lowess')\n",
    "fig.show()"
   ]
  },
  {
   "cell_type": "code",
   "execution_count": 55,
   "metadata": {},
   "outputs": [
    {
     "data": {
      "application/vnd.plotly.v1+json": {
       "config": {
        "plotlyServerURL": "https://plot.ly"
       },
       "data": [
        {
         "hovertemplate": "Year=2020<br>Avg Pace=%{x}<br>Avg Run Cadence=%{y}<extra></extra>",
         "legendgroup": "2020",
         "marker": {
          "color": "#636efa",
          "symbol": "circle"
         },
         "mode": "markers",
         "name": "2020",
         "orientation": "v",
         "showlegend": true,
         "type": "scatter",
         "x": [
          6.583333333333333,
          6.833333333333333,
          6.766666666666667,
          4.966666666666667,
          6.6,
          6.5,
          5.8,
          6.866666666666666,
          6.75,
          6.516666666666667,
          5.7,
          6.883333333333334,
          5.833333333333333,
          6.766666666666667,
          5.766666666666667,
          6.95,
          6.85,
          6.916666666666667,
          6.216666666666667,
          6.966666666666667,
          6.45,
          6.45,
          6.933333333333334,
          6.95,
          6.85,
          6.366666666666666,
          5.916666666666667,
          6.933333333333334,
          6.433333333333334,
          6.883333333333334,
          6.483333333333333,
          6.966666666666667,
          7.083333333333333,
          7.316666666666666,
          6.316666666666666,
          6.733333333333333,
          6.583333333333333,
          6.466666666666667,
          6.5,
          6.983333333333333,
          6.433333333333334,
          6.966666666666667,
          5.916666666666667,
          5.933333333333334,
          6.283333333333333,
          5.433333333333334,
          5.983333333333333,
          5.516666666666667,
          5.4,
          5.516666666666667,
          5.683333333333334,
          5.716666666666667,
          6,
          6.833333333333333,
          5.816666666666666
         ],
         "xaxis": "x",
         "y": [
          154,
          153,
          154,
          168,
          157,
          160,
          158,
          157,
          158,
          158,
          163,
          157,
          156,
          154,
          160,
          152,
          154,
          154,
          156,
          156,
          155,
          154,
          153,
          148,
          151,
          154,
          155,
          152,
          153,
          150,
          150,
          147,
          150,
          148,
          152,
          146,
          147,
          150,
          150,
          149,
          154,
          148,
          154,
          153,
          151,
          155,
          156,
          160,
          157,
          156,
          152,
          154,
          154,
          152,
          154
         ],
         "yaxis": "y"
        },
        {
         "hovertemplate": "<b>LOWESS trendline</b><br><br>Year=2020<br>Avg Pace=%{x}<br>Avg Run Cadence=%{y} <b>(trend)</b><extra></extra>",
         "legendgroup": "2020",
         "marker": {
          "color": "#636efa",
          "symbol": "circle"
         },
         "mode": "lines",
         "name": "2020",
         "showlegend": false,
         "type": "scatter",
         "x": [
          4.966666666666667,
          5.4,
          5.433333333333334,
          5.516666666666667,
          5.516666666666667,
          5.683333333333334,
          5.7,
          5.716666666666667,
          5.766666666666667,
          5.8,
          5.816666666666666,
          5.833333333333333,
          5.916666666666667,
          5.916666666666667,
          5.933333333333334,
          5.983333333333333,
          6,
          6.216666666666667,
          6.283333333333333,
          6.316666666666666,
          6.366666666666666,
          6.433333333333334,
          6.433333333333334,
          6.45,
          6.45,
          6.466666666666667,
          6.483333333333333,
          6.5,
          6.5,
          6.516666666666667,
          6.583333333333333,
          6.583333333333333,
          6.6,
          6.733333333333333,
          6.75,
          6.766666666666667,
          6.766666666666667,
          6.833333333333333,
          6.833333333333333,
          6.85,
          6.85,
          6.866666666666666,
          6.883333333333334,
          6.883333333333334,
          6.916666666666667,
          6.933333333333334,
          6.933333333333334,
          6.95,
          6.95,
          6.966666666666667,
          6.966666666666667,
          6.966666666666667,
          6.983333333333333,
          7.083333333333333,
          7.316666666666666
         ],
         "xaxis": "x",
         "y": [
          161.90391182657234,
          158.54052440949565,
          158.28916563769218,
          157.65952616972552,
          157.65952616972552,
          156.430957510671,
          156.3163710395139,
          156.2049060288171,
          155.89552957402947,
          155.7165154540249,
          155.63647130926265,
          155.56255496158755,
          155.23445738411343,
          155.23445738411343,
          155.169610180989,
          154.972464933221,
          154.90516922666336,
          154.01505130766668,
          153.72923826406432,
          153.62052033066922,
          153.51385971741882,
          153.35631812245296,
          153.35631812245296,
          153.34474725277977,
          153.34474725277977,
          153.33287395593405,
          153.3299092121182,
          153.32765486460804,
          153.32765486460804,
          153.32673203953556,
          153.36132583095244,
          153.36132583095244,
          153.38092838401167,
          152.9209996596059,
          152.8335448195165,
          152.7448306947133,
          152.7448306947133,
          152.40979505066062,
          152.40979505066062,
          152.3034842755888,
          152.3034842755888,
          152.19156959090918,
          152.0741782662434,
          152.0741782662434,
          151.825318800574,
          151.6950641260508,
          151.6950641260508,
          151.56148851633571,
          151.56148851633571,
          151.4248172475198,
          151.4248172475198,
          151.4248172475198,
          151.28526239655136,
          150.39934494908843,
          148.12557375681288
         ],
         "yaxis": "y"
        },
        {
         "hovertemplate": "Year=2019<br>Avg Pace=%{x}<br>Avg Run Cadence=%{y}<extra></extra>",
         "legendgroup": "2019",
         "marker": {
          "color": "#EF553B",
          "symbol": "circle"
         },
         "mode": "markers",
         "name": "2019",
         "orientation": "v",
         "showlegend": true,
         "type": "scatter",
         "x": [
          5.783333333333333,
          6.3,
          6.083333333333333,
          6.316666666666666,
          5.916666666666667,
          5.8,
          6.866666666666666,
          6.483333333333333,
          6.933333333333334,
          6.583333333333333,
          6.533333333333333,
          5.433333333333334,
          6.666666666666667,
          6.65,
          6.716666666666667,
          5.283333333333333,
          6.85,
          5.75,
          6.933333333333334,
          5.9,
          5.883333333333334,
          6.9,
          6.483333333333333,
          5.916666666666667,
          6.95,
          5.7,
          7,
          6.866666666666666,
          6.3,
          6.9,
          6.316666666666666,
          7.116666666666666,
          6.5,
          5.45,
          6.5,
          6,
          5.483333333333333,
          5.95,
          4.95,
          5.633333333333334,
          5.783333333333333,
          5.55,
          5.866666666666666,
          4.766666666666667,
          5.983333333333333,
          5.583333333333333,
          5.9,
          4.683333333333334,
          5.566666666666666,
          5.966666666666667,
          6,
          6.55,
          5.6,
          5.483333333333333,
          4.883333333333334,
          5.316666666666666,
          5.883333333333334,
          5.233333333333333,
          5.966666666666667,
          5.683333333333334,
          4.983333333333333,
          5.5,
          4.95,
          5.7,
          5.466666666666667,
          5.8,
          5.716666666666667,
          5.9,
          5.85,
          5.433333333333334,
          5.5,
          5.033333333333333,
          5.416666666666667,
          5.9,
          5.566666666666666,
          5.883333333333334,
          5.383333333333334,
          5.5,
          5.966666666666667,
          5.883333333333334,
          5.966666666666667,
          5.616666666666666,
          5.466666666666667,
          7.283333333333333,
          5.8,
          5.933333333333334
         ],
         "xaxis": "x",
         "y": [
          155,
          152,
          154,
          152,
          152,
          152,
          154,
          154,
          151,
          154,
          153,
          160,
          153,
          152,
          152,
          159,
          157,
          157,
          157,
          160,
          156,
          155,
          153,
          157,
          156,
          155,
          153,
          153,
          161,
          154,
          156,
          156,
          154,
          154,
          154,
          153,
          159,
          157,
          161,
          155,
          156,
          156,
          156,
          165,
          156,
          159,
          158,
          167,
          161,
          156,
          156,
          155,
          159,
          160,
          170,
          162,
          155,
          162,
          158,
          154,
          165,
          157,
          160,
          156,
          160,
          153,
          160,
          158,
          158,
          160,
          157,
          163,
          158,
          154,
          158,
          165,
          165,
          165,
          155,
          159,
          159,
          165,
          164,
          140,
          166,
          165
         ],
         "yaxis": "y"
        },
        {
         "hovertemplate": "<b>LOWESS trendline</b><br><br>Year=2019<br>Avg Pace=%{x}<br>Avg Run Cadence=%{y} <b>(trend)</b><extra></extra>",
         "legendgroup": "2019",
         "marker": {
          "color": "#EF553B",
          "symbol": "circle"
         },
         "mode": "lines",
         "name": "2019",
         "showlegend": false,
         "type": "scatter",
         "x": [
          4.683333333333334,
          4.766666666666667,
          4.883333333333334,
          4.95,
          4.95,
          4.983333333333333,
          5.033333333333333,
          5.233333333333333,
          5.283333333333333,
          5.316666666666666,
          5.383333333333334,
          5.416666666666667,
          5.433333333333334,
          5.433333333333334,
          5.45,
          5.466666666666667,
          5.466666666666667,
          5.483333333333333,
          5.483333333333333,
          5.5,
          5.5,
          5.5,
          5.55,
          5.566666666666666,
          5.566666666666666,
          5.583333333333333,
          5.6,
          5.616666666666666,
          5.633333333333334,
          5.683333333333334,
          5.7,
          5.7,
          5.716666666666667,
          5.75,
          5.783333333333333,
          5.783333333333333,
          5.8,
          5.8,
          5.8,
          5.85,
          5.866666666666666,
          5.883333333333334,
          5.883333333333334,
          5.883333333333334,
          5.883333333333334,
          5.9,
          5.9,
          5.9,
          5.9,
          5.916666666666667,
          5.916666666666667,
          5.933333333333334,
          5.95,
          5.966666666666667,
          5.966666666666667,
          5.966666666666667,
          5.966666666666667,
          5.983333333333333,
          6,
          6,
          6.083333333333333,
          6.3,
          6.3,
          6.316666666666666,
          6.316666666666666,
          6.483333333333333,
          6.483333333333333,
          6.5,
          6.5,
          6.533333333333333,
          6.55,
          6.583333333333333,
          6.65,
          6.666666666666667,
          6.716666666666667,
          6.85,
          6.866666666666666,
          6.866666666666666,
          6.9,
          6.9,
          6.933333333333334,
          6.933333333333334,
          6.95,
          7,
          7.116666666666666,
          7.283333333333333
         ],
         "xaxis": "x",
         "y": [
          166.2322852985301,
          165.50284588668035,
          164.48314356515277,
          163.89898053402604,
          163.89898053402604,
          163.6051561410561,
          163.16179254497885,
          161.36405410974785,
          160.92389144898087,
          160.6431292201638,
          160.08556336782522,
          159.83239381053684,
          159.70640382017987,
          159.70640382017987,
          159.57004460847347,
          159.41629009058602,
          159.41629009058602,
          159.24857077313789,
          159.24857077313789,
          159.0874469731138,
          159.0874469731138,
          159.0874469731138,
          158.67100497000197,
          158.54492239454868,
          158.54492239454868,
          158.42200722740645,
          158.3011729115905,
          158.18166943347623,
          158.05838296331902,
          157.68531431358332,
          157.5602109882271,
          157.5602109882271,
          157.4353481504891,
          157.1871766217901,
          156.94282984824417,
          156.94282984824417,
          156.8228630043352,
          156.8228630043352,
          156.8228630043352,
          156.5296451551843,
          156.4379085489644,
          156.34862944716954,
          156.34862944716954,
          156.34862944716954,
          156.34862944716954,
          156.25421872672325,
          156.25421872672325,
          156.25421872672325,
          156.25421872672325,
          156.1679103896707,
          156.1679103896707,
          156.09158618159404,
          156.02088488602027,
          155.96207129221614,
          155.96207129221614,
          155.96207129221614,
          155.96207129221614,
          155.8895724543378,
          155.82537852725682,
          155.82537852725682,
          155.48128767025327,
          154.6506804887437,
          154.6506804887437,
          154.60694493108687,
          154.60694493108687,
          154.380797333649,
          154.380797333649,
          154.3644395235189,
          154.3644395235189,
          154.3295959809871,
          154.31144807753714,
          154.2744750490356,
          154.20094226898158,
          154.18311381611662,
          154.13194177362837,
          154.02054261048724,
          154.00977788335862,
          154.00977788335862,
          153.9905272316215,
          153.9905272316215,
          153.9743316017803,
          153.9743316017803,
          153.9673732940836,
          153.95094297455077,
          153.93686211983623,
          153.96898422695807
         ],
         "yaxis": "y"
        },
        {
         "hovertemplate": "Year=2018<br>Avg Pace=%{x}<br>Avg Run Cadence=%{y}<extra></extra>",
         "legendgroup": "2018",
         "marker": {
          "color": "#00cc96",
          "symbol": "circle"
         },
         "mode": "markers",
         "name": "2018",
         "orientation": "v",
         "showlegend": true,
         "type": "scatter",
         "x": [
          5.266666666666667,
          6.266666666666667,
          5.866666666666666,
          5.466666666666667,
          7.7,
          5.55,
          5.75,
          7.966666666666667,
          5.216666666666667,
          5.6,
          5.433333333333334,
          5.566666666666666,
          4.916666666666667,
          5.7,
          6,
          5.416666666666667,
          5,
          6,
          4.75,
          5.333333333333333,
          4.7,
          5.433333333333334,
          4.8,
          5.766666666666667,
          4.566666666666666,
          5.25,
          5.416666666666667,
          4.85,
          5.983333333333333,
          5.566666666666666,
          5,
          5.183333333333334,
          4.916666666666667,
          5.383333333333334,
          4.65,
          5.583333333333333,
          5.8,
          6.5,
          5.6,
          5.583333333333333,
          6.716666666666667,
          5.533333333333333,
          5.783333333333333,
          5.516666666666667,
          4.95,
          5.6,
          6.65,
          4.866666666666666,
          4.883333333333334,
          5.95,
          5.666666666666667,
          4.933333333333334,
          5.466666666666667,
          5.216666666666667,
          4.866666666666666,
          5.066666666666666,
          3.55,
          5,
          4.3,
          4.183333333333334,
          4.433333333333334,
          4.983333333333333,
          5.433333333333334,
          4.35,
          5.1,
          4.966666666666667,
          4.633333333333334,
          4.983333333333333,
          4.7,
          5.2,
          4.783333333333333,
          5.283333333333333,
          5.566666666666666,
          4.833333333333333,
          4.433333333333334,
          5.433333333333334,
          4.75,
          5.45,
          5.166666666666667,
          5.15,
          5.383333333333334,
          5.55,
          5.983333333333333,
          5.833333333333333,
          7.933333333333334,
          5.8,
          5.933333333333334
         ],
         "xaxis": "x",
         "y": [
          166,
          162,
          164,
          166,
          161,
          168,
          164,
          157,
          169,
          165,
          170,
          168,
          168,
          161,
          160,
          168,
          173,
          166,
          173,
          168,
          171,
          166,
          174,
          164,
          179,
          171,
          172,
          171,
          161,
          164,
          170,
          175,
          174,
          179,
          179,
          175,
          171,
          175,
          174,
          173,
          168,
          173,
          178,
          174,
          174,
          169,
          166,
          172,
          171,
          170,
          170,
          170,
          171,
          164,
          174,
          171,
          197,
          168,
          177,
          179,
          170,
          171,
          168,
          189,
          172,
          174,
          176,
          172,
          181,
          175,
          179,
          174,
          172,
          176,
          184,
          171,
          180,
          166,
          null,
          null,
          null,
          null,
          null,
          null,
          null,
          null,
          null
         ],
         "yaxis": "y"
        },
        {
         "hovertemplate": "<b>LOWESS trendline</b><br><br>Year=2018<br>Avg Pace=%{x}<br>Avg Run Cadence=%{y} <b>(trend)</b><extra></extra>",
         "legendgroup": "2018",
         "marker": {
          "color": "#00cc96",
          "symbol": "circle"
         },
         "mode": "lines",
         "name": "2018",
         "showlegend": false,
         "type": "scatter",
         "x": [
          3.55,
          4.183333333333334,
          4.3,
          4.35,
          4.433333333333334,
          4.433333333333334,
          4.566666666666666,
          4.633333333333334,
          4.65,
          4.7,
          4.7,
          4.75,
          4.75,
          4.783333333333333,
          4.8,
          4.833333333333333,
          4.85,
          4.866666666666666,
          4.866666666666666,
          4.883333333333334,
          4.916666666666667,
          4.916666666666667,
          4.933333333333334,
          4.95,
          4.966666666666667,
          4.983333333333333,
          4.983333333333333,
          5,
          5,
          5,
          5.066666666666666,
          5.1,
          5.183333333333334,
          5.2,
          5.216666666666667,
          5.216666666666667,
          5.25,
          5.266666666666667,
          5.283333333333333,
          5.333333333333333,
          5.383333333333334,
          5.416666666666667,
          5.416666666666667,
          5.433333333333334,
          5.433333333333334,
          5.433333333333334,
          5.433333333333334,
          5.45,
          5.466666666666667,
          5.466666666666667,
          5.516666666666667,
          5.533333333333333,
          5.55,
          5.566666666666666,
          5.566666666666666,
          5.566666666666666,
          5.583333333333333,
          5.583333333333333,
          5.6,
          5.6,
          5.6,
          5.666666666666667,
          5.7,
          5.75,
          5.766666666666667,
          5.783333333333333,
          5.8,
          5.866666666666666,
          5.95,
          5.983333333333333,
          6,
          6,
          6.266666666666667,
          6.5,
          6.65,
          6.716666666666667,
          7.7,
          7.966666666666667
         ],
         "xaxis": "x",
         "y": [
          193.94680181644202,
          183.61579500682646,
          181.5830133445439,
          180.68742629500437,
          179.22685344907998,
          179.22685344907998,
          177.3812996466414,
          176.59810697648172,
          176.40387086342795,
          175.8235386099808,
          175.8235386099808,
          175.24212228030717,
          175.24212228030717,
          174.84886086844995,
          174.64888970826968,
          174.23976687600884,
          174.03075811779522,
          173.82038272040168,
          173.82038272040168,
          173.6306150890863,
          173.22552896020474,
          173.22552896020474,
          173.0299685062361,
          172.8405819644196,
          172.65512254839183,
          172.47161302743115,
          172.47161302743115,
          172.29046267222694,
          172.29046267222694,
          172.29046267222694,
          171.634647747814,
          171.3547873085212,
          170.82750673830475,
          170.7754867020662,
          170.67867755519964,
          170.67867755519964,
          170.56393906864415,
          170.49995508072786,
          170.43717920618113,
          170.24538444280793,
          170.02638562493047,
          169.86571310816683,
          169.86571310816683,
          169.7759495189642,
          169.7759495189642,
          169.7759495189642,
          169.7759495189642,
          169.70143151271563,
          169.61400436756176,
          169.61400436756176,
          169.27798049504216,
          169.1497511605521,
          169.01671812986368,
          168.8805147647534,
          168.8805147647534,
          168.8805147647534,
          168.74228032967827,
          168.74228032967827,
          168.6027175431749,
          168.6027175431749,
          168.6027175431749,
          168.02474591016554,
          167.72532424121593,
          167.28034020290255,
          167.1491046805929,
          167.03214744723059,
          166.90306740689027,
          166.5960354568384,
          166.6514964954522,
          166.69432522105558,
          166.70877277072807,
          166.70877277072807,
          166.43502377261973,
          165.89684298929683,
          165.17767066095743,
          164.81010380424308,
          160.5626095533995,
          159.45519184818858
         ],
         "yaxis": "y"
        },
        {
         "hovertemplate": "Year=2017<br>Avg Pace=%{x}<br>Avg Run Cadence=%{y}<extra></extra>",
         "legendgroup": "2017",
         "marker": {
          "color": "#ab63fa",
          "symbol": "circle"
         },
         "mode": "markers",
         "name": "2017",
         "orientation": "v",
         "showlegend": true,
         "type": "scatter",
         "x": [
          5.9,
          6.05,
          5.833333333333333,
          6.133333333333334,
          6,
          6.083333333333333
         ],
         "xaxis": "x",
         "y": [
          null,
          null,
          null,
          null,
          null,
          null
         ],
         "yaxis": "y"
        },
        {
         "hovertemplate": "Year=2017<extra></extra>",
         "legendgroup": "2017",
         "marker": {
          "color": "#ab63fa",
          "symbol": "circle"
         },
         "mode": "lines",
         "name": "2017",
         "showlegend": false,
         "type": "scatter",
         "xaxis": "x",
         "yaxis": "y"
        }
       ],
       "layout": {
        "autosize": true,
        "legend": {
         "title": {
          "text": "Year"
         },
         "tracegroupgap": 0
        },
        "margin": {
         "t": 60
        },
        "template": {
         "data": {
          "bar": [
           {
            "error_x": {
             "color": "#2a3f5f"
            },
            "error_y": {
             "color": "#2a3f5f"
            },
            "marker": {
             "line": {
              "color": "#E5ECF6",
              "width": 0.5
             }
            },
            "type": "bar"
           }
          ],
          "barpolar": [
           {
            "marker": {
             "line": {
              "color": "#E5ECF6",
              "width": 0.5
             }
            },
            "type": "barpolar"
           }
          ],
          "carpet": [
           {
            "aaxis": {
             "endlinecolor": "#2a3f5f",
             "gridcolor": "white",
             "linecolor": "white",
             "minorgridcolor": "white",
             "startlinecolor": "#2a3f5f"
            },
            "baxis": {
             "endlinecolor": "#2a3f5f",
             "gridcolor": "white",
             "linecolor": "white",
             "minorgridcolor": "white",
             "startlinecolor": "#2a3f5f"
            },
            "type": "carpet"
           }
          ],
          "choropleth": [
           {
            "colorbar": {
             "outlinewidth": 0,
             "ticks": ""
            },
            "type": "choropleth"
           }
          ],
          "contour": [
           {
            "colorbar": {
             "outlinewidth": 0,
             "ticks": ""
            },
            "colorscale": [
             [
              0,
              "#0d0887"
             ],
             [
              0.1111111111111111,
              "#46039f"
             ],
             [
              0.2222222222222222,
              "#7201a8"
             ],
             [
              0.3333333333333333,
              "#9c179e"
             ],
             [
              0.4444444444444444,
              "#bd3786"
             ],
             [
              0.5555555555555556,
              "#d8576b"
             ],
             [
              0.6666666666666666,
              "#ed7953"
             ],
             [
              0.7777777777777778,
              "#fb9f3a"
             ],
             [
              0.8888888888888888,
              "#fdca26"
             ],
             [
              1,
              "#f0f921"
             ]
            ],
            "type": "contour"
           }
          ],
          "contourcarpet": [
           {
            "colorbar": {
             "outlinewidth": 0,
             "ticks": ""
            },
            "type": "contourcarpet"
           }
          ],
          "heatmap": [
           {
            "colorbar": {
             "outlinewidth": 0,
             "ticks": ""
            },
            "colorscale": [
             [
              0,
              "#0d0887"
             ],
             [
              0.1111111111111111,
              "#46039f"
             ],
             [
              0.2222222222222222,
              "#7201a8"
             ],
             [
              0.3333333333333333,
              "#9c179e"
             ],
             [
              0.4444444444444444,
              "#bd3786"
             ],
             [
              0.5555555555555556,
              "#d8576b"
             ],
             [
              0.6666666666666666,
              "#ed7953"
             ],
             [
              0.7777777777777778,
              "#fb9f3a"
             ],
             [
              0.8888888888888888,
              "#fdca26"
             ],
             [
              1,
              "#f0f921"
             ]
            ],
            "type": "heatmap"
           }
          ],
          "heatmapgl": [
           {
            "colorbar": {
             "outlinewidth": 0,
             "ticks": ""
            },
            "colorscale": [
             [
              0,
              "#0d0887"
             ],
             [
              0.1111111111111111,
              "#46039f"
             ],
             [
              0.2222222222222222,
              "#7201a8"
             ],
             [
              0.3333333333333333,
              "#9c179e"
             ],
             [
              0.4444444444444444,
              "#bd3786"
             ],
             [
              0.5555555555555556,
              "#d8576b"
             ],
             [
              0.6666666666666666,
              "#ed7953"
             ],
             [
              0.7777777777777778,
              "#fb9f3a"
             ],
             [
              0.8888888888888888,
              "#fdca26"
             ],
             [
              1,
              "#f0f921"
             ]
            ],
            "type": "heatmapgl"
           }
          ],
          "histogram": [
           {
            "marker": {
             "colorbar": {
              "outlinewidth": 0,
              "ticks": ""
             }
            },
            "type": "histogram"
           }
          ],
          "histogram2d": [
           {
            "colorbar": {
             "outlinewidth": 0,
             "ticks": ""
            },
            "colorscale": [
             [
              0,
              "#0d0887"
             ],
             [
              0.1111111111111111,
              "#46039f"
             ],
             [
              0.2222222222222222,
              "#7201a8"
             ],
             [
              0.3333333333333333,
              "#9c179e"
             ],
             [
              0.4444444444444444,
              "#bd3786"
             ],
             [
              0.5555555555555556,
              "#d8576b"
             ],
             [
              0.6666666666666666,
              "#ed7953"
             ],
             [
              0.7777777777777778,
              "#fb9f3a"
             ],
             [
              0.8888888888888888,
              "#fdca26"
             ],
             [
              1,
              "#f0f921"
             ]
            ],
            "type": "histogram2d"
           }
          ],
          "histogram2dcontour": [
           {
            "colorbar": {
             "outlinewidth": 0,
             "ticks": ""
            },
            "colorscale": [
             [
              0,
              "#0d0887"
             ],
             [
              0.1111111111111111,
              "#46039f"
             ],
             [
              0.2222222222222222,
              "#7201a8"
             ],
             [
              0.3333333333333333,
              "#9c179e"
             ],
             [
              0.4444444444444444,
              "#bd3786"
             ],
             [
              0.5555555555555556,
              "#d8576b"
             ],
             [
              0.6666666666666666,
              "#ed7953"
             ],
             [
              0.7777777777777778,
              "#fb9f3a"
             ],
             [
              0.8888888888888888,
              "#fdca26"
             ],
             [
              1,
              "#f0f921"
             ]
            ],
            "type": "histogram2dcontour"
           }
          ],
          "mesh3d": [
           {
            "colorbar": {
             "outlinewidth": 0,
             "ticks": ""
            },
            "type": "mesh3d"
           }
          ],
          "parcoords": [
           {
            "line": {
             "colorbar": {
              "outlinewidth": 0,
              "ticks": ""
             }
            },
            "type": "parcoords"
           }
          ],
          "pie": [
           {
            "automargin": true,
            "type": "pie"
           }
          ],
          "scatter": [
           {
            "marker": {
             "colorbar": {
              "outlinewidth": 0,
              "ticks": ""
             }
            },
            "type": "scatter"
           }
          ],
          "scatter3d": [
           {
            "line": {
             "colorbar": {
              "outlinewidth": 0,
              "ticks": ""
             }
            },
            "marker": {
             "colorbar": {
              "outlinewidth": 0,
              "ticks": ""
             }
            },
            "type": "scatter3d"
           }
          ],
          "scattercarpet": [
           {
            "marker": {
             "colorbar": {
              "outlinewidth": 0,
              "ticks": ""
             }
            },
            "type": "scattercarpet"
           }
          ],
          "scattergeo": [
           {
            "marker": {
             "colorbar": {
              "outlinewidth": 0,
              "ticks": ""
             }
            },
            "type": "scattergeo"
           }
          ],
          "scattergl": [
           {
            "marker": {
             "colorbar": {
              "outlinewidth": 0,
              "ticks": ""
             }
            },
            "type": "scattergl"
           }
          ],
          "scattermapbox": [
           {
            "marker": {
             "colorbar": {
              "outlinewidth": 0,
              "ticks": ""
             }
            },
            "type": "scattermapbox"
           }
          ],
          "scatterpolar": [
           {
            "marker": {
             "colorbar": {
              "outlinewidth": 0,
              "ticks": ""
             }
            },
            "type": "scatterpolar"
           }
          ],
          "scatterpolargl": [
           {
            "marker": {
             "colorbar": {
              "outlinewidth": 0,
              "ticks": ""
             }
            },
            "type": "scatterpolargl"
           }
          ],
          "scatterternary": [
           {
            "marker": {
             "colorbar": {
              "outlinewidth": 0,
              "ticks": ""
             }
            },
            "type": "scatterternary"
           }
          ],
          "surface": [
           {
            "colorbar": {
             "outlinewidth": 0,
             "ticks": ""
            },
            "colorscale": [
             [
              0,
              "#0d0887"
             ],
             [
              0.1111111111111111,
              "#46039f"
             ],
             [
              0.2222222222222222,
              "#7201a8"
             ],
             [
              0.3333333333333333,
              "#9c179e"
             ],
             [
              0.4444444444444444,
              "#bd3786"
             ],
             [
              0.5555555555555556,
              "#d8576b"
             ],
             [
              0.6666666666666666,
              "#ed7953"
             ],
             [
              0.7777777777777778,
              "#fb9f3a"
             ],
             [
              0.8888888888888888,
              "#fdca26"
             ],
             [
              1,
              "#f0f921"
             ]
            ],
            "type": "surface"
           }
          ],
          "table": [
           {
            "cells": {
             "fill": {
              "color": "#EBF0F8"
             },
             "line": {
              "color": "white"
             }
            },
            "header": {
             "fill": {
              "color": "#C8D4E3"
             },
             "line": {
              "color": "white"
             }
            },
            "type": "table"
           }
          ]
         },
         "layout": {
          "annotationdefaults": {
           "arrowcolor": "#2a3f5f",
           "arrowhead": 0,
           "arrowwidth": 1
          },
          "coloraxis": {
           "colorbar": {
            "outlinewidth": 0,
            "ticks": ""
           }
          },
          "colorscale": {
           "diverging": [
            [
             0,
             "#8e0152"
            ],
            [
             0.1,
             "#c51b7d"
            ],
            [
             0.2,
             "#de77ae"
            ],
            [
             0.3,
             "#f1b6da"
            ],
            [
             0.4,
             "#fde0ef"
            ],
            [
             0.5,
             "#f7f7f7"
            ],
            [
             0.6,
             "#e6f5d0"
            ],
            [
             0.7,
             "#b8e186"
            ],
            [
             0.8,
             "#7fbc41"
            ],
            [
             0.9,
             "#4d9221"
            ],
            [
             1,
             "#276419"
            ]
           ],
           "sequential": [
            [
             0,
             "#0d0887"
            ],
            [
             0.1111111111111111,
             "#46039f"
            ],
            [
             0.2222222222222222,
             "#7201a8"
            ],
            [
             0.3333333333333333,
             "#9c179e"
            ],
            [
             0.4444444444444444,
             "#bd3786"
            ],
            [
             0.5555555555555556,
             "#d8576b"
            ],
            [
             0.6666666666666666,
             "#ed7953"
            ],
            [
             0.7777777777777778,
             "#fb9f3a"
            ],
            [
             0.8888888888888888,
             "#fdca26"
            ],
            [
             1,
             "#f0f921"
            ]
           ],
           "sequentialminus": [
            [
             0,
             "#0d0887"
            ],
            [
             0.1111111111111111,
             "#46039f"
            ],
            [
             0.2222222222222222,
             "#7201a8"
            ],
            [
             0.3333333333333333,
             "#9c179e"
            ],
            [
             0.4444444444444444,
             "#bd3786"
            ],
            [
             0.5555555555555556,
             "#d8576b"
            ],
            [
             0.6666666666666666,
             "#ed7953"
            ],
            [
             0.7777777777777778,
             "#fb9f3a"
            ],
            [
             0.8888888888888888,
             "#fdca26"
            ],
            [
             1,
             "#f0f921"
            ]
           ]
          },
          "colorway": [
           "#636efa",
           "#EF553B",
           "#00cc96",
           "#ab63fa",
           "#FFA15A",
           "#19d3f3",
           "#FF6692",
           "#B6E880",
           "#FF97FF",
           "#FECB52"
          ],
          "font": {
           "color": "#2a3f5f"
          },
          "geo": {
           "bgcolor": "white",
           "lakecolor": "white",
           "landcolor": "#E5ECF6",
           "showlakes": true,
           "showland": true,
           "subunitcolor": "white"
          },
          "hoverlabel": {
           "align": "left"
          },
          "hovermode": "closest",
          "mapbox": {
           "style": "light"
          },
          "paper_bgcolor": "white",
          "plot_bgcolor": "#E5ECF6",
          "polar": {
           "angularaxis": {
            "gridcolor": "white",
            "linecolor": "white",
            "ticks": ""
           },
           "bgcolor": "#E5ECF6",
           "radialaxis": {
            "gridcolor": "white",
            "linecolor": "white",
            "ticks": ""
           }
          },
          "scene": {
           "xaxis": {
            "backgroundcolor": "#E5ECF6",
            "gridcolor": "white",
            "gridwidth": 2,
            "linecolor": "white",
            "showbackground": true,
            "ticks": "",
            "zerolinecolor": "white"
           },
           "yaxis": {
            "backgroundcolor": "#E5ECF6",
            "gridcolor": "white",
            "gridwidth": 2,
            "linecolor": "white",
            "showbackground": true,
            "ticks": "",
            "zerolinecolor": "white"
           },
           "zaxis": {
            "backgroundcolor": "#E5ECF6",
            "gridcolor": "white",
            "gridwidth": 2,
            "linecolor": "white",
            "showbackground": true,
            "ticks": "",
            "zerolinecolor": "white"
           }
          },
          "shapedefaults": {
           "line": {
            "color": "#2a3f5f"
           }
          },
          "ternary": {
           "aaxis": {
            "gridcolor": "white",
            "linecolor": "white",
            "ticks": ""
           },
           "baxis": {
            "gridcolor": "white",
            "linecolor": "white",
            "ticks": ""
           },
           "bgcolor": "#E5ECF6",
           "caxis": {
            "gridcolor": "white",
            "linecolor": "white",
            "ticks": ""
           }
          },
          "title": {
           "x": 0.05
          },
          "xaxis": {
           "automargin": true,
           "gridcolor": "white",
           "linecolor": "white",
           "ticks": "",
           "title": {
            "standoff": 15
           },
           "zerolinecolor": "white",
           "zerolinewidth": 2
          },
          "yaxis": {
           "automargin": true,
           "gridcolor": "white",
           "linecolor": "white",
           "ticks": "",
           "title": {
            "standoff": 15
           },
           "zerolinecolor": "white",
           "zerolinewidth": 2
          }
         }
        },
        "xaxis": {
         "anchor": "y",
         "autorange": true,
         "domain": [
          0,
          1
         ],
         "range": [
          3.2883324477506197,
          8.228334218916046
         ],
         "title": {
          "text": "Avg Pace"
         },
         "type": "linear"
        },
        "yaxis": {
         "anchor": "x",
         "autorange": true,
         "domain": [
          0,
          1
         ],
         "range": [
          135.9585635359116,
          201.0414364640884
         ],
         "title": {
          "text": "Avg Run Cadence"
         },
         "type": "linear"
        }
       }
      },
      "image/png": "[encoded data removed]",
      "text/html": [
       "<div>                            <div id=\"530e0161-60a5-4416-aaa3-6f442d2b400e\" class=\"plotly-graph-div\" style=\"height:525px; width:100%;\"></div>            <script type=\"text/javascript\">                require([\"plotly\"], function(Plotly) {                    window.PLOTLYENV=window.PLOTLYENV || {};                                    if (document.getElementById(\"530e0161-60a5-4416-aaa3-6f442d2b400e\")) {                    Plotly.newPlot(                        \"530e0161-60a5-4416-aaa3-6f442d2b400e\",                        [{\"hovertemplate\": \"Year=2020<br>Avg Pace=%{x}<br>Avg Run Cadence=%{y}<extra></extra>\", \"legendgroup\": \"2020\", \"marker\": {\"color\": \"#636efa\", \"symbol\": \"circle\"}, \"mode\": \"markers\", \"name\": \"2020\", \"orientation\": \"v\", \"showlegend\": true, \"type\": \"scatter\", \"x\": [6.583333333333333, 6.833333333333333, 6.766666666666667, 4.966666666666667, 6.6, 6.5, 5.8, 6.866666666666666, 6.75, 6.516666666666667, 5.7, 6.883333333333334, 5.833333333333333, 6.766666666666667, 5.766666666666667, 6.95, 6.85, 6.916666666666667, 6.216666666666667, 6.966666666666667, 6.45, 6.45, 6.933333333333334, 6.95, 6.85, 6.366666666666666, 5.916666666666667, 6.933333333333334, 6.433333333333334, 6.883333333333334, 6.483333333333333, 6.966666666666667, 7.083333333333333, 7.316666666666666, 6.316666666666666, 6.733333333333333, 6.583333333333333, 6.466666666666667, 6.5, 6.983333333333333, 6.433333333333334, 6.966666666666667, 5.916666666666667, 5.933333333333334, 6.283333333333333, 5.433333333333334, 5.983333333333333, 5.516666666666667, 5.4, 5.516666666666667, 5.683333333333334, 5.716666666666667, 6.0, 6.833333333333333, 5.816666666666666], \"xaxis\": \"x\", \"y\": [154.0, 153.0, 154.0, 168.0, 157.0, 160.0, 158.0, 157.0, 158.0, 158.0, 163.0, 157.0, 156.0, 154.0, 160.0, 152.0, 154.0, 154.0, 156.0, 156.0, 155.0, 154.0, 153.0, 148.0, 151.0, 154.0, 155.0, 152.0, 153.0, 150.0, 150.0, 147.0, 150.0, 148.0, 152.0, 146.0, 147.0, 150.0, 150.0, 149.0, 154.0, 148.0, 154.0, 153.0, 151.0, 155.0, 156.0, 160.0, 157.0, 156.0, 152.0, 154.0, 154.0, 152.0, 154.0], \"yaxis\": \"y\"}, {\"hovertemplate\": \"<b>LOWESS trendline</b><br><br>Year=2020<br>Avg Pace=%{x}<br>Avg Run Cadence=%{y} <b>(trend)</b><extra></extra>\", \"legendgroup\": \"2020\", \"marker\": {\"color\": \"#636efa\", \"symbol\": \"circle\"}, \"mode\": \"lines\", \"name\": \"2020\", \"showlegend\": false, \"type\": \"scatter\", \"x\": [4.966666666666667, 5.4, 5.433333333333334, 5.516666666666667, 5.516666666666667, 5.683333333333334, 5.7, 5.716666666666667, 5.766666666666667, 5.8, 5.816666666666666, 5.833333333333333, 5.916666666666667, 5.916666666666667, 5.933333333333334, 5.983333333333333, 6.0, 6.216666666666667, 6.283333333333333, 6.316666666666666, 6.366666666666666, 6.433333333333334, 6.433333333333334, 6.45, 6.45, 6.466666666666667, 6.483333333333333, 6.5, 6.5, 6.516666666666667, 6.583333333333333, 6.583333333333333, 6.6, 6.733333333333333, 6.75, 6.766666666666667, 6.766666666666667, 6.833333333333333, 6.833333333333333, 6.85, 6.85, 6.866666666666666, 6.883333333333334, 6.883333333333334, 6.916666666666667, 6.933333333333334, 6.933333333333334, 6.95, 6.95, 6.966666666666667, 6.966666666666667, 6.966666666666667, 6.983333333333333, 7.083333333333333, 7.316666666666666], \"xaxis\": \"x\", \"y\": [161.90391182657234, 158.54052440949565, 158.28916563769218, 157.65952616972552, 157.65952616972552, 156.430957510671, 156.3163710395139, 156.2049060288171, 155.89552957402947, 155.7165154540249, 155.63647130926265, 155.56255496158755, 155.23445738411343, 155.23445738411343, 155.169610180989, 154.972464933221, 154.90516922666336, 154.01505130766668, 153.72923826406432, 153.62052033066922, 153.51385971741882, 153.35631812245296, 153.35631812245296, 153.34474725277977, 153.34474725277977, 153.33287395593405, 153.3299092121182, 153.32765486460804, 153.32765486460804, 153.32673203953556, 153.36132583095244, 153.36132583095244, 153.38092838401167, 152.9209996596059, 152.8335448195165, 152.7448306947133, 152.7448306947133, 152.40979505066062, 152.40979505066062, 152.3034842755888, 152.3034842755888, 152.19156959090918, 152.0741782662434, 152.0741782662434, 151.825318800574, 151.6950641260508, 151.6950641260508, 151.56148851633571, 151.56148851633571, 151.4248172475198, 151.4248172475198, 151.4248172475198, 151.28526239655136, 150.39934494908843, 148.12557375681288], \"yaxis\": \"y\"}, {\"hovertemplate\": \"Year=2019<br>Avg Pace=%{x}<br>Avg Run Cadence=%{y}<extra></extra>\", \"legendgroup\": \"2019\", \"marker\": {\"color\": \"#EF553B\", \"symbol\": \"circle\"}, \"mode\": \"markers\", \"name\": \"2019\", \"orientation\": \"v\", \"showlegend\": true, \"type\": \"scatter\", \"x\": [5.783333333333333, 6.3, 6.083333333333333, 6.316666666666666, 5.916666666666667, 5.8, 6.866666666666666, 6.483333333333333, 6.933333333333334, 6.583333333333333, 6.533333333333333, 5.433333333333334, 6.666666666666667, 6.65, 6.716666666666667, 5.283333333333333, 6.85, 5.75, 6.933333333333334, 5.9, 5.883333333333334, 6.9, 6.483333333333333, 5.916666666666667, 6.95, 5.7, 7.0, 6.866666666666666, 6.3, 6.9, 6.316666666666666, 7.116666666666666, 6.5, 5.45, 6.5, 6.0, 5.483333333333333, 5.95, 4.95, 5.633333333333334, 5.783333333333333, 5.55, 5.866666666666666, 4.766666666666667, 5.983333333333333, 5.583333333333333, 5.9, 4.683333333333334, 5.566666666666666, 5.966666666666667, 6.0, 6.55, 5.6, 5.483333333333333, 4.883333333333334, 5.316666666666666, 5.883333333333334, 5.233333333333333, 5.966666666666667, 5.683333333333334, 4.983333333333333, 5.5, 4.95, 5.7, 5.466666666666667, 5.8, 5.716666666666667, 5.9, 5.85, 5.433333333333334, 5.5, 5.033333333333333, 5.416666666666667, 5.9, 5.566666666666666, 5.883333333333334, 5.383333333333334, 5.5, 5.966666666666667, 5.883333333333334, 5.966666666666667, 5.616666666666666, 5.466666666666667, 7.283333333333333, 5.8, 5.933333333333334], \"xaxis\": \"x\", \"y\": [155.0, 152.0, 154.0, 152.0, 152.0, 152.0, 154.0, 154.0, 151.0, 154.0, 153.0, 160.0, 153.0, 152.0, 152.0, 159.0, 157.0, 157.0, 157.0, 160.0, 156.0, 155.0, 153.0, 157.0, 156.0, 155.0, 153.0, 153.0, 161.0, 154.0, 156.0, 156.0, 154.0, 154.0, 154.0, 153.0, 159.0, 157.0, 161.0, 155.0, 156.0, 156.0, 156.0, 165.0, 156.0, 159.0, 158.0, 167.0, 161.0, 156.0, 156.0, 155.0, 159.0, 160.0, 170.0, 162.0, 155.0, 162.0, 158.0, 154.0, 165.0, 157.0, 160.0, 156.0, 160.0, 153.0, 160.0, 158.0, 158.0, 160.0, 157.0, 163.0, 158.0, 154.0, 158.0, 165.0, 165.0, 165.0, 155.0, 159.0, 159.0, 165.0, 164.0, 140.0, 166.0, 165.0], \"yaxis\": \"y\"}, {\"hovertemplate\": \"<b>LOWESS trendline</b><br><br>Year=2019<br>Avg Pace=%{x}<br>Avg Run Cadence=%{y} <b>(trend)</b><extra></extra>\", \"legendgroup\": \"2019\", \"marker\": {\"color\": \"#EF553B\", \"symbol\": \"circle\"}, \"mode\": \"lines\", \"name\": \"2019\", \"showlegend\": false, \"type\": \"scatter\", \"x\": [4.683333333333334, 4.766666666666667, 4.883333333333334, 4.95, 4.95, 4.983333333333333, 5.033333333333333, 5.233333333333333, 5.283333333333333, 5.316666666666666, 5.383333333333334, 5.416666666666667, 5.433333333333334, 5.433333333333334, 5.45, 5.466666666666667, 5.466666666666667, 5.483333333333333, 5.483333333333333, 5.5, 5.5, 5.5, 5.55, 5.566666666666666, 5.566666666666666, 5.583333333333333, 5.6, 5.616666666666666, 5.633333333333334, 5.683333333333334, 5.7, 5.7, 5.716666666666667, 5.75, 5.783333333333333, 5.783333333333333, 5.8, 5.8, 5.8, 5.85, 5.866666666666666, 5.883333333333334, 5.883333333333334, 5.883333333333334, 5.883333333333334, 5.9, 5.9, 5.9, 5.9, 5.916666666666667, 5.916666666666667, 5.933333333333334, 5.95, 5.966666666666667, 5.966666666666667, 5.966666666666667, 5.966666666666667, 5.983333333333333, 6.0, 6.0, 6.083333333333333, 6.3, 6.3, 6.316666666666666, 6.316666666666666, 6.483333333333333, 6.483333333333333, 6.5, 6.5, 6.533333333333333, 6.55, 6.583333333333333, 6.65, 6.666666666666667, 6.716666666666667, 6.85, 6.866666666666666, 6.866666666666666, 6.9, 6.9, 6.933333333333334, 6.933333333333334, 6.95, 7.0, 7.116666666666666, 7.283333333333333], \"xaxis\": \"x\", \"y\": [166.2322852985301, 165.50284588668035, 164.48314356515277, 163.89898053402604, 163.89898053402604, 163.6051561410561, 163.16179254497885, 161.36405410974785, 160.92389144898087, 160.6431292201638, 160.08556336782522, 159.83239381053684, 159.70640382017987, 159.70640382017987, 159.57004460847347, 159.41629009058602, 159.41629009058602, 159.24857077313789, 159.24857077313789, 159.0874469731138, 159.0874469731138, 159.0874469731138, 158.67100497000197, 158.54492239454868, 158.54492239454868, 158.42200722740645, 158.3011729115905, 158.18166943347623, 158.05838296331902, 157.68531431358332, 157.5602109882271, 157.5602109882271, 157.4353481504891, 157.1871766217901, 156.94282984824417, 156.94282984824417, 156.8228630043352, 156.8228630043352, 156.8228630043352, 156.5296451551843, 156.4379085489644, 156.34862944716954, 156.34862944716954, 156.34862944716954, 156.34862944716954, 156.25421872672325, 156.25421872672325, 156.25421872672325, 156.25421872672325, 156.1679103896707, 156.1679103896707, 156.09158618159404, 156.02088488602027, 155.96207129221614, 155.96207129221614, 155.96207129221614, 155.96207129221614, 155.8895724543378, 155.82537852725682, 155.82537852725682, 155.48128767025327, 154.6506804887437, 154.6506804887437, 154.60694493108687, 154.60694493108687, 154.380797333649, 154.380797333649, 154.3644395235189, 154.3644395235189, 154.3295959809871, 154.31144807753714, 154.2744750490356, 154.20094226898158, 154.18311381611662, 154.13194177362837, 154.02054261048724, 154.00977788335862, 154.00977788335862, 153.9905272316215, 153.9905272316215, 153.9743316017803, 153.9743316017803, 153.9673732940836, 153.95094297455077, 153.93686211983623, 153.96898422695807], \"yaxis\": \"y\"}, {\"hovertemplate\": \"Year=2018<br>Avg Pace=%{x}<br>Avg Run Cadence=%{y}<extra></extra>\", \"legendgroup\": \"2018\", \"marker\": {\"color\": \"#00cc96\", \"symbol\": \"circle\"}, \"mode\": \"markers\", \"name\": \"2018\", \"orientation\": \"v\", \"showlegend\": true, \"type\": \"scatter\", \"x\": [5.266666666666667, 6.266666666666667, 5.866666666666666, 5.466666666666667, 7.7, 5.55, 5.75, 7.966666666666667, 5.216666666666667, 5.6, 5.433333333333334, 5.566666666666666, 4.916666666666667, 5.7, 6.0, 5.416666666666667, 5.0, 6.0, 4.75, 5.333333333333333, 4.7, 5.433333333333334, 4.8, 5.766666666666667, 4.566666666666666, 5.25, 5.416666666666667, 4.85, 5.983333333333333, 5.566666666666666, 5.0, 5.183333333333334, 4.916666666666667, 5.383333333333334, 4.65, 5.583333333333333, 5.8, 6.5, 5.6, 5.583333333333333, 6.716666666666667, 5.533333333333333, 5.783333333333333, 5.516666666666667, 4.95, 5.6, 6.65, 4.866666666666666, 4.883333333333334, 5.95, 5.666666666666667, 4.933333333333334, 5.466666666666667, 5.216666666666667, 4.866666666666666, 5.066666666666666, 3.55, 5.0, 4.3, 4.183333333333334, 4.433333333333334, 4.983333333333333, 5.433333333333334, 4.35, 5.1, 4.966666666666667, 4.633333333333334, 4.983333333333333, 4.7, 5.2, 4.783333333333333, 5.283333333333333, 5.566666666666666, 4.833333333333333, 4.433333333333334, 5.433333333333334, 4.75, 5.45, 5.166666666666667, 5.15, 5.383333333333334, 5.55, 5.983333333333333, 5.833333333333333, 7.933333333333334, 5.8, 5.933333333333334], \"xaxis\": \"x\", \"y\": [166.0, 162.0, 164.0, 166.0, 161.0, 168.0, 164.0, 157.0, 169.0, 165.0, 170.0, 168.0, 168.0, 161.0, 160.0, 168.0, 173.0, 166.0, 173.0, 168.0, 171.0, 166.0, 174.0, 164.0, 179.0, 171.0, 172.0, 171.0, 161.0, 164.0, 170.0, 175.0, 174.0, 179.0, 179.0, 175.0, 171.0, 175.0, 174.0, 173.0, 168.0, 173.0, 178.0, 174.0, 174.0, 169.0, 166.0, 172.0, 171.0, 170.0, 170.0, 170.0, 171.0, 164.0, 174.0, 171.0, 197.0, 168.0, 177.0, 179.0, 170.0, 171.0, 168.0, 189.0, 172.0, 174.0, 176.0, 172.0, 181.0, 175.0, 179.0, 174.0, 172.0, 176.0, 184.0, 171.0, 180.0, 166.0, null, null, null, null, null, null, null, null, null], \"yaxis\": \"y\"}, {\"hovertemplate\": \"<b>LOWESS trendline</b><br><br>Year=2018<br>Avg Pace=%{x}<br>Avg Run Cadence=%{y} <b>(trend)</b><extra></extra>\", \"legendgroup\": \"2018\", \"marker\": {\"color\": \"#00cc96\", \"symbol\": \"circle\"}, \"mode\": \"lines\", \"name\": \"2018\", \"showlegend\": false, \"type\": \"scatter\", \"x\": [3.55, 4.183333333333334, 4.3, 4.35, 4.433333333333334, 4.433333333333334, 4.566666666666666, 4.633333333333334, 4.65, 4.7, 4.7, 4.75, 4.75, 4.783333333333333, 4.8, 4.833333333333333, 4.85, 4.866666666666666, 4.866666666666666, 4.883333333333334, 4.916666666666667, 4.916666666666667, 4.933333333333334, 4.95, 4.966666666666667, 4.983333333333333, 4.983333333333333, 5.0, 5.0, 5.0, 5.066666666666666, 5.1, 5.183333333333334, 5.2, 5.216666666666667, 5.216666666666667, 5.25, 5.266666666666667, 5.283333333333333, 5.333333333333333, 5.383333333333334, 5.416666666666667, 5.416666666666667, 5.433333333333334, 5.433333333333334, 5.433333333333334, 5.433333333333334, 5.45, 5.466666666666667, 5.466666666666667, 5.516666666666667, 5.533333333333333, 5.55, 5.566666666666666, 5.566666666666666, 5.566666666666666, 5.583333333333333, 5.583333333333333, 5.6, 5.6, 5.6, 5.666666666666667, 5.7, 5.75, 5.766666666666667, 5.783333333333333, 5.8, 5.866666666666666, 5.95, 5.983333333333333, 6.0, 6.0, 6.266666666666667, 6.5, 6.65, 6.716666666666667, 7.7, 7.966666666666667], \"xaxis\": \"x\", \"y\": [193.94680181644202, 183.61579500682646, 181.5830133445439, 180.68742629500437, 179.22685344907998, 179.22685344907998, 177.3812996466414, 176.59810697648172, 176.40387086342795, 175.8235386099808, 175.8235386099808, 175.24212228030717, 175.24212228030717, 174.84886086844995, 174.64888970826968, 174.23976687600884, 174.03075811779522, 173.82038272040168, 173.82038272040168, 173.6306150890863, 173.22552896020474, 173.22552896020474, 173.0299685062361, 172.8405819644196, 172.65512254839183, 172.47161302743115, 172.47161302743115, 172.29046267222694, 172.29046267222694, 172.29046267222694, 171.634647747814, 171.3547873085212, 170.82750673830475, 170.7754867020662, 170.67867755519964, 170.67867755519964, 170.56393906864415, 170.49995508072786, 170.43717920618113, 170.24538444280793, 170.02638562493047, 169.86571310816683, 169.86571310816683, 169.7759495189642, 169.7759495189642, 169.7759495189642, 169.7759495189642, 169.70143151271563, 169.61400436756176, 169.61400436756176, 169.27798049504216, 169.1497511605521, 169.01671812986368, 168.8805147647534, 168.8805147647534, 168.8805147647534, 168.74228032967827, 168.74228032967827, 168.6027175431749, 168.6027175431749, 168.6027175431749, 168.02474591016554, 167.72532424121593, 167.28034020290255, 167.1491046805929, 167.03214744723059, 166.90306740689027, 166.5960354568384, 166.6514964954522, 166.69432522105558, 166.70877277072807, 166.70877277072807, 166.43502377261973, 165.89684298929683, 165.17767066095743, 164.81010380424308, 160.5626095533995, 159.45519184818858], \"yaxis\": \"y\"}, {\"hovertemplate\": \"Year=2017<br>Avg Pace=%{x}<br>Avg Run Cadence=%{y}<extra></extra>\", \"legendgroup\": \"2017\", \"marker\": {\"color\": \"#ab63fa\", \"symbol\": \"circle\"}, \"mode\": \"markers\", \"name\": \"2017\", \"orientation\": \"v\", \"showlegend\": true, \"type\": \"scatter\", \"x\": [5.9, 6.05, 5.833333333333333, 6.133333333333334, 6.0, 6.083333333333333], \"xaxis\": \"x\", \"y\": [null, null, null, null, null, null], \"yaxis\": \"y\"}, {\"hovertemplate\": \"Year=2017<extra></extra>\", \"legendgroup\": \"2017\", \"marker\": {\"color\": \"#ab63fa\", \"symbol\": \"circle\"}, \"mode\": \"lines\", \"name\": \"2017\", \"showlegend\": false, \"type\": \"scatter\", \"xaxis\": \"x\", \"yaxis\": \"y\"}],                        {\"legend\": {\"title\": {\"text\": \"Year\"}, \"tracegroupgap\": 0}, \"margin\": {\"t\": 60}, \"template\": {\"data\": {\"bar\": [{\"error_x\": {\"color\": \"#2a3f5f\"}, \"error_y\": {\"color\": \"#2a3f5f\"}, \"marker\": {\"line\": {\"color\": \"#E5ECF6\", \"width\": 0.5}}, \"type\": \"bar\"}], \"barpolar\": [{\"marker\": {\"line\": {\"color\": \"#E5ECF6\", \"width\": 0.5}}, \"type\": \"barpolar\"}], \"carpet\": [{\"aaxis\": {\"endlinecolor\": \"#2a3f5f\", \"gridcolor\": \"white\", \"linecolor\": \"white\", \"minorgridcolor\": \"white\", \"startlinecolor\": \"#2a3f5f\"}, \"baxis\": {\"endlinecolor\": \"#2a3f5f\", \"gridcolor\": \"white\", \"linecolor\": \"white\", \"minorgridcolor\": \"white\", \"startlinecolor\": \"#2a3f5f\"}, \"type\": \"carpet\"}], \"choropleth\": [{\"colorbar\": {\"outlinewidth\": 0, \"ticks\": \"\"}, \"type\": \"choropleth\"}], \"contour\": [{\"colorbar\": {\"outlinewidth\": 0, \"ticks\": \"\"}, \"colorscale\": [[0.0, \"#0d0887\"], [0.1111111111111111, \"#46039f\"], [0.2222222222222222, \"#7201a8\"], [0.3333333333333333, \"#9c179e\"], [0.4444444444444444, \"#bd3786\"], [0.5555555555555556, \"#d8576b\"], [0.6666666666666666, \"#ed7953\"], [0.7777777777777778, \"#fb9f3a\"], [0.8888888888888888, \"#fdca26\"], [1.0, \"#f0f921\"]], \"type\": \"contour\"}], \"contourcarpet\": [{\"colorbar\": {\"outlinewidth\": 0, \"ticks\": \"\"}, \"type\": \"contourcarpet\"}], \"heatmap\": [{\"colorbar\": {\"outlinewidth\": 0, \"ticks\": \"\"}, \"colorscale\": [[0.0, \"#0d0887\"], [0.1111111111111111, \"#46039f\"], [0.2222222222222222, \"#7201a8\"], [0.3333333333333333, \"#9c179e\"], [0.4444444444444444, \"#bd3786\"], [0.5555555555555556, \"#d8576b\"], [0.6666666666666666, \"#ed7953\"], [0.7777777777777778, \"#fb9f3a\"], [0.8888888888888888, \"#fdca26\"], [1.0, \"#f0f921\"]], \"type\": \"heatmap\"}], \"heatmapgl\": [{\"colorbar\": {\"outlinewidth\": 0, \"ticks\": \"\"}, \"colorscale\": [[0.0, \"#0d0887\"], [0.1111111111111111, \"#46039f\"], [0.2222222222222222, \"#7201a8\"], [0.3333333333333333, \"#9c179e\"], [0.4444444444444444, \"#bd3786\"], [0.5555555555555556, \"#d8576b\"], [0.6666666666666666, \"#ed7953\"], [0.7777777777777778, \"#fb9f3a\"], [0.8888888888888888, \"#fdca26\"], [1.0, \"#f0f921\"]], \"type\": \"heatmapgl\"}], \"histogram\": [{\"marker\": {\"colorbar\": {\"outlinewidth\": 0, \"ticks\": \"\"}}, \"type\": \"histogram\"}], \"histogram2d\": [{\"colorbar\": {\"outlinewidth\": 0, \"ticks\": \"\"}, \"colorscale\": [[0.0, \"#0d0887\"], [0.1111111111111111, \"#46039f\"], [0.2222222222222222, \"#7201a8\"], [0.3333333333333333, \"#9c179e\"], [0.4444444444444444, \"#bd3786\"], [0.5555555555555556, \"#d8576b\"], [0.6666666666666666, \"#ed7953\"], [0.7777777777777778, \"#fb9f3a\"], [0.8888888888888888, \"#fdca26\"], [1.0, \"#f0f921\"]], \"type\": \"histogram2d\"}], \"histogram2dcontour\": [{\"colorbar\": {\"outlinewidth\": 0, \"ticks\": \"\"}, \"colorscale\": [[0.0, \"#0d0887\"], [0.1111111111111111, \"#46039f\"], [0.2222222222222222, \"#7201a8\"], [0.3333333333333333, \"#9c179e\"], [0.4444444444444444, \"#bd3786\"], [0.5555555555555556, \"#d8576b\"], [0.6666666666666666, \"#ed7953\"], [0.7777777777777778, \"#fb9f3a\"], [0.8888888888888888, \"#fdca26\"], [1.0, \"#f0f921\"]], \"type\": \"histogram2dcontour\"}], \"mesh3d\": [{\"colorbar\": {\"outlinewidth\": 0, \"ticks\": \"\"}, \"type\": \"mesh3d\"}], \"parcoords\": [{\"line\": {\"colorbar\": {\"outlinewidth\": 0, \"ticks\": \"\"}}, \"type\": \"parcoords\"}], \"pie\": [{\"automargin\": true, \"type\": \"pie\"}], \"scatter\": [{\"marker\": {\"colorbar\": {\"outlinewidth\": 0, \"ticks\": \"\"}}, \"type\": \"scatter\"}], \"scatter3d\": [{\"line\": {\"colorbar\": {\"outlinewidth\": 0, \"ticks\": \"\"}}, \"marker\": {\"colorbar\": {\"outlinewidth\": 0, \"ticks\": \"\"}}, \"type\": \"scatter3d\"}], \"scattercarpet\": [{\"marker\": {\"colorbar\": {\"outlinewidth\": 0, \"ticks\": \"\"}}, \"type\": \"scattercarpet\"}], \"scattergeo\": [{\"marker\": {\"colorbar\": {\"outlinewidth\": 0, \"ticks\": \"\"}}, \"type\": \"scattergeo\"}], \"scattergl\": [{\"marker\": {\"colorbar\": {\"outlinewidth\": 0, \"ticks\": \"\"}}, \"type\": \"scattergl\"}], \"scattermapbox\": [{\"marker\": {\"colorbar\": {\"outlinewidth\": 0, \"ticks\": \"\"}}, \"type\": \"scattermapbox\"}], \"scatterpolar\": [{\"marker\": {\"colorbar\": {\"outlinewidth\": 0, \"ticks\": \"\"}}, \"type\": \"scatterpolar\"}], \"scatterpolargl\": [{\"marker\": {\"colorbar\": {\"outlinewidth\": 0, \"ticks\": \"\"}}, \"type\": \"scatterpolargl\"}], \"scatterternary\": [{\"marker\": {\"colorbar\": {\"outlinewidth\": 0, \"ticks\": \"\"}}, \"type\": \"scatterternary\"}], \"surface\": [{\"colorbar\": {\"outlinewidth\": 0, \"ticks\": \"\"}, \"colorscale\": [[0.0, \"#0d0887\"], [0.1111111111111111, \"#46039f\"], [0.2222222222222222, \"#7201a8\"], [0.3333333333333333, \"#9c179e\"], [0.4444444444444444, \"#bd3786\"], [0.5555555555555556, \"#d8576b\"], [0.6666666666666666, \"#ed7953\"], [0.7777777777777778, \"#fb9f3a\"], [0.8888888888888888, \"#fdca26\"], [1.0, \"#f0f921\"]], \"type\": \"surface\"}], \"table\": [{\"cells\": {\"fill\": {\"color\": \"#EBF0F8\"}, \"line\": {\"color\": \"white\"}}, \"header\": {\"fill\": {\"color\": \"#C8D4E3\"}, \"line\": {\"color\": \"white\"}}, \"type\": \"table\"}]}, \"layout\": {\"annotationdefaults\": {\"arrowcolor\": \"#2a3f5f\", \"arrowhead\": 0, \"arrowwidth\": 1}, \"coloraxis\": {\"colorbar\": {\"outlinewidth\": 0, \"ticks\": \"\"}}, \"colorscale\": {\"diverging\": [[0, \"#8e0152\"], [0.1, \"#c51b7d\"], [0.2, \"#de77ae\"], [0.3, \"#f1b6da\"], [0.4, \"#fde0ef\"], [0.5, \"#f7f7f7\"], [0.6, \"#e6f5d0\"], [0.7, \"#b8e186\"], [0.8, \"#7fbc41\"], [0.9, \"#4d9221\"], [1, \"#276419\"]], \"sequential\": [[0.0, \"#0d0887\"], [0.1111111111111111, \"#46039f\"], [0.2222222222222222, \"#7201a8\"], [0.3333333333333333, \"#9c179e\"], [0.4444444444444444, \"#bd3786\"], [0.5555555555555556, \"#d8576b\"], [0.6666666666666666, \"#ed7953\"], [0.7777777777777778, \"#fb9f3a\"], [0.8888888888888888, \"#fdca26\"], [1.0, \"#f0f921\"]], \"sequentialminus\": [[0.0, \"#0d0887\"], [0.1111111111111111, \"#46039f\"], [0.2222222222222222, \"#7201a8\"], [0.3333333333333333, \"#9c179e\"], [0.4444444444444444, \"#bd3786\"], [0.5555555555555556, \"#d8576b\"], [0.6666666666666666, \"#ed7953\"], [0.7777777777777778, \"#fb9f3a\"], [0.8888888888888888, \"#fdca26\"], [1.0, \"#f0f921\"]]}, \"colorway\": [\"#636efa\", \"#EF553B\", \"#00cc96\", \"#ab63fa\", \"#FFA15A\", \"#19d3f3\", \"#FF6692\", \"#B6E880\", \"#FF97FF\", \"#FECB52\"], \"font\": {\"color\": \"#2a3f5f\"}, \"geo\": {\"bgcolor\": \"white\", \"lakecolor\": \"white\", \"landcolor\": \"#E5ECF6\", \"showlakes\": true, \"showland\": true, \"subunitcolor\": \"white\"}, \"hoverlabel\": {\"align\": \"left\"}, \"hovermode\": \"closest\", \"mapbox\": {\"style\": \"light\"}, \"paper_bgcolor\": \"white\", \"plot_bgcolor\": \"#E5ECF6\", \"polar\": {\"angularaxis\": {\"gridcolor\": \"white\", \"linecolor\": \"white\", \"ticks\": \"\"}, \"bgcolor\": \"#E5ECF6\", \"radialaxis\": {\"gridcolor\": \"white\", \"linecolor\": \"white\", \"ticks\": \"\"}}, \"scene\": {\"xaxis\": {\"backgroundcolor\": \"#E5ECF6\", \"gridcolor\": \"white\", \"gridwidth\": 2, \"linecolor\": \"white\", \"showbackground\": true, \"ticks\": \"\", \"zerolinecolor\": \"white\"}, \"yaxis\": {\"backgroundcolor\": \"#E5ECF6\", \"gridcolor\": \"white\", \"gridwidth\": 2, \"linecolor\": \"white\", \"showbackground\": true, \"ticks\": \"\", \"zerolinecolor\": \"white\"}, \"zaxis\": {\"backgroundcolor\": \"#E5ECF6\", \"gridcolor\": \"white\", \"gridwidth\": 2, \"linecolor\": \"white\", \"showbackground\": true, \"ticks\": \"\", \"zerolinecolor\": \"white\"}}, \"shapedefaults\": {\"line\": {\"color\": \"#2a3f5f\"}}, \"ternary\": {\"aaxis\": {\"gridcolor\": \"white\", \"linecolor\": \"white\", \"ticks\": \"\"}, \"baxis\": {\"gridcolor\": \"white\", \"linecolor\": \"white\", \"ticks\": \"\"}, \"bgcolor\": \"#E5ECF6\", \"caxis\": {\"gridcolor\": \"white\", \"linecolor\": \"white\", \"ticks\": \"\"}}, \"title\": {\"x\": 0.05}, \"xaxis\": {\"automargin\": true, \"gridcolor\": \"white\", \"linecolor\": \"white\", \"ticks\": \"\", \"title\": {\"standoff\": 15}, \"zerolinecolor\": \"white\", \"zerolinewidth\": 2}, \"yaxis\": {\"automargin\": true, \"gridcolor\": \"white\", \"linecolor\": \"white\", \"ticks\": \"\", \"title\": {\"standoff\": 15}, \"zerolinecolor\": \"white\", \"zerolinewidth\": 2}}}, \"xaxis\": {\"anchor\": \"y\", \"domain\": [0.0, 1.0], \"title\": {\"text\": \"Avg Pace\"}}, \"yaxis\": {\"anchor\": \"x\", \"domain\": [0.0, 1.0], \"title\": {\"text\": \"Avg Run Cadence\"}}},                        {\"responsive\": true}                    ).then(function(){\n",
       "                            \n",
       "var gd = document.getElementById('530e0161-60a5-4416-aaa3-6f442d2b400e');\n",
       "var x = new MutationObserver(function (mutations, observer) {{\n",
       "        var display = window.getComputedStyle(gd).display;\n",
       "        if (!display || display === 'none') {{\n",
       "            console.log([gd, 'removed!']);\n",
       "            Plotly.purge(gd);\n",
       "            observer.disconnect();\n",
       "        }}\n",
       "}});\n",
       "\n",
       "// Listen for the removal of the full notebook cells\n",
       "var notebookContainer = gd.closest('#notebook-container');\n",
       "if (notebookContainer) {{\n",
       "    x.observe(notebookContainer, {childList: true});\n",
       "}}\n",
       "\n",
       "// Listen for the clearing of the current output cell\n",
       "var outputEl = gd.closest('.output');\n",
       "if (outputEl) {{\n",
       "    x.observe(outputEl, {childList: true});\n",
       "}}\n",
       "\n",
       "                        })                };                });            </script>        </div>"
      ]
     },
     "metadata": {},
     "output_type": "display_data"
    }
   ],
   "source": [
    "fig = px.scatter(running_df, x='Avg Pace', y='Avg Run Cadence', color='Year', trendline='lowess')\n",
    "fig.show()"
   ]
  },
  {
   "cell_type": "code",
   "execution_count": 60,
   "metadata": {},
   "outputs": [
    {
     "data": {
      "application/vnd.plotly.v1+json": {
       "config": {
        "plotlyServerURL": "https://plot.ly"
       },
       "data": [
        {
         "hovertemplate": "Year=2020<br>Avg Pace=%{x}<br>Avg HR=%{y}<extra></extra>",
         "legendgroup": "2020",
         "marker": {
          "color": "#636efa",
          "symbol": "circle"
         },
         "mode": "markers",
         "name": "2020",
         "orientation": "v",
         "showlegend": true,
         "type": "scatter",
         "x": [
          6.583333333333333,
          6.833333333333333,
          6.766666666666667,
          4.966666666666667,
          6.6,
          6.5,
          5.8,
          6.866666666666666,
          6.75,
          6.516666666666667,
          5.7,
          6.883333333333334,
          5.833333333333333,
          6.766666666666667,
          5.766666666666667,
          6.95,
          6.85,
          6.916666666666667,
          6.216666666666667,
          6.966666666666667,
          6.45,
          6.45,
          6.933333333333334,
          6.95,
          6.85,
          6.366666666666666,
          5.916666666666667,
          6.933333333333334,
          6.433333333333334,
          6.883333333333334,
          6.483333333333333,
          6.966666666666667,
          7.083333333333333,
          7.316666666666666,
          6.316666666666666,
          6.733333333333333,
          6.583333333333333,
          6.466666666666667,
          6.5,
          6.983333333333333,
          6.433333333333334,
          6.966666666666667,
          5.916666666666667,
          5.933333333333334,
          6.283333333333333,
          5.433333333333334,
          5.983333333333333,
          5.516666666666667,
          5.4,
          5.516666666666667,
          5.683333333333334,
          5.716666666666667,
          6,
          6.833333333333333,
          5.816666666666666
         ],
         "xaxis": "x",
         "y": [
          165,
          170,
          171,
          171,
          165,
          160,
          169,
          172,
          164,
          168,
          167,
          167,
          168,
          167,
          175,
          165,
          170,
          165,
          169,
          164,
          166,
          165,
          172,
          163,
          166,
          177,
          168,
          170,
          168,
          175,
          170,
          171,
          171,
          170,
          186,
          172,
          178,
          177,
          176,
          157,
          152,
          165,
          175,
          174,
          173,
          179,
          167,
          180,
          171,
          176,
          172,
          175,
          174,
          162,
          173
         ],
         "yaxis": "y"
        },
        {
         "hovertemplate": "<b>LOWESS trendline</b><br><br>Year=2020<br>Avg Pace=%{x}<br>Avg HR=%{y} <b>(trend)</b><extra></extra>",
         "legendgroup": "2020",
         "marker": {
          "color": "#636efa",
          "symbol": "circle"
         },
         "mode": "lines",
         "name": "2020",
         "showlegend": false,
         "type": "scatter",
         "x": [
          4.966666666666667,
          5.4,
          5.433333333333334,
          5.516666666666667,
          5.516666666666667,
          5.683333333333334,
          5.7,
          5.716666666666667,
          5.766666666666667,
          5.8,
          5.816666666666666,
          5.833333333333333,
          5.916666666666667,
          5.916666666666667,
          5.933333333333334,
          5.983333333333333,
          6,
          6.216666666666667,
          6.283333333333333,
          6.316666666666666,
          6.366666666666666,
          6.433333333333334,
          6.433333333333334,
          6.45,
          6.45,
          6.466666666666667,
          6.483333333333333,
          6.5,
          6.5,
          6.516666666666667,
          6.583333333333333,
          6.583333333333333,
          6.6,
          6.733333333333333,
          6.75,
          6.766666666666667,
          6.766666666666667,
          6.833333333333333,
          6.833333333333333,
          6.85,
          6.85,
          6.866666666666666,
          6.883333333333334,
          6.883333333333334,
          6.916666666666667,
          6.933333333333334,
          6.933333333333334,
          6.95,
          6.95,
          6.966666666666667,
          6.966666666666667,
          6.966666666666667,
          6.983333333333333,
          7.083333333333333,
          7.316666666666666
         ],
         "xaxis": "x",
         "y": [
          174.73961091302647,
          173.63495926804362,
          173.5513211561135,
          173.353135777895,
          173.353135777895,
          172.98487084210817,
          172.94425901711932,
          172.9012715813678,
          172.7514991552584,
          172.6273674697937,
          172.55642846401884,
          172.47960444669886,
          172.049781237024,
          172.049781237024,
          171.96028943820025,
          171.68522827704254,
          171.59169175990272,
          170.716419239758,
          170.5801184249116,
          170.52625054700587,
          170.3801315327598,
          170.2008232758001,
          170.2008232758001,
          170.09596800377508,
          170.09596800377508,
          169.9879592847681,
          169.8647704706829,
          169.75408905769282,
          169.75408905769282,
          169.6303293976276,
          169.06394322377184,
          169.06394322377184,
          168.91218102736266,
          168.26202729761306,
          168.18838788151896,
          168.11772603303984,
          168.11772603303984,
          167.85901151092253,
          167.85901151092253,
          167.80545761092253,
          167.80545761092253,
          167.76330841124656,
          167.73279126381846,
          167.73279126381846,
          167.69915393550968,
          167.69127982873263,
          167.69127982873263,
          167.6867138175028,
          167.6867138175028,
          167.68393412347487,
          167.68393412347487,
          167.68393412347487,
          167.68198627172865,
          167.6772819302966,
          167.82771396937062
         ],
         "yaxis": "y"
        },
        {
         "hovertemplate": "Year=2019<br>Avg Pace=%{x}<br>Avg HR=%{y}<extra></extra>",
         "legendgroup": "2019",
         "marker": {
          "color": "#EF553B",
          "symbol": "circle"
         },
         "mode": "markers",
         "name": "2019",
         "orientation": "v",
         "showlegend": true,
         "type": "scatter",
         "x": [
          5.783333333333333,
          6.3,
          6.083333333333333,
          6.316666666666666,
          5.916666666666667,
          5.8,
          6.866666666666666,
          6.483333333333333,
          6.933333333333334,
          6.583333333333333,
          6.533333333333333,
          5.433333333333334,
          6.666666666666667,
          6.65,
          6.716666666666667,
          5.283333333333333,
          6.85,
          5.75,
          6.933333333333334,
          5.9,
          5.883333333333334,
          6.9,
          6.483333333333333,
          5.916666666666667,
          6.95,
          5.7,
          7,
          6.866666666666666,
          6.3,
          6.9,
          6.316666666666666,
          7.116666666666666,
          6.5,
          5.45,
          6.5,
          6,
          5.483333333333333,
          5.95,
          4.95,
          5.633333333333334,
          5.783333333333333,
          5.55,
          5.866666666666666,
          4.766666666666667,
          5.983333333333333,
          5.583333333333333,
          5.9,
          4.683333333333334,
          5.566666666666666,
          5.966666666666667,
          6,
          6.55,
          5.6,
          5.483333333333333,
          4.883333333333334,
          5.316666666666666,
          5.883333333333334,
          5.233333333333333,
          5.966666666666667,
          5.683333333333334,
          4.983333333333333,
          5.5,
          4.95,
          5.7,
          5.466666666666667,
          5.8,
          5.716666666666667,
          5.9,
          5.85,
          5.433333333333334,
          5.5,
          5.033333333333333,
          5.416666666666667,
          5.9,
          5.566666666666666,
          5.883333333333334,
          5.383333333333334,
          5.5,
          5.966666666666667,
          5.883333333333334,
          5.966666666666667,
          5.616666666666666,
          5.466666666666667,
          7.283333333333333,
          5.8,
          5.933333333333334
         ],
         "xaxis": "x",
         "y": [
          169,
          172,
          171,
          169,
          169,
          168,
          168,
          163,
          160,
          158,
          162,
          176,
          161,
          163,
          170,
          174,
          156,
          166,
          155,
          155,
          158,
          151,
          156,
          157,
          152,
          166,
          157,
          152,
          158,
          155,
          159,
          151,
          160,
          166,
          161,
          167,
          180,
          162,
          174,
          170,
          170,
          157,
          162,
          158,
          158,
          162,
          165,
          169,
          145,
          159,
          167,
          171,
          170,
          172,
          178,
          172,
          171,
          165,
          174,
          178,
          179,
          173,
          172,
          167,
          181,
          169,
          176,
          172,
          181,
          171,
          168,
          189,
          173,
          172,
          176,
          178,
          179,
          175,
          180,
          179,
          182,
          184,
          175,
          180,
          185,
          163
         ],
         "yaxis": "y"
        },
        {
         "hovertemplate": "<b>LOWESS trendline</b><br><br>Year=2019<br>Avg Pace=%{x}<br>Avg HR=%{y} <b>(trend)</b><extra></extra>",
         "legendgroup": "2019",
         "marker": {
          "color": "#EF553B",
          "symbol": "circle"
         },
         "mode": "lines",
         "name": "2019",
         "showlegend": false,
         "type": "scatter",
         "x": [
          4.683333333333334,
          4.766666666666667,
          4.883333333333334,
          4.95,
          4.95,
          4.983333333333333,
          5.033333333333333,
          5.233333333333333,
          5.283333333333333,
          5.316666666666666,
          5.383333333333334,
          5.416666666666667,
          5.433333333333334,
          5.433333333333334,
          5.45,
          5.466666666666667,
          5.466666666666667,
          5.483333333333333,
          5.483333333333333,
          5.5,
          5.5,
          5.5,
          5.55,
          5.566666666666666,
          5.566666666666666,
          5.583333333333333,
          5.6,
          5.616666666666666,
          5.633333333333334,
          5.683333333333334,
          5.7,
          5.7,
          5.716666666666667,
          5.75,
          5.783333333333333,
          5.783333333333333,
          5.8,
          5.8,
          5.8,
          5.85,
          5.866666666666666,
          5.883333333333334,
          5.883333333333334,
          5.883333333333334,
          5.883333333333334,
          5.9,
          5.9,
          5.9,
          5.9,
          5.916666666666667,
          5.916666666666667,
          5.933333333333334,
          5.95,
          5.966666666666667,
          5.966666666666667,
          5.966666666666667,
          5.966666666666667,
          5.983333333333333,
          6,
          6,
          6.083333333333333,
          6.3,
          6.3,
          6.316666666666666,
          6.316666666666666,
          6.483333333333333,
          6.483333333333333,
          6.5,
          6.5,
          6.533333333333333,
          6.55,
          6.583333333333333,
          6.65,
          6.666666666666667,
          6.716666666666667,
          6.85,
          6.866666666666666,
          6.866666666666666,
          6.9,
          6.9,
          6.933333333333334,
          6.933333333333334,
          6.95,
          7,
          7.116666666666666,
          7.283333333333333
         ],
         "xaxis": "x",
         "y": [
          173.04953967763,
          173.1348685986642,
          173.19978680723082,
          173.2335444717501,
          173.2335444717501,
          173.2559904605375,
          173.3025140100716,
          173.69754550106316,
          173.7666427636794,
          173.70648167737633,
          173.3038088478257,
          173.0531857147085,
          172.9219206973599,
          172.9219206973599,
          172.78688908176431,
          172.6544477976447,
          172.6544477976447,
          172.54114959245368,
          172.54114959245368,
          172.42569359729538,
          172.42569359729538,
          172.42569359729538,
          172.01413237881027,
          171.8626647872104,
          171.8626647872104,
          171.7074740308139,
          171.54987679642406,
          171.39083328435635,
          171.23815825760263,
          170.79369475942832,
          170.642163889585,
          170.642163889585,
          170.48457012290467,
          170.14733283107893,
          169.78388362496582,
          169.78388362496582,
          169.6002334544445,
          169.6002334544445,
          169.6002334544445,
          169.09262942265215,
          168.92613340562542,
          168.7594155915774,
          168.7594155915774,
          168.7594155915774,
          168.7594155915774,
          168.5894013446577,
          168.5894013446577,
          168.5894013446577,
          168.5894013446577,
          168.4210462459978,
          168.4210462459978,
          168.2523312716303,
          168.0824354595019,
          167.90818521137527,
          167.90818521137527,
          167.90818521137527,
          167.90818521137527,
          167.72671000578137,
          167.5355646693883,
          167.5355646693883,
          166.51051281647855,
          164.41875004557875,
          164.41875004557875,
          164.24122893832353,
          164.24122893832353,
          162.14972671691203,
          162.14972671691203,
          161.92817834080495,
          161.92817834080495,
          161.48718394786547,
          161.2677586565419,
          160.83074957946522,
          159.96138652590813,
          159.74461937038944,
          159.09469757884247,
          157.35142771952573,
          157.1311757373524,
          157.1311757373524,
          156.68850839723586,
          156.68850839723586,
          156.24267758589016,
          156.24267758589016,
          156.01854562345008,
          155.3412548665052,
          153.73305797291533,
          151.37160467012433
         ],
         "yaxis": "y"
        },
        {
         "hovertemplate": "Year=2018<br>Avg Pace=%{x}<br>Avg HR=%{y}<extra></extra>",
         "legendgroup": "2018",
         "marker": {
          "color": "#00cc96",
          "symbol": "circle"
         },
         "mode": "markers",
         "name": "2018",
         "orientation": "v",
         "showlegend": true,
         "type": "scatter",
         "x": [
          5.266666666666667,
          6.266666666666667,
          5.866666666666666,
          5.466666666666667,
          7.7,
          5.55,
          5.75,
          7.966666666666667,
          5.216666666666667,
          5.6,
          5.433333333333334,
          5.566666666666666,
          4.916666666666667,
          5.7,
          6,
          5.416666666666667,
          5,
          6,
          4.75,
          5.333333333333333,
          4.7,
          5.433333333333334,
          4.8,
          5.766666666666667,
          4.566666666666666,
          5.25,
          5.416666666666667,
          4.85,
          5.983333333333333,
          5.566666666666666,
          5,
          5.183333333333334,
          4.916666666666667,
          5.383333333333334,
          4.65,
          5.583333333333333,
          5.8,
          6.5,
          5.6,
          5.583333333333333,
          6.716666666666667,
          5.533333333333333,
          5.783333333333333,
          5.516666666666667,
          4.95,
          5.6,
          6.65,
          4.866666666666666,
          4.883333333333334,
          5.95,
          5.666666666666667,
          4.933333333333334,
          5.466666666666667,
          5.216666666666667,
          4.866666666666666,
          5.066666666666666,
          3.55,
          5,
          4.3,
          4.183333333333334,
          4.433333333333334,
          4.983333333333333,
          5.433333333333334,
          4.35,
          5.1,
          4.966666666666667,
          4.633333333333334,
          4.983333333333333,
          4.7,
          5.2,
          4.783333333333333,
          5.283333333333333,
          5.566666666666666,
          4.833333333333333,
          4.433333333333334,
          5.433333333333334,
          4.75,
          5.45,
          5.166666666666667,
          5.15,
          5.383333333333334,
          5.55,
          5.983333333333333,
          5.833333333333333,
          7.933333333333334,
          5.8,
          5.933333333333334
         ],
         "xaxis": "x",
         "y": [
          185,
          163,
          179,
          180,
          171,
          170,
          185,
          159,
          174,
          174,
          175,
          183,
          178,
          180,
          162,
          180,
          178,
          169,
          186,
          172,
          176,
          177,
          175,
          167,
          175,
          186,
          178,
          176,
          164,
          169,
          172,
          173,
          174,
          173,
          175,
          169,
          156,
          159,
          170,
          164,
          146,
          154,
          162,
          161,
          170,
          145,
          166,
          174,
          170,
          163,
          172,
          170,
          167,
          164,
          171,
          171,
          146,
          169,
          160,
          155,
          168,
          167,
          169,
          176,
          173,
          166,
          173,
          164,
          178,
          172,
          175,
          166,
          174,
          162,
          178,
          178,
          137,
          174,
          183,
          174,
          187,
          171,
          148,
          173,
          157,
          183,
          179
         ],
         "yaxis": "y"
        },
        {
         "hovertemplate": "<b>LOWESS trendline</b><br><br>Year=2018<br>Avg Pace=%{x}<br>Avg HR=%{y} <b>(trend)</b><extra></extra>",
         "legendgroup": "2018",
         "marker": {
          "color": "#00cc96",
          "symbol": "circle"
         },
         "mode": "lines",
         "name": "2018",
         "showlegend": false,
         "type": "scatter",
         "x": [
          3.55,
          4.183333333333334,
          4.3,
          4.35,
          4.433333333333334,
          4.433333333333334,
          4.566666666666666,
          4.633333333333334,
          4.65,
          4.7,
          4.7,
          4.75,
          4.75,
          4.783333333333333,
          4.8,
          4.833333333333333,
          4.85,
          4.866666666666666,
          4.866666666666666,
          4.883333333333334,
          4.916666666666667,
          4.916666666666667,
          4.933333333333334,
          4.95,
          4.966666666666667,
          4.983333333333333,
          4.983333333333333,
          5,
          5,
          5,
          5.066666666666666,
          5.1,
          5.15,
          5.166666666666667,
          5.183333333333334,
          5.2,
          5.216666666666667,
          5.216666666666667,
          5.25,
          5.266666666666667,
          5.283333333333333,
          5.333333333333333,
          5.383333333333334,
          5.383333333333334,
          5.416666666666667,
          5.416666666666667,
          5.433333333333334,
          5.433333333333334,
          5.433333333333334,
          5.433333333333334,
          5.45,
          5.466666666666667,
          5.466666666666667,
          5.516666666666667,
          5.533333333333333,
          5.55,
          5.55,
          5.566666666666666,
          5.566666666666666,
          5.566666666666666,
          5.583333333333333,
          5.583333333333333,
          5.6,
          5.6,
          5.6,
          5.666666666666667,
          5.7,
          5.75,
          5.766666666666667,
          5.783333333333333,
          5.8,
          5.8,
          5.833333333333333,
          5.866666666666666,
          5.933333333333334,
          5.95,
          5.983333333333333,
          5.983333333333333,
          6,
          6,
          6.266666666666667,
          6.5,
          6.65,
          6.716666666666667,
          7.7,
          7.933333333333334,
          7.966666666666667
         ],
         "xaxis": "x",
         "y": [
          152.99591799616877,
          164.74713857011272,
          166.99675217775186,
          167.993057316696,
          169.59983477103603,
          169.59983477103603,
          171.16560309612723,
          171.6431114905906,
          171.76574083321702,
          172.13946050683612,
          172.13946050683612,
          172.5105605267483,
          172.5105605267483,
          172.73984020652279,
          172.84195947147077,
          173.00339665390015,
          173.055409412119,
          173.08624038570227,
          173.08624038570227,
          173.10016326269428,
          173.0888238738286,
          173.0888238738286,
          173.0668011761349,
          173.07021113781335,
          173.0483413788497,
          173.02440927138153,
          173.02440927138153,
          172.9990376248886,
          172.9990376248886,
          172.9990376248886,
          172.95490349597125,
          172.95377367493896,
          173.01113357994248,
          173.01648023570465,
          173.021950981283,
          173.06920869352464,
          173.040921433931,
          173.040921433931,
          173.07791568801403,
          173.10514158707247,
          173.1367715944635,
          173.299868662555,
          173.21044200139104,
          173.21044200139104,
          173.1370426830453,
          173.1370426830453,
          173.11420717182332,
          173.11420717182332,
          173.11420717182332,
          173.11420717182332,
          173.11345160760897,
          173.05132915391533,
          173.05132915391533,
          172.7014137432328,
          172.54950619801014,
          172.3854700392931,
          172.3854700392931,
          172.21297885344111,
          172.21297885344111,
          172.21297885344111,
          172.03465520509616,
          172.03465520509616,
          171.85223017585903,
          171.85223017585903,
          171.85223017585903,
          171.09897416737354,
          170.6956382171646,
          170.08384549199394,
          169.87485515451172,
          169.66261046714231,
          169.44718340722028,
          169.44718340722028,
          169.0087683884201,
          168.5899644277576,
          167.82522696444997,
          167.639827525862,
          167.26929889793522,
          167.26929889793522,
          167.0833117248614,
          167.0833117248614,
          164.01429398906578,
          162.1402153449355,
          163.20934228017197,
          163.4592802246213,
          159.99704886184398,
          159.08843785176734,
          158.9614575688044
         ],
         "yaxis": "y"
        },
        {
         "hovertemplate": "Year=2017<br>Avg Pace=%{x}<br>Avg HR=%{y}<extra></extra>",
         "legendgroup": "2017",
         "marker": {
          "color": "#ab63fa",
          "symbol": "circle"
         },
         "mode": "markers",
         "name": "2017",
         "orientation": "v",
         "showlegend": true,
         "type": "scatter",
         "x": [
          5.9,
          6.05,
          5.833333333333333,
          6.133333333333334,
          6,
          6.083333333333333
         ],
         "xaxis": "x",
         "y": [
          179,
          178,
          null,
          null,
          null,
          null
         ],
         "yaxis": "y"
        },
        {
         "hovertemplate": "<b>LOWESS trendline</b><br><br>Year=2017<br>Avg Pace=%{x}<br>Avg HR=%{y} <b>(trend)</b><extra></extra>",
         "legendgroup": "2017",
         "marker": {
          "color": "#ab63fa",
          "symbol": "circle"
         },
         "mode": "lines",
         "name": "2017",
         "showlegend": false,
         "type": "scatter",
         "x": [
          5.9,
          6.05
         ],
         "xaxis": "x",
         "y": [
          179,
          178
         ],
         "yaxis": "y"
        }
       ],
       "layout": {
        "autosize": true,
        "legend": {
         "title": {
          "text": "Year"
         },
         "tracegroupgap": 0
        },
        "margin": {
         "t": 60
        },
        "template": {
         "data": {
          "bar": [
           {
            "error_x": {
             "color": "#2a3f5f"
            },
            "error_y": {
             "color": "#2a3f5f"
            },
            "marker": {
             "line": {
              "color": "#E5ECF6",
              "width": 0.5
             }
            },
            "type": "bar"
           }
          ],
          "barpolar": [
           {
            "marker": {
             "line": {
              "color": "#E5ECF6",
              "width": 0.5
             }
            },
            "type": "barpolar"
           }
          ],
          "carpet": [
           {
            "aaxis": {
             "endlinecolor": "#2a3f5f",
             "gridcolor": "white",
             "linecolor": "white",
             "minorgridcolor": "white",
             "startlinecolor": "#2a3f5f"
            },
            "baxis": {
             "endlinecolor": "#2a3f5f",
             "gridcolor": "white",
             "linecolor": "white",
             "minorgridcolor": "white",
             "startlinecolor": "#2a3f5f"
            },
            "type": "carpet"
           }
          ],
          "choropleth": [
           {
            "colorbar": {
             "outlinewidth": 0,
             "ticks": ""
            },
            "type": "choropleth"
           }
          ],
          "contour": [
           {
            "colorbar": {
             "outlinewidth": 0,
             "ticks": ""
            },
            "colorscale": [
             [
              0,
              "#0d0887"
             ],
             [
              0.1111111111111111,
              "#46039f"
             ],
             [
              0.2222222222222222,
              "#7201a8"
             ],
             [
              0.3333333333333333,
              "#9c179e"
             ],
             [
              0.4444444444444444,
              "#bd3786"
             ],
             [
              0.5555555555555556,
              "#d8576b"
             ],
             [
              0.6666666666666666,
              "#ed7953"
             ],
             [
              0.7777777777777778,
              "#fb9f3a"
             ],
             [
              0.8888888888888888,
              "#fdca26"
             ],
             [
              1,
              "#f0f921"
             ]
            ],
            "type": "contour"
           }
          ],
          "contourcarpet": [
           {
            "colorbar": {
             "outlinewidth": 0,
             "ticks": ""
            },
            "type": "contourcarpet"
           }
          ],
          "heatmap": [
           {
            "colorbar": {
             "outlinewidth": 0,
             "ticks": ""
            },
            "colorscale": [
             [
              0,
              "#0d0887"
             ],
             [
              0.1111111111111111,
              "#46039f"
             ],
             [
              0.2222222222222222,
              "#7201a8"
             ],
             [
              0.3333333333333333,
              "#9c179e"
             ],
             [
              0.4444444444444444,
              "#bd3786"
             ],
             [
              0.5555555555555556,
              "#d8576b"
             ],
             [
              0.6666666666666666,
              "#ed7953"
             ],
             [
              0.7777777777777778,
              "#fb9f3a"
             ],
             [
              0.8888888888888888,
              "#fdca26"
             ],
             [
              1,
              "#f0f921"
             ]
            ],
            "type": "heatmap"
           }
          ],
          "heatmapgl": [
           {
            "colorbar": {
             "outlinewidth": 0,
             "ticks": ""
            },
            "colorscale": [
             [
              0,
              "#0d0887"
             ],
             [
              0.1111111111111111,
              "#46039f"
             ],
             [
              0.2222222222222222,
              "#7201a8"
             ],
             [
              0.3333333333333333,
              "#9c179e"
             ],
             [
              0.4444444444444444,
              "#bd3786"
             ],
             [
              0.5555555555555556,
              "#d8576b"
             ],
             [
              0.6666666666666666,
              "#ed7953"
             ],
             [
              0.7777777777777778,
              "#fb9f3a"
             ],
             [
              0.8888888888888888,
              "#fdca26"
             ],
             [
              1,
              "#f0f921"
             ]
            ],
            "type": "heatmapgl"
           }
          ],
          "histogram": [
           {
            "marker": {
             "colorbar": {
              "outlinewidth": 0,
              "ticks": ""
             }
            },
            "type": "histogram"
           }
          ],
          "histogram2d": [
           {
            "colorbar": {
             "outlinewidth": 0,
             "ticks": ""
            },
            "colorscale": [
             [
              0,
              "#0d0887"
             ],
             [
              0.1111111111111111,
              "#46039f"
             ],
             [
              0.2222222222222222,
              "#7201a8"
             ],
             [
              0.3333333333333333,
              "#9c179e"
             ],
             [
              0.4444444444444444,
              "#bd3786"
             ],
             [
              0.5555555555555556,
              "#d8576b"
             ],
             [
              0.6666666666666666,
              "#ed7953"
             ],
             [
              0.7777777777777778,
              "#fb9f3a"
             ],
             [
              0.8888888888888888,
              "#fdca26"
             ],
             [
              1,
              "#f0f921"
             ]
            ],
            "type": "histogram2d"
           }
          ],
          "histogram2dcontour": [
           {
            "colorbar": {
             "outlinewidth": 0,
             "ticks": ""
            },
            "colorscale": [
             [
              0,
              "#0d0887"
             ],
             [
              0.1111111111111111,
              "#46039f"
             ],
             [
              0.2222222222222222,
              "#7201a8"
             ],
             [
              0.3333333333333333,
              "#9c179e"
             ],
             [
              0.4444444444444444,
              "#bd3786"
             ],
             [
              0.5555555555555556,
              "#d8576b"
             ],
             [
              0.6666666666666666,
              "#ed7953"
             ],
             [
              0.7777777777777778,
              "#fb9f3a"
             ],
             [
              0.8888888888888888,
              "#fdca26"
             ],
             [
              1,
              "#f0f921"
             ]
            ],
            "type": "histogram2dcontour"
           }
          ],
          "mesh3d": [
           {
            "colorbar": {
             "outlinewidth": 0,
             "ticks": ""
            },
            "type": "mesh3d"
           }
          ],
          "parcoords": [
           {
            "line": {
             "colorbar": {
              "outlinewidth": 0,
              "ticks": ""
             }
            },
            "type": "parcoords"
           }
          ],
          "pie": [
           {
            "automargin": true,
            "type": "pie"
           }
          ],
          "scatter": [
           {
            "marker": {
             "colorbar": {
              "outlinewidth": 0,
              "ticks": ""
             }
            },
            "type": "scatter"
           }
          ],
          "scatter3d": [
           {
            "line": {
             "colorbar": {
              "outlinewidth": 0,
              "ticks": ""
             }
            },
            "marker": {
             "colorbar": {
              "outlinewidth": 0,
              "ticks": ""
             }
            },
            "type": "scatter3d"
           }
          ],
          "scattercarpet": [
           {
            "marker": {
             "colorbar": {
              "outlinewidth": 0,
              "ticks": ""
             }
            },
            "type": "scattercarpet"
           }
          ],
          "scattergeo": [
           {
            "marker": {
             "colorbar": {
              "outlinewidth": 0,
              "ticks": ""
             }
            },
            "type": "scattergeo"
           }
          ],
          "scattergl": [
           {
            "marker": {
             "colorbar": {
              "outlinewidth": 0,
              "ticks": ""
             }
            },
            "type": "scattergl"
           }
          ],
          "scattermapbox": [
           {
            "marker": {
             "colorbar": {
              "outlinewidth": 0,
              "ticks": ""
             }
            },
            "type": "scattermapbox"
           }
          ],
          "scatterpolar": [
           {
            "marker": {
             "colorbar": {
              "outlinewidth": 0,
              "ticks": ""
             }
            },
            "type": "scatterpolar"
           }
          ],
          "scatterpolargl": [
           {
            "marker": {
             "colorbar": {
              "outlinewidth": 0,
              "ticks": ""
             }
            },
            "type": "scatterpolargl"
           }
          ],
          "scatterternary": [
           {
            "marker": {
             "colorbar": {
              "outlinewidth": 0,
              "ticks": ""
             }
            },
            "type": "scatterternary"
           }
          ],
          "surface": [
           {
            "colorbar": {
             "outlinewidth": 0,
             "ticks": ""
            },
            "colorscale": [
             [
              0,
              "#0d0887"
             ],
             [
              0.1111111111111111,
              "#46039f"
             ],
             [
              0.2222222222222222,
              "#7201a8"
             ],
             [
              0.3333333333333333,
              "#9c179e"
             ],
             [
              0.4444444444444444,
              "#bd3786"
             ],
             [
              0.5555555555555556,
              "#d8576b"
             ],
             [
              0.6666666666666666,
              "#ed7953"
             ],
             [
              0.7777777777777778,
              "#fb9f3a"
             ],
             [
              0.8888888888888888,
              "#fdca26"
             ],
             [
              1,
              "#f0f921"
             ]
            ],
            "type": "surface"
           }
          ],
          "table": [
           {
            "cells": {
             "fill": {
              "color": "#EBF0F8"
             },
             "line": {
              "color": "white"
             }
            },
            "header": {
             "fill": {
              "color": "#C8D4E3"
             },
             "line": {
              "color": "white"
             }
            },
            "type": "table"
           }
          ]
         },
         "layout": {
          "annotationdefaults": {
           "arrowcolor": "#2a3f5f",
           "arrowhead": 0,
           "arrowwidth": 1
          },
          "coloraxis": {
           "colorbar": {
            "outlinewidth": 0,
            "ticks": ""
           }
          },
          "colorscale": {
           "diverging": [
            [
             0,
             "#8e0152"
            ],
            [
             0.1,
             "#c51b7d"
            ],
            [
             0.2,
             "#de77ae"
            ],
            [
             0.3,
             "#f1b6da"
            ],
            [
             0.4,
             "#fde0ef"
            ],
            [
             0.5,
             "#f7f7f7"
            ],
            [
             0.6,
             "#e6f5d0"
            ],
            [
             0.7,
             "#b8e186"
            ],
            [
             0.8,
             "#7fbc41"
            ],
            [
             0.9,
             "#4d9221"
            ],
            [
             1,
             "#276419"
            ]
           ],
           "sequential": [
            [
             0,
             "#0d0887"
            ],
            [
             0.1111111111111111,
             "#46039f"
            ],
            [
             0.2222222222222222,
             "#7201a8"
            ],
            [
             0.3333333333333333,
             "#9c179e"
            ],
            [
             0.4444444444444444,
             "#bd3786"
            ],
            [
             0.5555555555555556,
             "#d8576b"
            ],
            [
             0.6666666666666666,
             "#ed7953"
            ],
            [
             0.7777777777777778,
             "#fb9f3a"
            ],
            [
             0.8888888888888888,
             "#fdca26"
            ],
            [
             1,
             "#f0f921"
            ]
           ],
           "sequentialminus": [
            [
             0,
             "#0d0887"
            ],
            [
             0.1111111111111111,
             "#46039f"
            ],
            [
             0.2222222222222222,
             "#7201a8"
            ],
            [
             0.3333333333333333,
             "#9c179e"
            ],
            [
             0.4444444444444444,
             "#bd3786"
            ],
            [
             0.5555555555555556,
             "#d8576b"
            ],
            [
             0.6666666666666666,
             "#ed7953"
            ],
            [
             0.7777777777777778,
             "#fb9f3a"
            ],
            [
             0.8888888888888888,
             "#fdca26"
            ],
            [
             1,
             "#f0f921"
            ]
           ]
          },
          "colorway": [
           "#636efa",
           "#EF553B",
           "#00cc96",
           "#ab63fa",
           "#FFA15A",
           "#19d3f3",
           "#FF6692",
           "#B6E880",
           "#FF97FF",
           "#FECB52"
          ],
          "font": {
           "color": "#2a3f5f"
          },
          "geo": {
           "bgcolor": "white",
           "lakecolor": "white",
           "landcolor": "#E5ECF6",
           "showlakes": true,
           "showland": true,
           "subunitcolor": "white"
          },
          "hoverlabel": {
           "align": "left"
          },
          "hovermode": "closest",
          "mapbox": {
           "style": "light"
          },
          "paper_bgcolor": "white",
          "plot_bgcolor": "#E5ECF6",
          "polar": {
           "angularaxis": {
            "gridcolor": "white",
            "linecolor": "white",
            "ticks": ""
           },
           "bgcolor": "#E5ECF6",
           "radialaxis": {
            "gridcolor": "white",
            "linecolor": "white",
            "ticks": ""
           }
          },
          "scene": {
           "xaxis": {
            "backgroundcolor": "#E5ECF6",
            "gridcolor": "white",
            "gridwidth": 2,
            "linecolor": "white",
            "showbackground": true,
            "ticks": "",
            "zerolinecolor": "white"
           },
           "yaxis": {
            "backgroundcolor": "#E5ECF6",
            "gridcolor": "white",
            "gridwidth": 2,
            "linecolor": "white",
            "showbackground": true,
            "ticks": "",
            "zerolinecolor": "white"
           },
           "zaxis": {
            "backgroundcolor": "#E5ECF6",
            "gridcolor": "white",
            "gridwidth": 2,
            "linecolor": "white",
            "showbackground": true,
            "ticks": "",
            "zerolinecolor": "white"
           }
          },
          "shapedefaults": {
           "line": {
            "color": "#2a3f5f"
           }
          },
          "ternary": {
           "aaxis": {
            "gridcolor": "white",
            "linecolor": "white",
            "ticks": ""
           },
           "baxis": {
            "gridcolor": "white",
            "linecolor": "white",
            "ticks": ""
           },
           "bgcolor": "#E5ECF6",
           "caxis": {
            "gridcolor": "white",
            "linecolor": "white",
            "ticks": ""
           }
          },
          "title": {
           "x": 0.05
          },
          "xaxis": {
           "automargin": true,
           "gridcolor": "white",
           "linecolor": "white",
           "ticks": "",
           "title": {
            "standoff": 15
           },
           "zerolinecolor": "white",
           "zerolinewidth": 2
          },
          "yaxis": {
           "automargin": true,
           "gridcolor": "white",
           "linecolor": "white",
           "ticks": "",
           "title": {
            "standoff": 15
           },
           "zerolinecolor": "white",
           "zerolinewidth": 2
          }
         }
        },
        "xaxis": {
         "anchor": "y",
         "autorange": true,
         "domain": [
          0,
          1
         ],
         "range": [
          3.2883324477506197,
          8.228334218916046
         ],
         "title": {
          "text": "Avg Pace"
         },
         "type": "linear"
        },
        "yaxis": {
         "anchor": "x",
         "autorange": true,
         "domain": [
          0,
          1
         ],
         "range": [
          133.31307550644567,
          192.68692449355433
         ],
         "title": {
          "text": "Avg HR"
         },
         "type": "linear"
        }
       }
      },
      "image/png": "[encoded data removed]",
      "text/html": [
       "<div>                            <div id=\"132aaef9-dd97-4ed0-99f2-a233d13e0a46\" class=\"plotly-graph-div\" style=\"height:525px; width:100%;\"></div>            <script type=\"text/javascript\">                require([\"plotly\"], function(Plotly) {                    window.PLOTLYENV=window.PLOTLYENV || {};                                    if (document.getElementById(\"132aaef9-dd97-4ed0-99f2-a233d13e0a46\")) {                    Plotly.newPlot(                        \"132aaef9-dd97-4ed0-99f2-a233d13e0a46\",                        [{\"hovertemplate\": \"Year=2020<br>Avg Pace=%{x}<br>Avg HR=%{y}<extra></extra>\", \"legendgroup\": \"2020\", \"marker\": {\"color\": \"#636efa\", \"symbol\": \"circle\"}, \"mode\": \"markers\", \"name\": \"2020\", \"orientation\": \"v\", \"showlegend\": true, \"type\": \"scatter\", \"x\": [6.583333333333333, 6.833333333333333, 6.766666666666667, 4.966666666666667, 6.6, 6.5, 5.8, 6.866666666666666, 6.75, 6.516666666666667, 5.7, 6.883333333333334, 5.833333333333333, 6.766666666666667, 5.766666666666667, 6.95, 6.85, 6.916666666666667, 6.216666666666667, 6.966666666666667, 6.45, 6.45, 6.933333333333334, 6.95, 6.85, 6.366666666666666, 5.916666666666667, 6.933333333333334, 6.433333333333334, 6.883333333333334, 6.483333333333333, 6.966666666666667, 7.083333333333333, 7.316666666666666, 6.316666666666666, 6.733333333333333, 6.583333333333333, 6.466666666666667, 6.5, 6.983333333333333, 6.433333333333334, 6.966666666666667, 5.916666666666667, 5.933333333333334, 6.283333333333333, 5.433333333333334, 5.983333333333333, 5.516666666666667, 5.4, 5.516666666666667, 5.683333333333334, 5.716666666666667, 6.0, 6.833333333333333, 5.816666666666666], \"xaxis\": \"x\", \"y\": [165.0, 170.0, 171.0, 171.0, 165.0, 160.0, 169.0, 172.0, 164.0, 168.0, 167.0, 167.0, 168.0, 167.0, 175.0, 165.0, 170.0, 165.0, 169.0, 164.0, 166.0, 165.0, 172.0, 163.0, 166.0, 177.0, 168.0, 170.0, 168.0, 175.0, 170.0, 171.0, 171.0, 170.0, 186.0, 172.0, 178.0, 177.0, 176.0, 157.0, 152.0, 165.0, 175.0, 174.0, 173.0, 179.0, 167.0, 180.0, 171.0, 176.0, 172.0, 175.0, 174.0, 162.0, 173.0], \"yaxis\": \"y\"}, {\"hovertemplate\": \"<b>LOWESS trendline</b><br><br>Year=2020<br>Avg Pace=%{x}<br>Avg HR=%{y} <b>(trend)</b><extra></extra>\", \"legendgroup\": \"2020\", \"marker\": {\"color\": \"#636efa\", \"symbol\": \"circle\"}, \"mode\": \"lines\", \"name\": \"2020\", \"showlegend\": false, \"type\": \"scatter\", \"x\": [4.966666666666667, 5.4, 5.433333333333334, 5.516666666666667, 5.516666666666667, 5.683333333333334, 5.7, 5.716666666666667, 5.766666666666667, 5.8, 5.816666666666666, 5.833333333333333, 5.916666666666667, 5.916666666666667, 5.933333333333334, 5.983333333333333, 6.0, 6.216666666666667, 6.283333333333333, 6.316666666666666, 6.366666666666666, 6.433333333333334, 6.433333333333334, 6.45, 6.45, 6.466666666666667, 6.483333333333333, 6.5, 6.5, 6.516666666666667, 6.583333333333333, 6.583333333333333, 6.6, 6.733333333333333, 6.75, 6.766666666666667, 6.766666666666667, 6.833333333333333, 6.833333333333333, 6.85, 6.85, 6.866666666666666, 6.883333333333334, 6.883333333333334, 6.916666666666667, 6.933333333333334, 6.933333333333334, 6.95, 6.95, 6.966666666666667, 6.966666666666667, 6.966666666666667, 6.983333333333333, 7.083333333333333, 7.316666666666666], \"xaxis\": \"x\", \"y\": [174.73961091302647, 173.63495926804362, 173.5513211561135, 173.353135777895, 173.353135777895, 172.98487084210817, 172.94425901711932, 172.9012715813678, 172.7514991552584, 172.6273674697937, 172.55642846401884, 172.47960444669886, 172.049781237024, 172.049781237024, 171.96028943820025, 171.68522827704254, 171.59169175990272, 170.716419239758, 170.5801184249116, 170.52625054700587, 170.3801315327598, 170.2008232758001, 170.2008232758001, 170.09596800377508, 170.09596800377508, 169.9879592847681, 169.8647704706829, 169.75408905769282, 169.75408905769282, 169.6303293976276, 169.06394322377184, 169.06394322377184, 168.91218102736266, 168.26202729761306, 168.18838788151896, 168.11772603303984, 168.11772603303984, 167.85901151092253, 167.85901151092253, 167.80545761092253, 167.80545761092253, 167.76330841124656, 167.73279126381846, 167.73279126381846, 167.69915393550968, 167.69127982873263, 167.69127982873263, 167.6867138175028, 167.6867138175028, 167.68393412347487, 167.68393412347487, 167.68393412347487, 167.68198627172865, 167.6772819302966, 167.82771396937062], \"yaxis\": \"y\"}, {\"hovertemplate\": \"Year=2019<br>Avg Pace=%{x}<br>Avg HR=%{y}<extra></extra>\", \"legendgroup\": \"2019\", \"marker\": {\"color\": \"#EF553B\", \"symbol\": \"circle\"}, \"mode\": \"markers\", \"name\": \"2019\", \"orientation\": \"v\", \"showlegend\": true, \"type\": \"scatter\", \"x\": [5.783333333333333, 6.3, 6.083333333333333, 6.316666666666666, 5.916666666666667, 5.8, 6.866666666666666, 6.483333333333333, 6.933333333333334, 6.583333333333333, 6.533333333333333, 5.433333333333334, 6.666666666666667, 6.65, 6.716666666666667, 5.283333333333333, 6.85, 5.75, 6.933333333333334, 5.9, 5.883333333333334, 6.9, 6.483333333333333, 5.916666666666667, 6.95, 5.7, 7.0, 6.866666666666666, 6.3, 6.9, 6.316666666666666, 7.116666666666666, 6.5, 5.45, 6.5, 6.0, 5.483333333333333, 5.95, 4.95, 5.633333333333334, 5.783333333333333, 5.55, 5.866666666666666, 4.766666666666667, 5.983333333333333, 5.583333333333333, 5.9, 4.683333333333334, 5.566666666666666, 5.966666666666667, 6.0, 6.55, 5.6, 5.483333333333333, 4.883333333333334, 5.316666666666666, 5.883333333333334, 5.233333333333333, 5.966666666666667, 5.683333333333334, 4.983333333333333, 5.5, 4.95, 5.7, 5.466666666666667, 5.8, 5.716666666666667, 5.9, 5.85, 5.433333333333334, 5.5, 5.033333333333333, 5.416666666666667, 5.9, 5.566666666666666, 5.883333333333334, 5.383333333333334, 5.5, 5.966666666666667, 5.883333333333334, 5.966666666666667, 5.616666666666666, 5.466666666666667, 7.283333333333333, 5.8, 5.933333333333334], \"xaxis\": \"x\", \"y\": [169.0, 172.0, 171.0, 169.0, 169.0, 168.0, 168.0, 163.0, 160.0, 158.0, 162.0, 176.0, 161.0, 163.0, 170.0, 174.0, 156.0, 166.0, 155.0, 155.0, 158.0, 151.0, 156.0, 157.0, 152.0, 166.0, 157.0, 152.0, 158.0, 155.0, 159.0, 151.0, 160.0, 166.0, 161.0, 167.0, 180.0, 162.0, 174.0, 170.0, 170.0, 157.0, 162.0, 158.0, 158.0, 162.0, 165.0, 169.0, 145.0, 159.0, 167.0, 171.0, 170.0, 172.0, 178.0, 172.0, 171.0, 165.0, 174.0, 178.0, 179.0, 173.0, 172.0, 167.0, 181.0, 169.0, 176.0, 172.0, 181.0, 171.0, 168.0, 189.0, 173.0, 172.0, 176.0, 178.0, 179.0, 175.0, 180.0, 179.0, 182.0, 184.0, 175.0, 180.0, 185.0, 163.0], \"yaxis\": \"y\"}, {\"hovertemplate\": \"<b>LOWESS trendline</b><br><br>Year=2019<br>Avg Pace=%{x}<br>Avg HR=%{y} <b>(trend)</b><extra></extra>\", \"legendgroup\": \"2019\", \"marker\": {\"color\": \"#EF553B\", \"symbol\": \"circle\"}, \"mode\": \"lines\", \"name\": \"2019\", \"showlegend\": false, \"type\": \"scatter\", \"x\": [4.683333333333334, 4.766666666666667, 4.883333333333334, 4.95, 4.95, 4.983333333333333, 5.033333333333333, 5.233333333333333, 5.283333333333333, 5.316666666666666, 5.383333333333334, 5.416666666666667, 5.433333333333334, 5.433333333333334, 5.45, 5.466666666666667, 5.466666666666667, 5.483333333333333, 5.483333333333333, 5.5, 5.5, 5.5, 5.55, 5.566666666666666, 5.566666666666666, 5.583333333333333, 5.6, 5.616666666666666, 5.633333333333334, 5.683333333333334, 5.7, 5.7, 5.716666666666667, 5.75, 5.783333333333333, 5.783333333333333, 5.8, 5.8, 5.8, 5.85, 5.866666666666666, 5.883333333333334, 5.883333333333334, 5.883333333333334, 5.883333333333334, 5.9, 5.9, 5.9, 5.9, 5.916666666666667, 5.916666666666667, 5.933333333333334, 5.95, 5.966666666666667, 5.966666666666667, 5.966666666666667, 5.966666666666667, 5.983333333333333, 6.0, 6.0, 6.083333333333333, 6.3, 6.3, 6.316666666666666, 6.316666666666666, 6.483333333333333, 6.483333333333333, 6.5, 6.5, 6.533333333333333, 6.55, 6.583333333333333, 6.65, 6.666666666666667, 6.716666666666667, 6.85, 6.866666666666666, 6.866666666666666, 6.9, 6.9, 6.933333333333334, 6.933333333333334, 6.95, 7.0, 7.116666666666666, 7.283333333333333], \"xaxis\": \"x\", \"y\": [173.04953967763, 173.1348685986642, 173.19978680723082, 173.2335444717501, 173.2335444717501, 173.2559904605375, 173.3025140100716, 173.69754550106316, 173.7666427636794, 173.70648167737633, 173.3038088478257, 173.0531857147085, 172.9219206973599, 172.9219206973599, 172.78688908176431, 172.6544477976447, 172.6544477976447, 172.54114959245368, 172.54114959245368, 172.42569359729538, 172.42569359729538, 172.42569359729538, 172.01413237881027, 171.8626647872104, 171.8626647872104, 171.7074740308139, 171.54987679642406, 171.39083328435635, 171.23815825760263, 170.79369475942832, 170.642163889585, 170.642163889585, 170.48457012290467, 170.14733283107893, 169.78388362496582, 169.78388362496582, 169.6002334544445, 169.6002334544445, 169.6002334544445, 169.09262942265215, 168.92613340562542, 168.7594155915774, 168.7594155915774, 168.7594155915774, 168.7594155915774, 168.5894013446577, 168.5894013446577, 168.5894013446577, 168.5894013446577, 168.4210462459978, 168.4210462459978, 168.2523312716303, 168.0824354595019, 167.90818521137527, 167.90818521137527, 167.90818521137527, 167.90818521137527, 167.72671000578137, 167.5355646693883, 167.5355646693883, 166.51051281647855, 164.41875004557875, 164.41875004557875, 164.24122893832353, 164.24122893832353, 162.14972671691203, 162.14972671691203, 161.92817834080495, 161.92817834080495, 161.48718394786547, 161.2677586565419, 160.83074957946522, 159.96138652590813, 159.74461937038944, 159.09469757884247, 157.35142771952573, 157.1311757373524, 157.1311757373524, 156.68850839723586, 156.68850839723586, 156.24267758589016, 156.24267758589016, 156.01854562345008, 155.3412548665052, 153.73305797291533, 151.37160467012433], \"yaxis\": \"y\"}, {\"hovertemplate\": \"Year=2018<br>Avg Pace=%{x}<br>Avg HR=%{y}<extra></extra>\", \"legendgroup\": \"2018\", \"marker\": {\"color\": \"#00cc96\", \"symbol\": \"circle\"}, \"mode\": \"markers\", \"name\": \"2018\", \"orientation\": \"v\", \"showlegend\": true, \"type\": \"scatter\", \"x\": [5.266666666666667, 6.266666666666667, 5.866666666666666, 5.466666666666667, 7.7, 5.55, 5.75, 7.966666666666667, 5.216666666666667, 5.6, 5.433333333333334, 5.566666666666666, 4.916666666666667, 5.7, 6.0, 5.416666666666667, 5.0, 6.0, 4.75, 5.333333333333333, 4.7, 5.433333333333334, 4.8, 5.766666666666667, 4.566666666666666, 5.25, 5.416666666666667, 4.85, 5.983333333333333, 5.566666666666666, 5.0, 5.183333333333334, 4.916666666666667, 5.383333333333334, 4.65, 5.583333333333333, 5.8, 6.5, 5.6, 5.583333333333333, 6.716666666666667, 5.533333333333333, 5.783333333333333, 5.516666666666667, 4.95, 5.6, 6.65, 4.866666666666666, 4.883333333333334, 5.95, 5.666666666666667, 4.933333333333334, 5.466666666666667, 5.216666666666667, 4.866666666666666, 5.066666666666666, 3.55, 5.0, 4.3, 4.183333333333334, 4.433333333333334, 4.983333333333333, 5.433333333333334, 4.35, 5.1, 4.966666666666667, 4.633333333333334, 4.983333333333333, 4.7, 5.2, 4.783333333333333, 5.283333333333333, 5.566666666666666, 4.833333333333333, 4.433333333333334, 5.433333333333334, 4.75, 5.45, 5.166666666666667, 5.15, 5.383333333333334, 5.55, 5.983333333333333, 5.833333333333333, 7.933333333333334, 5.8, 5.933333333333334], \"xaxis\": \"x\", \"y\": [185.0, 163.0, 179.0, 180.0, 171.0, 170.0, 185.0, 159.0, 174.0, 174.0, 175.0, 183.0, 178.0, 180.0, 162.0, 180.0, 178.0, 169.0, 186.0, 172.0, 176.0, 177.0, 175.0, 167.0, 175.0, 186.0, 178.0, 176.0, 164.0, 169.0, 172.0, 173.0, 174.0, 173.0, 175.0, 169.0, 156.0, 159.0, 170.0, 164.0, 146.0, 154.0, 162.0, 161.0, 170.0, 145.0, 166.0, 174.0, 170.0, 163.0, 172.0, 170.0, 167.0, 164.0, 171.0, 171.0, 146.0, 169.0, 160.0, 155.0, 168.0, 167.0, 169.0, 176.0, 173.0, 166.0, 173.0, 164.0, 178.0, 172.0, 175.0, 166.0, 174.0, 162.0, 178.0, 178.0, 137.0, 174.0, 183.0, 174.0, 187.0, 171.0, 148.0, 173.0, 157.0, 183.0, 179.0], \"yaxis\": \"y\"}, {\"hovertemplate\": \"<b>LOWESS trendline</b><br><br>Year=2018<br>Avg Pace=%{x}<br>Avg HR=%{y} <b>(trend)</b><extra></extra>\", \"legendgroup\": \"2018\", \"marker\": {\"color\": \"#00cc96\", \"symbol\": \"circle\"}, \"mode\": \"lines\", \"name\": \"2018\", \"showlegend\": false, \"type\": \"scatter\", \"x\": [3.55, 4.183333333333334, 4.3, 4.35, 4.433333333333334, 4.433333333333334, 4.566666666666666, 4.633333333333334, 4.65, 4.7, 4.7, 4.75, 4.75, 4.783333333333333, 4.8, 4.833333333333333, 4.85, 4.866666666666666, 4.866666666666666, 4.883333333333334, 4.916666666666667, 4.916666666666667, 4.933333333333334, 4.95, 4.966666666666667, 4.983333333333333, 4.983333333333333, 5.0, 5.0, 5.0, 5.066666666666666, 5.1, 5.15, 5.166666666666667, 5.183333333333334, 5.2, 5.216666666666667, 5.216666666666667, 5.25, 5.266666666666667, 5.283333333333333, 5.333333333333333, 5.383333333333334, 5.383333333333334, 5.416666666666667, 5.416666666666667, 5.433333333333334, 5.433333333333334, 5.433333333333334, 5.433333333333334, 5.45, 5.466666666666667, 5.466666666666667, 5.516666666666667, 5.533333333333333, 5.55, 5.55, 5.566666666666666, 5.566666666666666, 5.566666666666666, 5.583333333333333, 5.583333333333333, 5.6, 5.6, 5.6, 5.666666666666667, 5.7, 5.75, 5.766666666666667, 5.783333333333333, 5.8, 5.8, 5.833333333333333, 5.866666666666666, 5.933333333333334, 5.95, 5.983333333333333, 5.983333333333333, 6.0, 6.0, 6.266666666666667, 6.5, 6.65, 6.716666666666667, 7.7, 7.933333333333334, 7.966666666666667], \"xaxis\": \"x\", \"y\": [152.99591799616877, 164.74713857011272, 166.99675217775186, 167.993057316696, 169.59983477103603, 169.59983477103603, 171.16560309612723, 171.6431114905906, 171.76574083321702, 172.13946050683612, 172.13946050683612, 172.5105605267483, 172.5105605267483, 172.73984020652279, 172.84195947147077, 173.00339665390015, 173.055409412119, 173.08624038570227, 173.08624038570227, 173.10016326269428, 173.0888238738286, 173.0888238738286, 173.0668011761349, 173.07021113781335, 173.0483413788497, 173.02440927138153, 173.02440927138153, 172.9990376248886, 172.9990376248886, 172.9990376248886, 172.95490349597125, 172.95377367493896, 173.01113357994248, 173.01648023570465, 173.021950981283, 173.06920869352464, 173.040921433931, 173.040921433931, 173.07791568801403, 173.10514158707247, 173.1367715944635, 173.299868662555, 173.21044200139104, 173.21044200139104, 173.1370426830453, 173.1370426830453, 173.11420717182332, 173.11420717182332, 173.11420717182332, 173.11420717182332, 173.11345160760897, 173.05132915391533, 173.05132915391533, 172.7014137432328, 172.54950619801014, 172.3854700392931, 172.3854700392931, 172.21297885344111, 172.21297885344111, 172.21297885344111, 172.03465520509616, 172.03465520509616, 171.85223017585903, 171.85223017585903, 171.85223017585903, 171.09897416737354, 170.6956382171646, 170.08384549199394, 169.87485515451172, 169.66261046714231, 169.44718340722028, 169.44718340722028, 169.0087683884201, 168.5899644277576, 167.82522696444997, 167.639827525862, 167.26929889793522, 167.26929889793522, 167.0833117248614, 167.0833117248614, 164.01429398906578, 162.1402153449355, 163.20934228017197, 163.4592802246213, 159.99704886184398, 159.08843785176734, 158.9614575688044], \"yaxis\": \"y\"}, {\"hovertemplate\": \"Year=2017<br>Avg Pace=%{x}<br>Avg HR=%{y}<extra></extra>\", \"legendgroup\": \"2017\", \"marker\": {\"color\": \"#ab63fa\", \"symbol\": \"circle\"}, \"mode\": \"markers\", \"name\": \"2017\", \"orientation\": \"v\", \"showlegend\": true, \"type\": \"scatter\", \"x\": [5.9, 6.05, 5.833333333333333, 6.133333333333334, 6.0, 6.083333333333333], \"xaxis\": \"x\", \"y\": [179.0, 178.0, null, null, null, null], \"yaxis\": \"y\"}, {\"hovertemplate\": \"<b>LOWESS trendline</b><br><br>Year=2017<br>Avg Pace=%{x}<br>Avg HR=%{y} <b>(trend)</b><extra></extra>\", \"legendgroup\": \"2017\", \"marker\": {\"color\": \"#ab63fa\", \"symbol\": \"circle\"}, \"mode\": \"lines\", \"name\": \"2017\", \"showlegend\": false, \"type\": \"scatter\", \"x\": [5.9, 6.05], \"xaxis\": \"x\", \"y\": [179.0, 178.0], \"yaxis\": \"y\"}],                        {\"legend\": {\"title\": {\"text\": \"Year\"}, \"tracegroupgap\": 0}, \"margin\": {\"t\": 60}, \"template\": {\"data\": {\"bar\": [{\"error_x\": {\"color\": \"#2a3f5f\"}, \"error_y\": {\"color\": \"#2a3f5f\"}, \"marker\": {\"line\": {\"color\": \"#E5ECF6\", \"width\": 0.5}}, \"type\": \"bar\"}], \"barpolar\": [{\"marker\": {\"line\": {\"color\": \"#E5ECF6\", \"width\": 0.5}}, \"type\": \"barpolar\"}], \"carpet\": [{\"aaxis\": {\"endlinecolor\": \"#2a3f5f\", \"gridcolor\": \"white\", \"linecolor\": \"white\", \"minorgridcolor\": \"white\", \"startlinecolor\": \"#2a3f5f\"}, \"baxis\": {\"endlinecolor\": \"#2a3f5f\", \"gridcolor\": \"white\", \"linecolor\": \"white\", \"minorgridcolor\": \"white\", \"startlinecolor\": \"#2a3f5f\"}, \"type\": \"carpet\"}], \"choropleth\": [{\"colorbar\": {\"outlinewidth\": 0, \"ticks\": \"\"}, \"type\": \"choropleth\"}], \"contour\": [{\"colorbar\": {\"outlinewidth\": 0, \"ticks\": \"\"}, \"colorscale\": [[0.0, \"#0d0887\"], [0.1111111111111111, \"#46039f\"], [0.2222222222222222, \"#7201a8\"], [0.3333333333333333, \"#9c179e\"], [0.4444444444444444, \"#bd3786\"], [0.5555555555555556, \"#d8576b\"], [0.6666666666666666, \"#ed7953\"], [0.7777777777777778, \"#fb9f3a\"], [0.8888888888888888, \"#fdca26\"], [1.0, \"#f0f921\"]], \"type\": \"contour\"}], \"contourcarpet\": [{\"colorbar\": {\"outlinewidth\": 0, \"ticks\": \"\"}, \"type\": \"contourcarpet\"}], \"heatmap\": [{\"colorbar\": {\"outlinewidth\": 0, \"ticks\": \"\"}, \"colorscale\": [[0.0, \"#0d0887\"], [0.1111111111111111, \"#46039f\"], [0.2222222222222222, \"#7201a8\"], [0.3333333333333333, \"#9c179e\"], [0.4444444444444444, \"#bd3786\"], [0.5555555555555556, \"#d8576b\"], [0.6666666666666666, \"#ed7953\"], [0.7777777777777778, \"#fb9f3a\"], [0.8888888888888888, \"#fdca26\"], [1.0, \"#f0f921\"]], \"type\": \"heatmap\"}], \"heatmapgl\": [{\"colorbar\": {\"outlinewidth\": 0, \"ticks\": \"\"}, \"colorscale\": [[0.0, \"#0d0887\"], [0.1111111111111111, \"#46039f\"], [0.2222222222222222, \"#7201a8\"], [0.3333333333333333, \"#9c179e\"], [0.4444444444444444, \"#bd3786\"], [0.5555555555555556, \"#d8576b\"], [0.6666666666666666, \"#ed7953\"], [0.7777777777777778, \"#fb9f3a\"], [0.8888888888888888, \"#fdca26\"], [1.0, \"#f0f921\"]], \"type\": \"heatmapgl\"}], \"histogram\": [{\"marker\": {\"colorbar\": {\"outlinewidth\": 0, \"ticks\": \"\"}}, \"type\": \"histogram\"}], \"histogram2d\": [{\"colorbar\": {\"outlinewidth\": 0, \"ticks\": \"\"}, \"colorscale\": [[0.0, \"#0d0887\"], [0.1111111111111111, \"#46039f\"], [0.2222222222222222, \"#7201a8\"], [0.3333333333333333, \"#9c179e\"], [0.4444444444444444, \"#bd3786\"], [0.5555555555555556, \"#d8576b\"], [0.6666666666666666, \"#ed7953\"], [0.7777777777777778, \"#fb9f3a\"], [0.8888888888888888, \"#fdca26\"], [1.0, \"#f0f921\"]], \"type\": \"histogram2d\"}], \"histogram2dcontour\": [{\"colorbar\": {\"outlinewidth\": 0, \"ticks\": \"\"}, \"colorscale\": [[0.0, \"#0d0887\"], [0.1111111111111111, \"#46039f\"], [0.2222222222222222, \"#7201a8\"], [0.3333333333333333, \"#9c179e\"], [0.4444444444444444, \"#bd3786\"], [0.5555555555555556, \"#d8576b\"], [0.6666666666666666, \"#ed7953\"], [0.7777777777777778, \"#fb9f3a\"], [0.8888888888888888, \"#fdca26\"], [1.0, \"#f0f921\"]], \"type\": \"histogram2dcontour\"}], \"mesh3d\": [{\"colorbar\": {\"outlinewidth\": 0, \"ticks\": \"\"}, \"type\": \"mesh3d\"}], \"parcoords\": [{\"line\": {\"colorbar\": {\"outlinewidth\": 0, \"ticks\": \"\"}}, \"type\": \"parcoords\"}], \"pie\": [{\"automargin\": true, \"type\": \"pie\"}], \"scatter\": [{\"marker\": {\"colorbar\": {\"outlinewidth\": 0, \"ticks\": \"\"}}, \"type\": \"scatter\"}], \"scatter3d\": [{\"line\": {\"colorbar\": {\"outlinewidth\": 0, \"ticks\": \"\"}}, \"marker\": {\"colorbar\": {\"outlinewidth\": 0, \"ticks\": \"\"}}, \"type\": \"scatter3d\"}], \"scattercarpet\": [{\"marker\": {\"colorbar\": {\"outlinewidth\": 0, \"ticks\": \"\"}}, \"type\": \"scattercarpet\"}], \"scattergeo\": [{\"marker\": {\"colorbar\": {\"outlinewidth\": 0, \"ticks\": \"\"}}, \"type\": \"scattergeo\"}], \"scattergl\": [{\"marker\": {\"colorbar\": {\"outlinewidth\": 0, \"ticks\": \"\"}}, \"type\": \"scattergl\"}], \"scattermapbox\": [{\"marker\": {\"colorbar\": {\"outlinewidth\": 0, \"ticks\": \"\"}}, \"type\": \"scattermapbox\"}], \"scatterpolar\": [{\"marker\": {\"colorbar\": {\"outlinewidth\": 0, \"ticks\": \"\"}}, \"type\": \"scatterpolar\"}], \"scatterpolargl\": [{\"marker\": {\"colorbar\": {\"outlinewidth\": 0, \"ticks\": \"\"}}, \"type\": \"scatterpolargl\"}], \"scatterternary\": [{\"marker\": {\"colorbar\": {\"outlinewidth\": 0, \"ticks\": \"\"}}, \"type\": \"scatterternary\"}], \"surface\": [{\"colorbar\": {\"outlinewidth\": 0, \"ticks\": \"\"}, \"colorscale\": [[0.0, \"#0d0887\"], [0.1111111111111111, \"#46039f\"], [0.2222222222222222, \"#7201a8\"], [0.3333333333333333, \"#9c179e\"], [0.4444444444444444, \"#bd3786\"], [0.5555555555555556, \"#d8576b\"], [0.6666666666666666, \"#ed7953\"], [0.7777777777777778, \"#fb9f3a\"], [0.8888888888888888, \"#fdca26\"], [1.0, \"#f0f921\"]], \"type\": \"surface\"}], \"table\": [{\"cells\": {\"fill\": {\"color\": \"#EBF0F8\"}, \"line\": {\"color\": \"white\"}}, \"header\": {\"fill\": {\"color\": \"#C8D4E3\"}, \"line\": {\"color\": \"white\"}}, \"type\": \"table\"}]}, \"layout\": {\"annotationdefaults\": {\"arrowcolor\": \"#2a3f5f\", \"arrowhead\": 0, \"arrowwidth\": 1}, \"coloraxis\": {\"colorbar\": {\"outlinewidth\": 0, \"ticks\": \"\"}}, \"colorscale\": {\"diverging\": [[0, \"#8e0152\"], [0.1, \"#c51b7d\"], [0.2, \"#de77ae\"], [0.3, \"#f1b6da\"], [0.4, \"#fde0ef\"], [0.5, \"#f7f7f7\"], [0.6, \"#e6f5d0\"], [0.7, \"#b8e186\"], [0.8, \"#7fbc41\"], [0.9, \"#4d9221\"], [1, \"#276419\"]], \"sequential\": [[0.0, \"#0d0887\"], [0.1111111111111111, \"#46039f\"], [0.2222222222222222, \"#7201a8\"], [0.3333333333333333, \"#9c179e\"], [0.4444444444444444, \"#bd3786\"], [0.5555555555555556, \"#d8576b\"], [0.6666666666666666, \"#ed7953\"], [0.7777777777777778, \"#fb9f3a\"], [0.8888888888888888, \"#fdca26\"], [1.0, \"#f0f921\"]], \"sequentialminus\": [[0.0, \"#0d0887\"], [0.1111111111111111, \"#46039f\"], [0.2222222222222222, \"#7201a8\"], [0.3333333333333333, \"#9c179e\"], [0.4444444444444444, \"#bd3786\"], [0.5555555555555556, \"#d8576b\"], [0.6666666666666666, \"#ed7953\"], [0.7777777777777778, \"#fb9f3a\"], [0.8888888888888888, \"#fdca26\"], [1.0, \"#f0f921\"]]}, \"colorway\": [\"#636efa\", \"#EF553B\", \"#00cc96\", \"#ab63fa\", \"#FFA15A\", \"#19d3f3\", \"#FF6692\", \"#B6E880\", \"#FF97FF\", \"#FECB52\"], \"font\": {\"color\": \"#2a3f5f\"}, \"geo\": {\"bgcolor\": \"white\", \"lakecolor\": \"white\", \"landcolor\": \"#E5ECF6\", \"showlakes\": true, \"showland\": true, \"subunitcolor\": \"white\"}, \"hoverlabel\": {\"align\": \"left\"}, \"hovermode\": \"closest\", \"mapbox\": {\"style\": \"light\"}, \"paper_bgcolor\": \"white\", \"plot_bgcolor\": \"#E5ECF6\", \"polar\": {\"angularaxis\": {\"gridcolor\": \"white\", \"linecolor\": \"white\", \"ticks\": \"\"}, \"bgcolor\": \"#E5ECF6\", \"radialaxis\": {\"gridcolor\": \"white\", \"linecolor\": \"white\", \"ticks\": \"\"}}, \"scene\": {\"xaxis\": {\"backgroundcolor\": \"#E5ECF6\", \"gridcolor\": \"white\", \"gridwidth\": 2, \"linecolor\": \"white\", \"showbackground\": true, \"ticks\": \"\", \"zerolinecolor\": \"white\"}, \"yaxis\": {\"backgroundcolor\": \"#E5ECF6\", \"gridcolor\": \"white\", \"gridwidth\": 2, \"linecolor\": \"white\", \"showbackground\": true, \"ticks\": \"\", \"zerolinecolor\": \"white\"}, \"zaxis\": {\"backgroundcolor\": \"#E5ECF6\", \"gridcolor\": \"white\", \"gridwidth\": 2, \"linecolor\": \"white\", \"showbackground\": true, \"ticks\": \"\", \"zerolinecolor\": \"white\"}}, \"shapedefaults\": {\"line\": {\"color\": \"#2a3f5f\"}}, \"ternary\": {\"aaxis\": {\"gridcolor\": \"white\", \"linecolor\": \"white\", \"ticks\": \"\"}, \"baxis\": {\"gridcolor\": \"white\", \"linecolor\": \"white\", \"ticks\": \"\"}, \"bgcolor\": \"#E5ECF6\", \"caxis\": {\"gridcolor\": \"white\", \"linecolor\": \"white\", \"ticks\": \"\"}}, \"title\": {\"x\": 0.05}, \"xaxis\": {\"automargin\": true, \"gridcolor\": \"white\", \"linecolor\": \"white\", \"ticks\": \"\", \"title\": {\"standoff\": 15}, \"zerolinecolor\": \"white\", \"zerolinewidth\": 2}, \"yaxis\": {\"automargin\": true, \"gridcolor\": \"white\", \"linecolor\": \"white\", \"ticks\": \"\", \"title\": {\"standoff\": 15}, \"zerolinecolor\": \"white\", \"zerolinewidth\": 2}}}, \"xaxis\": {\"anchor\": \"y\", \"domain\": [0.0, 1.0], \"title\": {\"text\": \"Avg Pace\"}}, \"yaxis\": {\"anchor\": \"x\", \"domain\": [0.0, 1.0], \"title\": {\"text\": \"Avg HR\"}}},                        {\"responsive\": true}                    ).then(function(){\n",
       "                            \n",
       "var gd = document.getElementById('132aaef9-dd97-4ed0-99f2-a233d13e0a46');\n",
       "var x = new MutationObserver(function (mutations, observer) {{\n",
       "        var display = window.getComputedStyle(gd).display;\n",
       "        if (!display || display === 'none') {{\n",
       "            console.log([gd, 'removed!']);\n",
       "            Plotly.purge(gd);\n",
       "            observer.disconnect();\n",
       "        }}\n",
       "}});\n",
       "\n",
       "// Listen for the removal of the full notebook cells\n",
       "var notebookContainer = gd.closest('#notebook-container');\n",
       "if (notebookContainer) {{\n",
       "    x.observe(notebookContainer, {childList: true});\n",
       "}}\n",
       "\n",
       "// Listen for the clearing of the current output cell\n",
       "var outputEl = gd.closest('.output');\n",
       "if (outputEl) {{\n",
       "    x.observe(outputEl, {childList: true});\n",
       "}}\n",
       "\n",
       "                        })                };                });            </script>        </div>"
      ]
     },
     "metadata": {},
     "output_type": "display_data"
    }
   ],
   "source": [
    "fig = px.scatter(running_df, x='Avg Pace', y='Avg HR', color='Year', trendline='lowess')\n",
    "fig.show()"
   ]
  },
  {
   "cell_type": "code",
   "execution_count": null,
   "metadata": {},
   "outputs": [],
   "source": [
    "table_tennis_df = df[df['Title'] == 'Table Tennis'].reset_index(drop=True)\n",
    "\n",
    "table_tennis_df"
   ]
  }
 ],
 "metadata": {
  "kernelspec": {
   "display_name": "Python 3",
   "language": "python",
   "name": "python3"
  },
  "language_info": {
   "codemirror_mode": {
    "name": "ipython",
    "version": 3
   },
   "file_extension": ".py",
   "mimetype": "text/x-python",
   "name": "python",
   "nbconvert_exporter": "python",
   "pygments_lexer": "ipython3",
   "version": "3.8.5"
  }
 },
 "nbformat": 4,
 "nbformat_minor": 4
}
