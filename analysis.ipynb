{
 "cells": [
  {
   "cell_type": "code",
   "execution_count": 43,
   "metadata": {},
   "outputs": [],
   "source": [
    "import pandas as pd\n",
    "import numpy as np\n",
    "import plotly.express as px\n",
    "import plotly.graph_objs as go\n",
    "import plotly.figure_factory as ff"
   ]
  },
  {
   "cell_type": "code",
   "execution_count": 2,
   "metadata": {},
   "outputs": [
    {
     "data": {
      "text/html": [
       "<div>\n",
       "<style scoped>\n",
       "    .dataframe tbody tr th:only-of-type {\n",
       "        vertical-align: middle;\n",
       "    }\n",
       "\n",
       "    .dataframe tbody tr th {\n",
       "        vertical-align: top;\n",
       "    }\n",
       "\n",
       "    .dataframe thead th {\n",
       "        text-align: right;\n",
       "    }\n",
       "</style>\n",
       "<table border=\"1\" class=\"dataframe\">\n",
       "  <thead>\n",
       "    <tr style=\"text-align: right;\">\n",
       "      <th></th>\n",
       "      <th>Activity Type</th>\n",
       "      <th>Date</th>\n",
       "      <th>Favorite</th>\n",
       "      <th>Title</th>\n",
       "      <th>Distance</th>\n",
       "      <th>Calories</th>\n",
       "      <th>Time</th>\n",
       "      <th>Avg HR</th>\n",
       "      <th>Max HR</th>\n",
       "      <th>Aerobic TE</th>\n",
       "      <th>...</th>\n",
       "      <th>Grit</th>\n",
       "      <th>Flow</th>\n",
       "      <th>Climb Time</th>\n",
       "      <th>Bottom Time</th>\n",
       "      <th>Min Temp</th>\n",
       "      <th>Surface Interval</th>\n",
       "      <th>Decompression</th>\n",
       "      <th>Best Lap Time</th>\n",
       "      <th>Number of Laps</th>\n",
       "      <th>Max Temp</th>\n",
       "    </tr>\n",
       "  </thead>\n",
       "  <tbody>\n",
       "    <tr>\n",
       "      <th>0</th>\n",
       "      <td>Running</td>\n",
       "      <td>2020-10-01 23:42:43</td>\n",
       "      <td>False</td>\n",
       "      <td>West Coast</td>\n",
       "      <td>12.01</td>\n",
       "      <td>628</td>\n",
       "      <td>01:19:02</td>\n",
       "      <td>165</td>\n",
       "      <td>186</td>\n",
       "      <td>3.7</td>\n",
       "      <td>...</td>\n",
       "      <td>0</td>\n",
       "      <td>0</td>\n",
       "      <td>1:19:02</td>\n",
       "      <td>0:00</td>\n",
       "      <td>29</td>\n",
       "      <td>0:00</td>\n",
       "      <td>No</td>\n",
       "      <td>00:02.02</td>\n",
       "      <td>13</td>\n",
       "      <td>0</td>\n",
       "    </tr>\n",
       "    <tr>\n",
       "      <th>1</th>\n",
       "      <td>Running</td>\n",
       "      <td>2020-09-28 23:08:06</td>\n",
       "      <td>False</td>\n",
       "      <td>West Coast</td>\n",
       "      <td>12.01</td>\n",
       "      <td>674</td>\n",
       "      <td>01:22:05</td>\n",
       "      <td>170</td>\n",
       "      <td>184</td>\n",
       "      <td>3.9</td>\n",
       "      <td>...</td>\n",
       "      <td>0</td>\n",
       "      <td>0</td>\n",
       "      <td>1:22:05</td>\n",
       "      <td>0:00</td>\n",
       "      <td>30</td>\n",
       "      <td>0:00</td>\n",
       "      <td>No</td>\n",
       "      <td>00:02.06</td>\n",
       "      <td>13</td>\n",
       "      <td>0</td>\n",
       "    </tr>\n",
       "    <tr>\n",
       "      <th>2</th>\n",
       "      <td>Other</td>\n",
       "      <td>2020-09-27 19:55:18</td>\n",
       "      <td>False</td>\n",
       "      <td>Table Tennis</td>\n",
       "      <td>0.00</td>\n",
       "      <td>612</td>\n",
       "      <td>01:55:53</td>\n",
       "      <td>140</td>\n",
       "      <td>180</td>\n",
       "      <td>3.1</td>\n",
       "      <td>...</td>\n",
       "      <td>0</td>\n",
       "      <td>0</td>\n",
       "      <td>1:55:53</td>\n",
       "      <td>0:00</td>\n",
       "      <td>28</td>\n",
       "      <td>0:00</td>\n",
       "      <td>No</td>\n",
       "      <td>01:55:53.43</td>\n",
       "      <td>1</td>\n",
       "      <td>0</td>\n",
       "    </tr>\n",
       "    <tr>\n",
       "      <th>3</th>\n",
       "      <td>Running</td>\n",
       "      <td>2020-09-24 23:40:59</td>\n",
       "      <td>False</td>\n",
       "      <td>West Coast</td>\n",
       "      <td>8.01</td>\n",
       "      <td>470</td>\n",
       "      <td>00:54:08</td>\n",
       "      <td>171</td>\n",
       "      <td>185</td>\n",
       "      <td>3.6</td>\n",
       "      <td>...</td>\n",
       "      <td>0</td>\n",
       "      <td>0</td>\n",
       "      <td>54:08</td>\n",
       "      <td>0:00</td>\n",
       "      <td>30</td>\n",
       "      <td>0:00</td>\n",
       "      <td>No</td>\n",
       "      <td>00:02.43</td>\n",
       "      <td>9</td>\n",
       "      <td>0</td>\n",
       "    </tr>\n",
       "    <tr>\n",
       "      <th>4</th>\n",
       "      <td>Other</td>\n",
       "      <td>2020-09-23 19:59:19</td>\n",
       "      <td>False</td>\n",
       "      <td>Table Tennis</td>\n",
       "      <td>0.00</td>\n",
       "      <td>873</td>\n",
       "      <td>01:51:55</td>\n",
       "      <td>156</td>\n",
       "      <td>171</td>\n",
       "      <td>3.6</td>\n",
       "      <td>...</td>\n",
       "      <td>0</td>\n",
       "      <td>0</td>\n",
       "      <td>1:51:55</td>\n",
       "      <td>0:00</td>\n",
       "      <td>31</td>\n",
       "      <td>0:00</td>\n",
       "      <td>No</td>\n",
       "      <td>01:51:55.17</td>\n",
       "      <td>1</td>\n",
       "      <td>0</td>\n",
       "    </tr>\n",
       "    <tr>\n",
       "      <th>...</th>\n",
       "      <td>...</td>\n",
       "      <td>...</td>\n",
       "      <td>...</td>\n",
       "      <td>...</td>\n",
       "      <td>...</td>\n",
       "      <td>...</td>\n",
       "      <td>...</td>\n",
       "      <td>...</td>\n",
       "      <td>...</td>\n",
       "      <td>...</td>\n",
       "      <td>...</td>\n",
       "      <td>...</td>\n",
       "      <td>...</td>\n",
       "      <td>...</td>\n",
       "      <td>...</td>\n",
       "      <td>...</td>\n",
       "      <td>...</td>\n",
       "      <td>...</td>\n",
       "      <td>...</td>\n",
       "      <td>...</td>\n",
       "      <td>...</td>\n",
       "    </tr>\n",
       "    <tr>\n",
       "      <th>365</th>\n",
       "      <td>Running</td>\n",
       "      <td>2017-12-20 18:45:50</td>\n",
       "      <td>False</td>\n",
       "      <td>Marina Bay</td>\n",
       "      <td>3.95</td>\n",
       "      <td>--</td>\n",
       "      <td>00:23:55</td>\n",
       "      <td>178</td>\n",
       "      <td>194</td>\n",
       "      <td>--</td>\n",
       "      <td>...</td>\n",
       "      <td>0</td>\n",
       "      <td>0</td>\n",
       "      <td>23:55</td>\n",
       "      <td>0:00</td>\n",
       "      <td>0</td>\n",
       "      <td>0:00</td>\n",
       "      <td>No</td>\n",
       "      <td>00:00.00</td>\n",
       "      <td>1</td>\n",
       "      <td>0</td>\n",
       "    </tr>\n",
       "    <tr>\n",
       "      <th>366</th>\n",
       "      <td>Running</td>\n",
       "      <td>2017-12-08 18:20:38</td>\n",
       "      <td>False</td>\n",
       "      <td>Marina Bay</td>\n",
       "      <td>5.02</td>\n",
       "      <td>--</td>\n",
       "      <td>00:29:17</td>\n",
       "      <td>--</td>\n",
       "      <td>--</td>\n",
       "      <td>--</td>\n",
       "      <td>...</td>\n",
       "      <td>0</td>\n",
       "      <td>0</td>\n",
       "      <td>29:17</td>\n",
       "      <td>0:00</td>\n",
       "      <td>0</td>\n",
       "      <td>0:00</td>\n",
       "      <td>No</td>\n",
       "      <td>00:00.00</td>\n",
       "      <td>1</td>\n",
       "      <td>0</td>\n",
       "    </tr>\n",
       "    <tr>\n",
       "      <th>367</th>\n",
       "      <td>Running</td>\n",
       "      <td>2017-12-05 18:17:43</td>\n",
       "      <td>False</td>\n",
       "      <td>Marina Bay</td>\n",
       "      <td>4.61</td>\n",
       "      <td>--</td>\n",
       "      <td>00:28:19</td>\n",
       "      <td>--</td>\n",
       "      <td>--</td>\n",
       "      <td>--</td>\n",
       "      <td>...</td>\n",
       "      <td>0</td>\n",
       "      <td>0</td>\n",
       "      <td>28:19</td>\n",
       "      <td>0:00</td>\n",
       "      <td>0</td>\n",
       "      <td>0:00</td>\n",
       "      <td>No</td>\n",
       "      <td>00:00.00</td>\n",
       "      <td>1</td>\n",
       "      <td>0</td>\n",
       "    </tr>\n",
       "    <tr>\n",
       "      <th>368</th>\n",
       "      <td>Running</td>\n",
       "      <td>2017-11-30 18:16:51</td>\n",
       "      <td>False</td>\n",
       "      <td>Marina Bay</td>\n",
       "      <td>3.21</td>\n",
       "      <td>--</td>\n",
       "      <td>00:19:14</td>\n",
       "      <td>--</td>\n",
       "      <td>--</td>\n",
       "      <td>--</td>\n",
       "      <td>...</td>\n",
       "      <td>0</td>\n",
       "      <td>0</td>\n",
       "      <td>19:14</td>\n",
       "      <td>0:00</td>\n",
       "      <td>0</td>\n",
       "      <td>0:00</td>\n",
       "      <td>No</td>\n",
       "      <td>00:00.00</td>\n",
       "      <td>1</td>\n",
       "      <td>0</td>\n",
       "    </tr>\n",
       "    <tr>\n",
       "      <th>369</th>\n",
       "      <td>Running</td>\n",
       "      <td>2017-11-27 18:08:37</td>\n",
       "      <td>False</td>\n",
       "      <td>Marina Bay</td>\n",
       "      <td>3.01</td>\n",
       "      <td>--</td>\n",
       "      <td>00:18:18</td>\n",
       "      <td>--</td>\n",
       "      <td>--</td>\n",
       "      <td>--</td>\n",
       "      <td>...</td>\n",
       "      <td>0</td>\n",
       "      <td>0</td>\n",
       "      <td>18:18</td>\n",
       "      <td>0:00</td>\n",
       "      <td>0</td>\n",
       "      <td>0:00</td>\n",
       "      <td>No</td>\n",
       "      <td>00:00.00</td>\n",
       "      <td>1</td>\n",
       "      <td>0</td>\n",
       "    </tr>\n",
       "  </tbody>\n",
       "</table>\n",
       "<p>370 rows × 34 columns</p>\n",
       "</div>"
      ],
      "text/plain": [
       "    Activity Type                 Date  Favorite         Title  Distance  \\\n",
       "0         Running  2020-10-01 23:42:43     False    West Coast     12.01   \n",
       "1         Running  2020-09-28 23:08:06     False    West Coast     12.01   \n",
       "2           Other  2020-09-27 19:55:18     False  Table Tennis      0.00   \n",
       "3         Running  2020-09-24 23:40:59     False    West Coast      8.01   \n",
       "4           Other  2020-09-23 19:59:19     False  Table Tennis      0.00   \n",
       "..            ...                  ...       ...           ...       ...   \n",
       "365       Running  2017-12-20 18:45:50     False    Marina Bay      3.95   \n",
       "366       Running  2017-12-08 18:20:38     False    Marina Bay      5.02   \n",
       "367       Running  2017-12-05 18:17:43     False    Marina Bay      4.61   \n",
       "368       Running  2017-11-30 18:16:51     False    Marina Bay      3.21   \n",
       "369       Running  2017-11-27 18:08:37     False    Marina Bay      3.01   \n",
       "\n",
       "    Calories      Time Avg HR Max HR Aerobic TE  ... Grit Flow Climb Time  \\\n",
       "0        628  01:19:02    165    186        3.7  ...    0    0    1:19:02   \n",
       "1        674  01:22:05    170    184        3.9  ...    0    0    1:22:05   \n",
       "2        612  01:55:53    140    180        3.1  ...    0    0    1:55:53   \n",
       "3        470  00:54:08    171    185        3.6  ...    0    0      54:08   \n",
       "4        873  01:51:55    156    171        3.6  ...    0    0    1:51:55   \n",
       "..       ...       ...    ...    ...        ...  ...  ...  ...        ...   \n",
       "365       --  00:23:55    178    194         --  ...    0    0      23:55   \n",
       "366       --  00:29:17     --     --         --  ...    0    0      29:17   \n",
       "367       --  00:28:19     --     --         --  ...    0    0      28:19   \n",
       "368       --  00:19:14     --     --         --  ...    0    0      19:14   \n",
       "369       --  00:18:18     --     --         --  ...    0    0      18:18   \n",
       "\n",
       "    Bottom Time Min Temp Surface Interval  Decompression  Best Lap Time  \\\n",
       "0          0:00       29             0:00             No       00:02.02   \n",
       "1          0:00       30             0:00             No       00:02.06   \n",
       "2          0:00       28             0:00             No    01:55:53.43   \n",
       "3          0:00       30             0:00             No       00:02.43   \n",
       "4          0:00       31             0:00             No    01:51:55.17   \n",
       "..          ...      ...              ...            ...            ...   \n",
       "365        0:00        0             0:00             No       00:00.00   \n",
       "366        0:00        0             0:00             No       00:00.00   \n",
       "367        0:00        0             0:00             No       00:00.00   \n",
       "368        0:00        0             0:00             No       00:00.00   \n",
       "369        0:00        0             0:00             No       00:00.00   \n",
       "\n",
       "     Number of Laps Max Temp  \n",
       "0                13        0  \n",
       "1                13        0  \n",
       "2                 1        0  \n",
       "3                 9        0  \n",
       "4                 1        0  \n",
       "..              ...      ...  \n",
       "365               1        0  \n",
       "366               1        0  \n",
       "367               1        0  \n",
       "368               1        0  \n",
       "369               1        0  \n",
       "\n",
       "[370 rows x 34 columns]"
      ]
     },
     "execution_count": 2,
     "metadata": {},
     "output_type": "execute_result"
    }
   ],
   "source": [
    "df = pd.read_csv('./data/activities_20201001.csv')\n",
    "df"
   ]
  },
  {
   "cell_type": "code",
   "execution_count": 3,
   "metadata": {},
   "outputs": [
    {
     "data": {
      "text/plain": [
       "Index(['Activity Type', 'Date', 'Favorite', 'Title', 'Distance', 'Calories',\n",
       "       'Time', 'Avg HR', 'Max HR', 'Aerobic TE', 'Avg Run Cadence',\n",
       "       'Max Run Cadence', 'Avg Pace', 'Best Pace', 'Elev Gain', 'Elev Loss',\n",
       "       'Avg Stride Length', 'Avg Vertical Ratio', 'Avg Vertical Oscillation',\n",
       "       'Avg Ground Contact Time', 'Avg GCT Balance', 'Avg Run Cadence.1',\n",
       "       'Max Run Cadence.1', 'Training Stress Score®', 'Grit', 'Flow',\n",
       "       'Climb Time', 'Bottom Time', 'Min Temp', 'Surface Interval',\n",
       "       'Decompression', 'Best Lap Time', 'Number of Laps', 'Max Temp'],\n",
       "      dtype='object')"
      ]
     },
     "execution_count": 3,
     "metadata": {},
     "output_type": "execute_result"
    }
   ],
   "source": [
    "df.columns"
   ]
  },
  {
   "cell_type": "code",
   "execution_count": 4,
   "metadata": {},
   "outputs": [
    {
     "data": {
      "text/html": [
       "<div>\n",
       "<style scoped>\n",
       "    .dataframe tbody tr th:only-of-type {\n",
       "        vertical-align: middle;\n",
       "    }\n",
       "\n",
       "    .dataframe tbody tr th {\n",
       "        vertical-align: top;\n",
       "    }\n",
       "\n",
       "    .dataframe thead th {\n",
       "        text-align: right;\n",
       "    }\n",
       "</style>\n",
       "<table border=\"1\" class=\"dataframe\">\n",
       "  <thead>\n",
       "    <tr style=\"text-align: right;\">\n",
       "      <th></th>\n",
       "      <th>Activity Type</th>\n",
       "      <th>Date</th>\n",
       "      <th>Title</th>\n",
       "      <th>Distance</th>\n",
       "      <th>Calories</th>\n",
       "      <th>Time</th>\n",
       "      <th>Avg HR</th>\n",
       "      <th>Max HR</th>\n",
       "      <th>Aerobic TE</th>\n",
       "      <th>Avg Run Cadence</th>\n",
       "      <th>Avg Pace</th>\n",
       "      <th>Elev Gain</th>\n",
       "      <th>Elev Loss</th>\n",
       "      <th>Avg Stride Length</th>\n",
       "      <th>Min Temp</th>\n",
       "    </tr>\n",
       "  </thead>\n",
       "  <tbody>\n",
       "    <tr>\n",
       "      <th>0</th>\n",
       "      <td>Running</td>\n",
       "      <td>2020-10-01 23:42:43</td>\n",
       "      <td>West Coast</td>\n",
       "      <td>12.01</td>\n",
       "      <td>628</td>\n",
       "      <td>01:19:02</td>\n",
       "      <td>165</td>\n",
       "      <td>186</td>\n",
       "      <td>3.7</td>\n",
       "      <td>154</td>\n",
       "      <td>6:35</td>\n",
       "      <td>38</td>\n",
       "      <td>21</td>\n",
       "      <td>0.98</td>\n",
       "      <td>29</td>\n",
       "    </tr>\n",
       "    <tr>\n",
       "      <th>1</th>\n",
       "      <td>Running</td>\n",
       "      <td>2020-09-28 23:08:06</td>\n",
       "      <td>West Coast</td>\n",
       "      <td>12.01</td>\n",
       "      <td>674</td>\n",
       "      <td>01:22:05</td>\n",
       "      <td>170</td>\n",
       "      <td>184</td>\n",
       "      <td>3.9</td>\n",
       "      <td>153</td>\n",
       "      <td>6:50</td>\n",
       "      <td>30</td>\n",
       "      <td>28</td>\n",
       "      <td>0.95</td>\n",
       "      <td>30</td>\n",
       "    </tr>\n",
       "    <tr>\n",
       "      <th>2</th>\n",
       "      <td>Other</td>\n",
       "      <td>2020-09-27 19:55:18</td>\n",
       "      <td>Table Tennis</td>\n",
       "      <td>0.00</td>\n",
       "      <td>612</td>\n",
       "      <td>01:55:53</td>\n",
       "      <td>140</td>\n",
       "      <td>180</td>\n",
       "      <td>3.1</td>\n",
       "      <td>8</td>\n",
       "      <td>NaN</td>\n",
       "      <td>NaN</td>\n",
       "      <td>NaN</td>\n",
       "      <td>0.00</td>\n",
       "      <td>28</td>\n",
       "    </tr>\n",
       "    <tr>\n",
       "      <th>3</th>\n",
       "      <td>Running</td>\n",
       "      <td>2020-09-24 23:40:59</td>\n",
       "      <td>West Coast</td>\n",
       "      <td>8.01</td>\n",
       "      <td>470</td>\n",
       "      <td>00:54:08</td>\n",
       "      <td>171</td>\n",
       "      <td>185</td>\n",
       "      <td>3.6</td>\n",
       "      <td>154</td>\n",
       "      <td>6:46</td>\n",
       "      <td>17</td>\n",
       "      <td>16</td>\n",
       "      <td>0.96</td>\n",
       "      <td>30</td>\n",
       "    </tr>\n",
       "    <tr>\n",
       "      <th>4</th>\n",
       "      <td>Other</td>\n",
       "      <td>2020-09-23 19:59:19</td>\n",
       "      <td>Table Tennis</td>\n",
       "      <td>0.00</td>\n",
       "      <td>873</td>\n",
       "      <td>01:51:55</td>\n",
       "      <td>156</td>\n",
       "      <td>171</td>\n",
       "      <td>3.6</td>\n",
       "      <td>8</td>\n",
       "      <td>NaN</td>\n",
       "      <td>NaN</td>\n",
       "      <td>NaN</td>\n",
       "      <td>0.00</td>\n",
       "      <td>31</td>\n",
       "    </tr>\n",
       "    <tr>\n",
       "      <th>...</th>\n",
       "      <td>...</td>\n",
       "      <td>...</td>\n",
       "      <td>...</td>\n",
       "      <td>...</td>\n",
       "      <td>...</td>\n",
       "      <td>...</td>\n",
       "      <td>...</td>\n",
       "      <td>...</td>\n",
       "      <td>...</td>\n",
       "      <td>...</td>\n",
       "      <td>...</td>\n",
       "      <td>...</td>\n",
       "      <td>...</td>\n",
       "      <td>...</td>\n",
       "      <td>...</td>\n",
       "    </tr>\n",
       "    <tr>\n",
       "      <th>365</th>\n",
       "      <td>Running</td>\n",
       "      <td>2017-12-20 18:45:50</td>\n",
       "      <td>Marina Bay</td>\n",
       "      <td>3.95</td>\n",
       "      <td>NaN</td>\n",
       "      <td>00:23:55</td>\n",
       "      <td>178</td>\n",
       "      <td>194</td>\n",
       "      <td>NaN</td>\n",
       "      <td>NaN</td>\n",
       "      <td>6:03</td>\n",
       "      <td>89</td>\n",
       "      <td>120</td>\n",
       "      <td>0.00</td>\n",
       "      <td>0</td>\n",
       "    </tr>\n",
       "    <tr>\n",
       "      <th>366</th>\n",
       "      <td>Running</td>\n",
       "      <td>2017-12-08 18:20:38</td>\n",
       "      <td>Marina Bay</td>\n",
       "      <td>5.02</td>\n",
       "      <td>NaN</td>\n",
       "      <td>00:29:17</td>\n",
       "      <td>NaN</td>\n",
       "      <td>NaN</td>\n",
       "      <td>NaN</td>\n",
       "      <td>NaN</td>\n",
       "      <td>5:50</td>\n",
       "      <td>111</td>\n",
       "      <td>107</td>\n",
       "      <td>0.00</td>\n",
       "      <td>0</td>\n",
       "    </tr>\n",
       "    <tr>\n",
       "      <th>367</th>\n",
       "      <td>Running</td>\n",
       "      <td>2017-12-05 18:17:43</td>\n",
       "      <td>Marina Bay</td>\n",
       "      <td>4.61</td>\n",
       "      <td>NaN</td>\n",
       "      <td>00:28:19</td>\n",
       "      <td>NaN</td>\n",
       "      <td>NaN</td>\n",
       "      <td>NaN</td>\n",
       "      <td>NaN</td>\n",
       "      <td>6:08</td>\n",
       "      <td>69</td>\n",
       "      <td>97</td>\n",
       "      <td>0.00</td>\n",
       "      <td>0</td>\n",
       "    </tr>\n",
       "    <tr>\n",
       "      <th>368</th>\n",
       "      <td>Running</td>\n",
       "      <td>2017-11-30 18:16:51</td>\n",
       "      <td>Marina Bay</td>\n",
       "      <td>3.21</td>\n",
       "      <td>NaN</td>\n",
       "      <td>00:19:14</td>\n",
       "      <td>NaN</td>\n",
       "      <td>NaN</td>\n",
       "      <td>NaN</td>\n",
       "      <td>NaN</td>\n",
       "      <td>6:00</td>\n",
       "      <td>9</td>\n",
       "      <td>43</td>\n",
       "      <td>0.00</td>\n",
       "      <td>0</td>\n",
       "    </tr>\n",
       "    <tr>\n",
       "      <th>369</th>\n",
       "      <td>Running</td>\n",
       "      <td>2017-11-27 18:08:37</td>\n",
       "      <td>Marina Bay</td>\n",
       "      <td>3.01</td>\n",
       "      <td>NaN</td>\n",
       "      <td>00:18:18</td>\n",
       "      <td>NaN</td>\n",
       "      <td>NaN</td>\n",
       "      <td>NaN</td>\n",
       "      <td>NaN</td>\n",
       "      <td>6:05</td>\n",
       "      <td>45</td>\n",
       "      <td>50</td>\n",
       "      <td>0.00</td>\n",
       "      <td>0</td>\n",
       "    </tr>\n",
       "  </tbody>\n",
       "</table>\n",
       "<p>370 rows × 15 columns</p>\n",
       "</div>"
      ],
      "text/plain": [
       "    Activity Type                 Date         Title  Distance Calories  \\\n",
       "0         Running  2020-10-01 23:42:43    West Coast     12.01      628   \n",
       "1         Running  2020-09-28 23:08:06    West Coast     12.01      674   \n",
       "2           Other  2020-09-27 19:55:18  Table Tennis      0.00      612   \n",
       "3         Running  2020-09-24 23:40:59    West Coast      8.01      470   \n",
       "4           Other  2020-09-23 19:59:19  Table Tennis      0.00      873   \n",
       "..            ...                  ...           ...       ...      ...   \n",
       "365       Running  2017-12-20 18:45:50    Marina Bay      3.95      NaN   \n",
       "366       Running  2017-12-08 18:20:38    Marina Bay      5.02      NaN   \n",
       "367       Running  2017-12-05 18:17:43    Marina Bay      4.61      NaN   \n",
       "368       Running  2017-11-30 18:16:51    Marina Bay      3.21      NaN   \n",
       "369       Running  2017-11-27 18:08:37    Marina Bay      3.01      NaN   \n",
       "\n",
       "         Time Avg HR Max HR Aerobic TE Avg Run Cadence Avg Pace Elev Gain  \\\n",
       "0    01:19:02    165    186        3.7             154     6:35        38   \n",
       "1    01:22:05    170    184        3.9             153     6:50        30   \n",
       "2    01:55:53    140    180        3.1               8      NaN       NaN   \n",
       "3    00:54:08    171    185        3.6             154     6:46        17   \n",
       "4    01:51:55    156    171        3.6               8      NaN       NaN   \n",
       "..        ...    ...    ...        ...             ...      ...       ...   \n",
       "365  00:23:55    178    194        NaN             NaN     6:03        89   \n",
       "366  00:29:17    NaN    NaN        NaN             NaN     5:50       111   \n",
       "367  00:28:19    NaN    NaN        NaN             NaN     6:08        69   \n",
       "368  00:19:14    NaN    NaN        NaN             NaN     6:00         9   \n",
       "369  00:18:18    NaN    NaN        NaN             NaN     6:05        45   \n",
       "\n",
       "    Elev Loss  Avg Stride Length  Min Temp  \n",
       "0          21               0.98        29  \n",
       "1          28               0.95        30  \n",
       "2         NaN               0.00        28  \n",
       "3          16               0.96        30  \n",
       "4         NaN               0.00        31  \n",
       "..        ...                ...       ...  \n",
       "365       120               0.00         0  \n",
       "366       107               0.00         0  \n",
       "367        97               0.00         0  \n",
       "368        43               0.00         0  \n",
       "369        50               0.00         0  \n",
       "\n",
       "[370 rows x 15 columns]"
      ]
     },
     "execution_count": 4,
     "metadata": {},
     "output_type": "execute_result"
    }
   ],
   "source": [
    "# Drop irrelevant columns, and replace all missing data with np.nan\n",
    "\n",
    "relevant_columns = [\n",
    "    'Activity Type', 'Date', 'Title', 'Distance', 'Calories', 'Time', 'Avg HR', \n",
    "    'Max HR', 'Aerobic TE', 'Avg Run Cadence', 'Avg Pace', 'Elev Gain', \n",
    "    'Elev Loss', 'Avg Stride Length', 'Min Temp'\n",
    "]\n",
    "\n",
    "df = df[relevant_columns]\n",
    "\n",
    "df = df.applymap(lambda x: np.nan if x == '--' else x)\n",
    "\n",
    "df"
   ]
  },
  {
   "cell_type": "code",
   "execution_count": 5,
   "metadata": {},
   "outputs": [
    {
     "data": {
      "text/plain": [
       "Activity Type         object\n",
       "Date                  object\n",
       "Title                 object\n",
       "Distance             float64\n",
       "Calories              object\n",
       "Time                  object\n",
       "Avg HR                object\n",
       "Max HR                object\n",
       "Aerobic TE            object\n",
       "Avg Run Cadence       object\n",
       "Avg Pace              object\n",
       "Elev Gain             object\n",
       "Elev Loss             object\n",
       "Avg Stride Length    float64\n",
       "Min Temp               int64\n",
       "dtype: object"
      ]
     },
     "execution_count": 5,
     "metadata": {},
     "output_type": "execute_result"
    }
   ],
   "source": [
    "df.dtypes"
   ]
  },
  {
   "cell_type": "code",
   "execution_count": 47,
   "metadata": {},
   "outputs": [
    {
     "data": {
      "text/plain": [
       "Activity Type               category\n",
       "Date                  datetime64[ns]\n",
       "Title                       category\n",
       "Distance                     float64\n",
       "Calories                     float64\n",
       "Time                 timedelta64[ns]\n",
       "Avg HR                       float64\n",
       "Max HR                       float64\n",
       "Aerobic TE                   float64\n",
       "Avg Run Cadence              float64\n",
       "Avg Pace                      object\n",
       "Elev Gain                    float64\n",
       "Elev Loss                    float64\n",
       "Avg Stride Length            float64\n",
       "Min Temp                       int64\n",
       "dtype: object"
      ]
     },
     "execution_count": 47,
     "metadata": {},
     "output_type": "execute_result"
    }
   ],
   "source": [
    "# Change column types\n",
    "\n",
    "col_types = {\n",
    "    'Activity Type': 'category',\n",
    "    'Title': 'category',\n",
    "    'Calories': 'float64',\n",
    "    'Avg HR': 'float64',\n",
    "    'Max HR': 'float64',\n",
    "    'Aerobic TE': 'float64',\n",
    "    'Avg Run Cadence': 'float64',\n",
    "    'Elev Gain': 'float64',\n",
    "    'Elev Loss': 'float64'\n",
    "}\n",
    "\n",
    "df = df.astype(col_types)\n",
    "\n",
    "df.Date = pd.to_datetime(df.Date)\n",
    "\n",
    "df['Time'] = pd.to_timedelta(df['Time'])\n",
    "\n",
    "# df.Calories = df.Calories.astype('Int64')\n",
    "# df['Avg HR'] = df['Avg HR'].astype('Int64')\n",
    "# df['Max HR'] = df['Max HR'].astype('Int64')\n",
    "# df['Avg Run Cadence'] = df['Avg Run Cadence'].astype('Int64')\n",
    "# df['Elev Gain'] = df['Elev Gain'].astype('Int64')\n",
    "# df['Elev Loss'] = df['Elev Loss'].astype('Int64')\n",
    "\n",
    "df.dtypes"
   ]
  },
  {
   "cell_type": "code",
   "execution_count": 48,
   "metadata": {},
   "outputs": [
    {
     "data": {
      "text/plain": [
       "{'Cycling',\n",
       " 'Hiking',\n",
       " 'Indoor Cycling',\n",
       " 'Indoor Running',\n",
       " 'Other',\n",
       " 'Running',\n",
       " 'Treadmill Running'}"
      ]
     },
     "execution_count": 48,
     "metadata": {},
     "output_type": "execute_result"
    }
   ],
   "source": [
    "set(df['Activity Type'])"
   ]
  },
  {
   "cell_type": "code",
   "execution_count": 49,
   "metadata": {},
   "outputs": [
    {
     "data": {
      "text/html": [
       "<div>\n",
       "<style scoped>\n",
       "    .dataframe tbody tr th:only-of-type {\n",
       "        vertical-align: middle;\n",
       "    }\n",
       "\n",
       "    .dataframe tbody tr th {\n",
       "        vertical-align: top;\n",
       "    }\n",
       "\n",
       "    .dataframe thead th {\n",
       "        text-align: right;\n",
       "    }\n",
       "</style>\n",
       "<table border=\"1\" class=\"dataframe\">\n",
       "  <thead>\n",
       "    <tr style=\"text-align: right;\">\n",
       "      <th></th>\n",
       "      <th>Activity Type</th>\n",
       "      <th>Date</th>\n",
       "      <th>Title</th>\n",
       "      <th>Distance</th>\n",
       "      <th>Calories</th>\n",
       "      <th>Time</th>\n",
       "      <th>Avg HR</th>\n",
       "      <th>Max HR</th>\n",
       "      <th>Aerobic TE</th>\n",
       "      <th>Avg Run Cadence</th>\n",
       "      <th>Avg Pace</th>\n",
       "      <th>Elev Gain</th>\n",
       "      <th>Elev Loss</th>\n",
       "      <th>Avg Stride Length</th>\n",
       "      <th>Min Temp</th>\n",
       "    </tr>\n",
       "  </thead>\n",
       "  <tbody>\n",
       "    <tr>\n",
       "      <th>0</th>\n",
       "      <td>Running</td>\n",
       "      <td>2020-10-01 23:42:43</td>\n",
       "      <td>West Coast</td>\n",
       "      <td>12.01</td>\n",
       "      <td>628.0</td>\n",
       "      <td>0 days 01:19:02</td>\n",
       "      <td>165.0</td>\n",
       "      <td>186.0</td>\n",
       "      <td>3.7</td>\n",
       "      <td>154.0</td>\n",
       "      <td>0 days 00:06:35</td>\n",
       "      <td>38.0</td>\n",
       "      <td>21.0</td>\n",
       "      <td>0.98</td>\n",
       "      <td>29</td>\n",
       "    </tr>\n",
       "    <tr>\n",
       "      <th>1</th>\n",
       "      <td>Running</td>\n",
       "      <td>2020-09-28 23:08:06</td>\n",
       "      <td>West Coast</td>\n",
       "      <td>12.01</td>\n",
       "      <td>674.0</td>\n",
       "      <td>0 days 01:22:05</td>\n",
       "      <td>170.0</td>\n",
       "      <td>184.0</td>\n",
       "      <td>3.9</td>\n",
       "      <td>153.0</td>\n",
       "      <td>0 days 00:06:50</td>\n",
       "      <td>30.0</td>\n",
       "      <td>28.0</td>\n",
       "      <td>0.95</td>\n",
       "      <td>30</td>\n",
       "    </tr>\n",
       "    <tr>\n",
       "      <th>2</th>\n",
       "      <td>Running</td>\n",
       "      <td>2020-09-24 23:40:59</td>\n",
       "      <td>West Coast</td>\n",
       "      <td>8.01</td>\n",
       "      <td>470.0</td>\n",
       "      <td>0 days 00:54:08</td>\n",
       "      <td>171.0</td>\n",
       "      <td>185.0</td>\n",
       "      <td>3.6</td>\n",
       "      <td>154.0</td>\n",
       "      <td>0 days 00:06:46</td>\n",
       "      <td>17.0</td>\n",
       "      <td>16.0</td>\n",
       "      <td>0.96</td>\n",
       "      <td>30</td>\n",
       "    </tr>\n",
       "    <tr>\n",
       "      <th>3</th>\n",
       "      <td>Running</td>\n",
       "      <td>2020-09-19 23:28:36</td>\n",
       "      <td>West Coast</td>\n",
       "      <td>2.05</td>\n",
       "      <td>97.0</td>\n",
       "      <td>0 days 00:10:11</td>\n",
       "      <td>171.0</td>\n",
       "      <td>193.0</td>\n",
       "      <td>2.5</td>\n",
       "      <td>168.0</td>\n",
       "      <td>0 days 00:04:58</td>\n",
       "      <td>8.0</td>\n",
       "      <td>8.0</td>\n",
       "      <td>1.20</td>\n",
       "      <td>30</td>\n",
       "    </tr>\n",
       "    <tr>\n",
       "      <th>4</th>\n",
       "      <td>Running</td>\n",
       "      <td>2020-09-16 23:22:58</td>\n",
       "      <td>West Coast</td>\n",
       "      <td>12.01</td>\n",
       "      <td>664.0</td>\n",
       "      <td>0 days 01:19:10</td>\n",
       "      <td>165.0</td>\n",
       "      <td>177.0</td>\n",
       "      <td>3.6</td>\n",
       "      <td>157.0</td>\n",
       "      <td>0 days 00:06:36</td>\n",
       "      <td>40.0</td>\n",
       "      <td>27.0</td>\n",
       "      <td>0.97</td>\n",
       "      <td>29</td>\n",
       "    </tr>\n",
       "    <tr>\n",
       "      <th>...</th>\n",
       "      <td>...</td>\n",
       "      <td>...</td>\n",
       "      <td>...</td>\n",
       "      <td>...</td>\n",
       "      <td>...</td>\n",
       "      <td>...</td>\n",
       "      <td>...</td>\n",
       "      <td>...</td>\n",
       "      <td>...</td>\n",
       "      <td>...</td>\n",
       "      <td>...</td>\n",
       "      <td>...</td>\n",
       "      <td>...</td>\n",
       "      <td>...</td>\n",
       "      <td>...</td>\n",
       "    </tr>\n",
       "    <tr>\n",
       "      <th>229</th>\n",
       "      <td>Running</td>\n",
       "      <td>2017-12-20 18:45:50</td>\n",
       "      <td>Marina Bay</td>\n",
       "      <td>3.95</td>\n",
       "      <td>NaN</td>\n",
       "      <td>0 days 00:23:55</td>\n",
       "      <td>178.0</td>\n",
       "      <td>194.0</td>\n",
       "      <td>NaN</td>\n",
       "      <td>NaN</td>\n",
       "      <td>0 days 00:06:03</td>\n",
       "      <td>89.0</td>\n",
       "      <td>120.0</td>\n",
       "      <td>0.00</td>\n",
       "      <td>0</td>\n",
       "    </tr>\n",
       "    <tr>\n",
       "      <th>230</th>\n",
       "      <td>Running</td>\n",
       "      <td>2017-12-08 18:20:38</td>\n",
       "      <td>Marina Bay</td>\n",
       "      <td>5.02</td>\n",
       "      <td>NaN</td>\n",
       "      <td>0 days 00:29:17</td>\n",
       "      <td>NaN</td>\n",
       "      <td>NaN</td>\n",
       "      <td>NaN</td>\n",
       "      <td>NaN</td>\n",
       "      <td>0 days 00:05:50</td>\n",
       "      <td>111.0</td>\n",
       "      <td>107.0</td>\n",
       "      <td>0.00</td>\n",
       "      <td>0</td>\n",
       "    </tr>\n",
       "    <tr>\n",
       "      <th>231</th>\n",
       "      <td>Running</td>\n",
       "      <td>2017-12-05 18:17:43</td>\n",
       "      <td>Marina Bay</td>\n",
       "      <td>4.61</td>\n",
       "      <td>NaN</td>\n",
       "      <td>0 days 00:28:19</td>\n",
       "      <td>NaN</td>\n",
       "      <td>NaN</td>\n",
       "      <td>NaN</td>\n",
       "      <td>NaN</td>\n",
       "      <td>0 days 00:06:08</td>\n",
       "      <td>69.0</td>\n",
       "      <td>97.0</td>\n",
       "      <td>0.00</td>\n",
       "      <td>0</td>\n",
       "    </tr>\n",
       "    <tr>\n",
       "      <th>232</th>\n",
       "      <td>Running</td>\n",
       "      <td>2017-11-30 18:16:51</td>\n",
       "      <td>Marina Bay</td>\n",
       "      <td>3.21</td>\n",
       "      <td>NaN</td>\n",
       "      <td>0 days 00:19:14</td>\n",
       "      <td>NaN</td>\n",
       "      <td>NaN</td>\n",
       "      <td>NaN</td>\n",
       "      <td>NaN</td>\n",
       "      <td>0 days 00:06:00</td>\n",
       "      <td>9.0</td>\n",
       "      <td>43.0</td>\n",
       "      <td>0.00</td>\n",
       "      <td>0</td>\n",
       "    </tr>\n",
       "    <tr>\n",
       "      <th>233</th>\n",
       "      <td>Running</td>\n",
       "      <td>2017-11-27 18:08:37</td>\n",
       "      <td>Marina Bay</td>\n",
       "      <td>3.01</td>\n",
       "      <td>NaN</td>\n",
       "      <td>0 days 00:18:18</td>\n",
       "      <td>NaN</td>\n",
       "      <td>NaN</td>\n",
       "      <td>NaN</td>\n",
       "      <td>NaN</td>\n",
       "      <td>0 days 00:06:05</td>\n",
       "      <td>45.0</td>\n",
       "      <td>50.0</td>\n",
       "      <td>0.00</td>\n",
       "      <td>0</td>\n",
       "    </tr>\n",
       "  </tbody>\n",
       "</table>\n",
       "<p>234 rows × 15 columns</p>\n",
       "</div>"
      ],
      "text/plain": [
       "    Activity Type                Date       Title  Distance  Calories  \\\n",
       "0         Running 2020-10-01 23:42:43  West Coast     12.01     628.0   \n",
       "1         Running 2020-09-28 23:08:06  West Coast     12.01     674.0   \n",
       "2         Running 2020-09-24 23:40:59  West Coast      8.01     470.0   \n",
       "3         Running 2020-09-19 23:28:36  West Coast      2.05      97.0   \n",
       "4         Running 2020-09-16 23:22:58  West Coast     12.01     664.0   \n",
       "..            ...                 ...         ...       ...       ...   \n",
       "229       Running 2017-12-20 18:45:50  Marina Bay      3.95       NaN   \n",
       "230       Running 2017-12-08 18:20:38  Marina Bay      5.02       NaN   \n",
       "231       Running 2017-12-05 18:17:43  Marina Bay      4.61       NaN   \n",
       "232       Running 2017-11-30 18:16:51  Marina Bay      3.21       NaN   \n",
       "233       Running 2017-11-27 18:08:37  Marina Bay      3.01       NaN   \n",
       "\n",
       "               Time  Avg HR  Max HR  Aerobic TE  Avg Run Cadence  \\\n",
       "0   0 days 01:19:02   165.0   186.0         3.7            154.0   \n",
       "1   0 days 01:22:05   170.0   184.0         3.9            153.0   \n",
       "2   0 days 00:54:08   171.0   185.0         3.6            154.0   \n",
       "3   0 days 00:10:11   171.0   193.0         2.5            168.0   \n",
       "4   0 days 01:19:10   165.0   177.0         3.6            157.0   \n",
       "..              ...     ...     ...         ...              ...   \n",
       "229 0 days 00:23:55   178.0   194.0         NaN              NaN   \n",
       "230 0 days 00:29:17     NaN     NaN         NaN              NaN   \n",
       "231 0 days 00:28:19     NaN     NaN         NaN              NaN   \n",
       "232 0 days 00:19:14     NaN     NaN         NaN              NaN   \n",
       "233 0 days 00:18:18     NaN     NaN         NaN              NaN   \n",
       "\n",
       "           Avg Pace  Elev Gain  Elev Loss  Avg Stride Length  Min Temp  \n",
       "0   0 days 00:06:35       38.0       21.0               0.98        29  \n",
       "1   0 days 00:06:50       30.0       28.0               0.95        30  \n",
       "2   0 days 00:06:46       17.0       16.0               0.96        30  \n",
       "3   0 days 00:04:58        8.0        8.0               1.20        30  \n",
       "4   0 days 00:06:36       40.0       27.0               0.97        29  \n",
       "..              ...        ...        ...                ...       ...  \n",
       "229 0 days 00:06:03       89.0      120.0               0.00         0  \n",
       "230 0 days 00:05:50      111.0      107.0               0.00         0  \n",
       "231 0 days 00:06:08       69.0       97.0               0.00         0  \n",
       "232 0 days 00:06:00        9.0       43.0               0.00         0  \n",
       "233 0 days 00:06:05       45.0       50.0               0.00         0  \n",
       "\n",
       "[234 rows x 15 columns]"
      ]
     },
     "execution_count": 49,
     "metadata": {},
     "output_type": "execute_result"
    }
   ],
   "source": [
    "running_df = df[df['Activity Type'].isin(['Indoor Running', 'Running', 'Treadmill Running'])].reset_index(drop=True)\n",
    "\n",
    "running_df['Avg Pace'] = pd.to_timedelta(running_df['Avg Pace'])\n",
    "\n",
    "running_df"
   ]
  },
  {
   "cell_type": "code",
   "execution_count": 52,
   "metadata": {},
   "outputs": [
    {
     "data": {
      "application/vnd.plotly.v1+json": {
       "config": {
        "plotlyServerURL": "https://plot.ly"
       },
       "data": [
        {
         "hovertemplate": "Distance=%{x}<br>Avg Pace=%{y}<extra></extra>",
         "legendgroup": "",
         "marker": {
          "color": "#636efa",
          "symbol": "circle"
         },
         "mode": "markers",
         "name": "",
         "orientation": "h",
         "showlegend": false,
         "type": "scatter",
         "x": [
          12.01,
          12.01,
          8.01,
          2.05,
          12.01,
          7.01,
          4.71,
          12.01,
          8.8,
          7.52,
          4.01,
          10.01,
          3.51,
          9.01,
          5.01,
          12.01,
          10,
          4.9,
          5.01,
          7.01,
          5.01,
          3.01,
          7.01,
          3.33,
          5.33,
          4.01,
          2.01,
          4.01,
          3.21,
          5.01,
          3.01,
          4.01,
          3.33,
          3.36,
          2.3,
          2.01,
          4.01,
          3.25,
          2.7,
          4.01,
          3.01,
          7.01,
          4.51,
          3.75,
          5.21,
          3.01,
          5.51,
          4.26,
          3.26,
          7.63,
          4.6,
          3.51,
          7.01,
          7.25,
          7.51,
          4.01,
          7.34,
          7.29,
          7.52,
          4.01,
          3.51,
          10.01,
          7.01,
          7.01,
          8.01,
          7.01,
          4.51,
          12.01,
          8.01,
          7.01,
          5.02,
          12,
          6.01,
          12.01,
          3.01,
          5.01,
          11.25,
          6.01,
          6.01,
          7.01,
          3.31,
          10.01,
          4.15,
          5.01,
          8.15,
          5,
          7.01,
          7,
          2.15,
          8.01,
          6.01,
          5,
          5.01,
          3.01,
          5,
          5.01,
          2.21,
          4.7,
          2.44,
          2.4,
          3.7,
          4.01,
          2.01,
          2.01,
          4.01,
          6.01,
          2.01,
          4,
          3.3,
          1,
          3.5,
          4.5,
          2.01,
          5.01,
          5.07,
          1,
          4,
          2,
          3.25,
          2,
          4.01,
          2.01,
          5,
          2.01,
          3,
          2.22,
          1,
          3.01,
          4.01,
          3.02,
          5.01,
          2.41,
          5.01,
          4.01,
          6,
          4.21,
          3,
          2.25,
          11.01,
          6.02,
          3.02,
          0.53,
          3.19,
          5.89,
          2.66,
          3.05,
          2.01,
          2,
          3.13,
          2,
          3.02,
          3,
          2.41,
          2.01,
          4.15,
          3.5,
          4.01,
          2.74,
          5.01,
          2.36,
          5.25,
          3.01,
          8.01,
          3.01,
          5.01,
          2.4,
          1.61,
          6,
          2.4,
          5.01,
          3.45,
          2.42,
          4.01,
          3,
          5.01,
          2.4,
          3.56,
          2.01,
          5,
          4.36,
          3.01,
          2.41,
          1.28,
          3.14,
          2.2,
          3.02,
          1.19,
          3.31,
          5.01,
          2.01,
          15.07,
          2.91,
          2.01,
          7.01,
          3.03,
          3.21,
          4.01,
          0.41,
          3.59,
          0.4,
          0.41,
          0.54,
          3.13,
          7.51,
          1.01,
          4.01,
          3.01,
          1.12,
          1.11,
          2.01,
          5.01,
          2.41,
          2.01,
          10.01,
          2.01,
          1.01,
          4.01,
          1.01,
          1.11,
          4.92,
          3.04,
          5.12,
          2.34,
          1.13,
          3.14,
          8.18,
          5.07,
          5.08,
          4.96,
          3.95,
          5.02,
          4.61,
          3.21,
          3.01
         ],
         "xaxis": "x",
         "y": [
          395000000000,
          410000000000,
          406000000000,
          298000000000,
          396000000000,
          390000000000,
          348000000000,
          412000000000,
          405000000000,
          391000000000,
          342000000000,
          413000000000,
          350000000000,
          406000000000,
          346000000000,
          417000000000,
          411000000000,
          415000000000,
          373000000000,
          418000000000,
          387000000000,
          387000000000,
          416000000000,
          417000000000,
          411000000000,
          382000000000,
          355000000000,
          416000000000,
          386000000000,
          413000000000,
          389000000000,
          418000000000,
          425000000000,
          439000000000,
          379000000000,
          404000000000,
          395000000000,
          388000000000,
          390000000000,
          419000000000,
          386000000000,
          418000000000,
          355000000000,
          356000000000,
          377000000000,
          326000000000,
          359000000000,
          331000000000,
          324000000000,
          331000000000,
          341000000000,
          343000000000,
          360000000000,
          410000000000,
          349000000000,
          347000000000,
          378000000000,
          365000000000,
          379000000000,
          355000000000,
          348000000000,
          412000000000,
          389000000000,
          416000000000,
          395000000000,
          392000000000,
          326000000000,
          400000000000,
          399000000000,
          403000000000,
          317000000000,
          411000000000,
          345000000000,
          416000000000,
          354000000000,
          353000000000,
          414000000000,
          389000000000,
          355000000000,
          417000000000,
          342000000000,
          420000000000,
          412000000000,
          378000000000,
          414000000000,
          379000000000,
          427000000000,
          390000000000,
          327000000000,
          390000000000,
          360000000000,
          329000000000,
          357000000000,
          297000000000,
          338000000000,
          347000000000,
          333000000000,
          352000000000,
          286000000000,
          359000000000,
          335000000000,
          354000000000,
          281000000000,
          334000000000,
          358000000000,
          360000000000,
          393000000000,
          336000000000,
          329000000000,
          293000000000,
          319000000000,
          353000000000,
          314000000000,
          358000000000,
          341000000000,
          299000000000,
          330000000000,
          297000000000,
          342000000000,
          328000000000,
          348000000000,
          343000000000,
          354000000000,
          351000000000,
          326000000000,
          330000000000,
          302000000000,
          325000000000,
          354000000000,
          334000000000,
          353000000000,
          323000000000,
          330000000000,
          358000000000,
          353000000000,
          358000000000,
          337000000000,
          328000000000,
          437000000000,
          348000000000,
          356000000000,
          316000000000,
          376000000000,
          352000000000,
          328000000000,
          462000000000,
          333000000000,
          345000000000,
          478000000000,
          313000000000,
          336000000000,
          326000000000,
          334000000000,
          295000000000,
          342000000000,
          360000000000,
          325000000000,
          300000000000,
          360000000000,
          285000000000,
          320000000000,
          282000000000,
          326000000000,
          288000000000,
          346000000000,
          274000000000,
          315000000000,
          325000000000,
          291000000000,
          359000000000,
          334000000000,
          300000000000,
          311000000000,
          295000000000,
          323000000000,
          279000000000,
          335000000000,
          348000000000,
          390000000000,
          336000000000,
          335000000000,
          403000000000,
          332000000000,
          347000000000,
          331000000000,
          297000000000,
          336000000000,
          399000000000,
          292000000000,
          293000000000,
          357000000000,
          340000000000,
          296000000000,
          328000000000,
          313000000000,
          292000000000,
          304000000000,
          213000000000,
          300000000000,
          258000000000,
          251000000000,
          266000000000,
          299000000000,
          326000000000,
          261000000000,
          306000000000,
          298000000000,
          278000000000,
          299000000000,
          282000000000,
          312000000000,
          287000000000,
          317000000000,
          334000000000,
          290000000000,
          266000000000,
          326000000000,
          285000000000,
          327000000000,
          310000000000,
          309000000000,
          323000000000,
          333000000000,
          359000000000,
          350000000000,
          476000000000,
          348000000000,
          356000000000,
          354000000000,
          363000000000,
          350000000000,
          368000000000,
          360000000000,
          365000000000
         ],
         "yaxis": "y"
        }
       ],
       "layout": {
        "legend": {
         "tracegroupgap": 0
        },
        "margin": {
         "t": 60
        },
        "template": {
         "data": {
          "bar": [
           {
            "error_x": {
             "color": "#2a3f5f"
            },
            "error_y": {
             "color": "#2a3f5f"
            },
            "marker": {
             "line": {
              "color": "#E5ECF6",
              "width": 0.5
             }
            },
            "type": "bar"
           }
          ],
          "barpolar": [
           {
            "marker": {
             "line": {
              "color": "#E5ECF6",
              "width": 0.5
             }
            },
            "type": "barpolar"
           }
          ],
          "carpet": [
           {
            "aaxis": {
             "endlinecolor": "#2a3f5f",
             "gridcolor": "white",
             "linecolor": "white",
             "minorgridcolor": "white",
             "startlinecolor": "#2a3f5f"
            },
            "baxis": {
             "endlinecolor": "#2a3f5f",
             "gridcolor": "white",
             "linecolor": "white",
             "minorgridcolor": "white",
             "startlinecolor": "#2a3f5f"
            },
            "type": "carpet"
           }
          ],
          "choropleth": [
           {
            "colorbar": {
             "outlinewidth": 0,
             "ticks": ""
            },
            "type": "choropleth"
           }
          ],
          "contour": [
           {
            "colorbar": {
             "outlinewidth": 0,
             "ticks": ""
            },
            "colorscale": [
             [
              0,
              "#0d0887"
             ],
             [
              0.1111111111111111,
              "#46039f"
             ],
             [
              0.2222222222222222,
              "#7201a8"
             ],
             [
              0.3333333333333333,
              "#9c179e"
             ],
             [
              0.4444444444444444,
              "#bd3786"
             ],
             [
              0.5555555555555556,
              "#d8576b"
             ],
             [
              0.6666666666666666,
              "#ed7953"
             ],
             [
              0.7777777777777778,
              "#fb9f3a"
             ],
             [
              0.8888888888888888,
              "#fdca26"
             ],
             [
              1,
              "#f0f921"
             ]
            ],
            "type": "contour"
           }
          ],
          "contourcarpet": [
           {
            "colorbar": {
             "outlinewidth": 0,
             "ticks": ""
            },
            "type": "contourcarpet"
           }
          ],
          "heatmap": [
           {
            "colorbar": {
             "outlinewidth": 0,
             "ticks": ""
            },
            "colorscale": [
             [
              0,
              "#0d0887"
             ],
             [
              0.1111111111111111,
              "#46039f"
             ],
             [
              0.2222222222222222,
              "#7201a8"
             ],
             [
              0.3333333333333333,
              "#9c179e"
             ],
             [
              0.4444444444444444,
              "#bd3786"
             ],
             [
              0.5555555555555556,
              "#d8576b"
             ],
             [
              0.6666666666666666,
              "#ed7953"
             ],
             [
              0.7777777777777778,
              "#fb9f3a"
             ],
             [
              0.8888888888888888,
              "#fdca26"
             ],
             [
              1,
              "#f0f921"
             ]
            ],
            "type": "heatmap"
           }
          ],
          "heatmapgl": [
           {
            "colorbar": {
             "outlinewidth": 0,
             "ticks": ""
            },
            "colorscale": [
             [
              0,
              "#0d0887"
             ],
             [
              0.1111111111111111,
              "#46039f"
             ],
             [
              0.2222222222222222,
              "#7201a8"
             ],
             [
              0.3333333333333333,
              "#9c179e"
             ],
             [
              0.4444444444444444,
              "#bd3786"
             ],
             [
              0.5555555555555556,
              "#d8576b"
             ],
             [
              0.6666666666666666,
              "#ed7953"
             ],
             [
              0.7777777777777778,
              "#fb9f3a"
             ],
             [
              0.8888888888888888,
              "#fdca26"
             ],
             [
              1,
              "#f0f921"
             ]
            ],
            "type": "heatmapgl"
           }
          ],
          "histogram": [
           {
            "marker": {
             "colorbar": {
              "outlinewidth": 0,
              "ticks": ""
             }
            },
            "type": "histogram"
           }
          ],
          "histogram2d": [
           {
            "colorbar": {
             "outlinewidth": 0,
             "ticks": ""
            },
            "colorscale": [
             [
              0,
              "#0d0887"
             ],
             [
              0.1111111111111111,
              "#46039f"
             ],
             [
              0.2222222222222222,
              "#7201a8"
             ],
             [
              0.3333333333333333,
              "#9c179e"
             ],
             [
              0.4444444444444444,
              "#bd3786"
             ],
             [
              0.5555555555555556,
              "#d8576b"
             ],
             [
              0.6666666666666666,
              "#ed7953"
             ],
             [
              0.7777777777777778,
              "#fb9f3a"
             ],
             [
              0.8888888888888888,
              "#fdca26"
             ],
             [
              1,
              "#f0f921"
             ]
            ],
            "type": "histogram2d"
           }
          ],
          "histogram2dcontour": [
           {
            "colorbar": {
             "outlinewidth": 0,
             "ticks": ""
            },
            "colorscale": [
             [
              0,
              "#0d0887"
             ],
             [
              0.1111111111111111,
              "#46039f"
             ],
             [
              0.2222222222222222,
              "#7201a8"
             ],
             [
              0.3333333333333333,
              "#9c179e"
             ],
             [
              0.4444444444444444,
              "#bd3786"
             ],
             [
              0.5555555555555556,
              "#d8576b"
             ],
             [
              0.6666666666666666,
              "#ed7953"
             ],
             [
              0.7777777777777778,
              "#fb9f3a"
             ],
             [
              0.8888888888888888,
              "#fdca26"
             ],
             [
              1,
              "#f0f921"
             ]
            ],
            "type": "histogram2dcontour"
           }
          ],
          "mesh3d": [
           {
            "colorbar": {
             "outlinewidth": 0,
             "ticks": ""
            },
            "type": "mesh3d"
           }
          ],
          "parcoords": [
           {
            "line": {
             "colorbar": {
              "outlinewidth": 0,
              "ticks": ""
             }
            },
            "type": "parcoords"
           }
          ],
          "pie": [
           {
            "automargin": true,
            "type": "pie"
           }
          ],
          "scatter": [
           {
            "marker": {
             "colorbar": {
              "outlinewidth": 0,
              "ticks": ""
             }
            },
            "type": "scatter"
           }
          ],
          "scatter3d": [
           {
            "line": {
             "colorbar": {
              "outlinewidth": 0,
              "ticks": ""
             }
            },
            "marker": {
             "colorbar": {
              "outlinewidth": 0,
              "ticks": ""
             }
            },
            "type": "scatter3d"
           }
          ],
          "scattercarpet": [
           {
            "marker": {
             "colorbar": {
              "outlinewidth": 0,
              "ticks": ""
             }
            },
            "type": "scattercarpet"
           }
          ],
          "scattergeo": [
           {
            "marker": {
             "colorbar": {
              "outlinewidth": 0,
              "ticks": ""
             }
            },
            "type": "scattergeo"
           }
          ],
          "scattergl": [
           {
            "marker": {
             "colorbar": {
              "outlinewidth": 0,
              "ticks": ""
             }
            },
            "type": "scattergl"
           }
          ],
          "scattermapbox": [
           {
            "marker": {
             "colorbar": {
              "outlinewidth": 0,
              "ticks": ""
             }
            },
            "type": "scattermapbox"
           }
          ],
          "scatterpolar": [
           {
            "marker": {
             "colorbar": {
              "outlinewidth": 0,
              "ticks": ""
             }
            },
            "type": "scatterpolar"
           }
          ],
          "scatterpolargl": [
           {
            "marker": {
             "colorbar": {
              "outlinewidth": 0,
              "ticks": ""
             }
            },
            "type": "scatterpolargl"
           }
          ],
          "scatterternary": [
           {
            "marker": {
             "colorbar": {
              "outlinewidth": 0,
              "ticks": ""
             }
            },
            "type": "scatterternary"
           }
          ],
          "surface": [
           {
            "colorbar": {
             "outlinewidth": 0,
             "ticks": ""
            },
            "colorscale": [
             [
              0,
              "#0d0887"
             ],
             [
              0.1111111111111111,
              "#46039f"
             ],
             [
              0.2222222222222222,
              "#7201a8"
             ],
             [
              0.3333333333333333,
              "#9c179e"
             ],
             [
              0.4444444444444444,
              "#bd3786"
             ],
             [
              0.5555555555555556,
              "#d8576b"
             ],
             [
              0.6666666666666666,
              "#ed7953"
             ],
             [
              0.7777777777777778,
              "#fb9f3a"
             ],
             [
              0.8888888888888888,
              "#fdca26"
             ],
             [
              1,
              "#f0f921"
             ]
            ],
            "type": "surface"
           }
          ],
          "table": [
           {
            "cells": {
             "fill": {
              "color": "#EBF0F8"
             },
             "line": {
              "color": "white"
             }
            },
            "header": {
             "fill": {
              "color": "#C8D4E3"
             },
             "line": {
              "color": "white"
             }
            },
            "type": "table"
           }
          ]
         },
         "layout": {
          "annotationdefaults": {
           "arrowcolor": "#2a3f5f",
           "arrowhead": 0,
           "arrowwidth": 1
          },
          "coloraxis": {
           "colorbar": {
            "outlinewidth": 0,
            "ticks": ""
           }
          },
          "colorscale": {
           "diverging": [
            [
             0,
             "#8e0152"
            ],
            [
             0.1,
             "#c51b7d"
            ],
            [
             0.2,
             "#de77ae"
            ],
            [
             0.3,
             "#f1b6da"
            ],
            [
             0.4,
             "#fde0ef"
            ],
            [
             0.5,
             "#f7f7f7"
            ],
            [
             0.6,
             "#e6f5d0"
            ],
            [
             0.7,
             "#b8e186"
            ],
            [
             0.8,
             "#7fbc41"
            ],
            [
             0.9,
             "#4d9221"
            ],
            [
             1,
             "#276419"
            ]
           ],
           "sequential": [
            [
             0,
             "#0d0887"
            ],
            [
             0.1111111111111111,
             "#46039f"
            ],
            [
             0.2222222222222222,
             "#7201a8"
            ],
            [
             0.3333333333333333,
             "#9c179e"
            ],
            [
             0.4444444444444444,
             "#bd3786"
            ],
            [
             0.5555555555555556,
             "#d8576b"
            ],
            [
             0.6666666666666666,
             "#ed7953"
            ],
            [
             0.7777777777777778,
             "#fb9f3a"
            ],
            [
             0.8888888888888888,
             "#fdca26"
            ],
            [
             1,
             "#f0f921"
            ]
           ],
           "sequentialminus": [
            [
             0,
             "#0d0887"
            ],
            [
             0.1111111111111111,
             "#46039f"
            ],
            [
             0.2222222222222222,
             "#7201a8"
            ],
            [
             0.3333333333333333,
             "#9c179e"
            ],
            [
             0.4444444444444444,
             "#bd3786"
            ],
            [
             0.5555555555555556,
             "#d8576b"
            ],
            [
             0.6666666666666666,
             "#ed7953"
            ],
            [
             0.7777777777777778,
             "#fb9f3a"
            ],
            [
             0.8888888888888888,
             "#fdca26"
            ],
            [
             1,
             "#f0f921"
            ]
           ]
          },
          "colorway": [
           "#636efa",
           "#EF553B",
           "#00cc96",
           "#ab63fa",
           "#FFA15A",
           "#19d3f3",
           "#FF6692",
           "#B6E880",
           "#FF97FF",
           "#FECB52"
          ],
          "font": {
           "color": "#2a3f5f"
          },
          "geo": {
           "bgcolor": "white",
           "lakecolor": "white",
           "landcolor": "#E5ECF6",
           "showlakes": true,
           "showland": true,
           "subunitcolor": "white"
          },
          "hoverlabel": {
           "align": "left"
          },
          "hovermode": "closest",
          "mapbox": {
           "style": "light"
          },
          "paper_bgcolor": "white",
          "plot_bgcolor": "#E5ECF6",
          "polar": {
           "angularaxis": {
            "gridcolor": "white",
            "linecolor": "white",
            "ticks": ""
           },
           "bgcolor": "#E5ECF6",
           "radialaxis": {
            "gridcolor": "white",
            "linecolor": "white",
            "ticks": ""
           }
          },
          "scene": {
           "xaxis": {
            "backgroundcolor": "#E5ECF6",
            "gridcolor": "white",
            "gridwidth": 2,
            "linecolor": "white",
            "showbackground": true,
            "ticks": "",
            "zerolinecolor": "white"
           },
           "yaxis": {
            "backgroundcolor": "#E5ECF6",
            "gridcolor": "white",
            "gridwidth": 2,
            "linecolor": "white",
            "showbackground": true,
            "ticks": "",
            "zerolinecolor": "white"
           },
           "zaxis": {
            "backgroundcolor": "#E5ECF6",
            "gridcolor": "white",
            "gridwidth": 2,
            "linecolor": "white",
            "showbackground": true,
            "ticks": "",
            "zerolinecolor": "white"
           }
          },
          "shapedefaults": {
           "line": {
            "color": "#2a3f5f"
           }
          },
          "ternary": {
           "aaxis": {
            "gridcolor": "white",
            "linecolor": "white",
            "ticks": ""
           },
           "baxis": {
            "gridcolor": "white",
            "linecolor": "white",
            "ticks": ""
           },
           "bgcolor": "#E5ECF6",
           "caxis": {
            "gridcolor": "white",
            "linecolor": "white",
            "ticks": ""
           }
          },
          "title": {
           "x": 0.05
          },
          "xaxis": {
           "automargin": true,
           "gridcolor": "white",
           "linecolor": "white",
           "ticks": "",
           "title": {
            "standoff": 15
           },
           "zerolinecolor": "white",
           "zerolinewidth": 2
          },
          "yaxis": {
           "automargin": true,
           "gridcolor": "white",
           "linecolor": "white",
           "ticks": "",
           "title": {
            "standoff": 15
           },
           "zerolinecolor": "white",
           "zerolinewidth": 2
          }
         }
        },
        "xaxis": {
         "anchor": "y",
         "domain": [
          0,
          1
         ],
         "title": {
          "text": "Distance"
         }
        },
        "yaxis": {
         "anchor": "x",
         "domain": [
          0,
          1
         ],
         "title": {
          "text": "Avg Pace"
         }
        }
       }
      },
      "text/html": [
       "<div>                            <div id=\"77bd4d6f-ca54-4ba4-99c0-3ad80622a395\" class=\"plotly-graph-div\" style=\"height:525px; width:100%;\"></div>            <script type=\"text/javascript\">                require([\"plotly\"], function(Plotly) {                    window.PLOTLYENV=window.PLOTLYENV || {};                                    if (document.getElementById(\"77bd4d6f-ca54-4ba4-99c0-3ad80622a395\")) {                    Plotly.newPlot(                        \"77bd4d6f-ca54-4ba4-99c0-3ad80622a395\",                        [{\"hovertemplate\": \"Distance=%{x}<br>Avg Pace=%{y}<extra></extra>\", \"legendgroup\": \"\", \"marker\": {\"color\": \"#636efa\", \"symbol\": \"circle\"}, \"mode\": \"markers\", \"name\": \"\", \"orientation\": \"h\", \"showlegend\": false, \"type\": \"scatter\", \"x\": [12.01, 12.01, 8.01, 2.05, 12.01, 7.01, 4.71, 12.01, 8.8, 7.52, 4.01, 10.01, 3.51, 9.01, 5.01, 12.01, 10.0, 4.9, 5.01, 7.01, 5.01, 3.01, 7.01, 3.33, 5.33, 4.01, 2.01, 4.01, 3.21, 5.01, 3.01, 4.01, 3.33, 3.36, 2.3, 2.01, 4.01, 3.25, 2.7, 4.01, 3.01, 7.01, 4.51, 3.75, 5.21, 3.01, 5.51, 4.26, 3.26, 7.63, 4.6, 3.51, 7.01, 7.25, 7.51, 4.01, 7.34, 7.29, 7.52, 4.01, 3.51, 10.01, 7.01, 7.01, 8.01, 7.01, 4.51, 12.01, 8.01, 7.01, 5.02, 12.0, 6.01, 12.01, 3.01, 5.01, 11.25, 6.01, 6.01, 7.01, 3.31, 10.01, 4.15, 5.01, 8.15, 5.0, 7.01, 7.0, 2.15, 8.01, 6.01, 5.0, 5.01, 3.01, 5.0, 5.01, 2.21, 4.7, 2.44, 2.4, 3.7, 4.01, 2.01, 2.01, 4.01, 6.01, 2.01, 4.0, 3.3, 1.0, 3.5, 4.5, 2.01, 5.01, 5.07, 1.0, 4.0, 2.0, 3.25, 2.0, 4.01, 2.01, 5.0, 2.01, 3.0, 2.22, 1.0, 3.01, 4.01, 3.02, 5.01, 2.41, 5.01, 4.01, 6.0, 4.21, 3.0, 2.25, 11.01, 6.02, 3.02, 0.53, 3.19, 5.89, 2.66, 3.05, 2.01, 2.0, 3.13, 2.0, 3.02, 3.0, 2.41, 2.01, 4.15, 3.5, 4.01, 2.74, 5.01, 2.36, 5.25, 3.01, 8.01, 3.01, 5.01, 2.4, 1.61, 6.0, 2.4, 5.01, 3.45, 2.42, 4.01, 3.0, 5.01, 2.4, 3.56, 2.01, 5.0, 4.36, 3.01, 2.41, 1.28, 3.14, 2.2, 3.02, 1.19, 3.31, 5.01, 2.01, 15.07, 2.91, 2.01, 7.01, 3.03, 3.21, 4.01, 0.41, 3.59, 0.4, 0.41, 0.54, 3.13, 7.51, 1.01, 4.01, 3.01, 1.12, 1.11, 2.01, 5.01, 2.41, 2.01, 10.01, 2.01, 1.01, 4.01, 1.01, 1.11, 4.92, 3.04, 5.12, 2.34, 1.13, 3.14, 8.18, 5.07, 5.08, 4.96, 3.95, 5.02, 4.61, 3.21, 3.01], \"xaxis\": \"x\", \"y\": [395000000000, 410000000000, 406000000000, 298000000000, 396000000000, 390000000000, 348000000000, 412000000000, 405000000000, 391000000000, 342000000000, 413000000000, 350000000000, 406000000000, 346000000000, 417000000000, 411000000000, 415000000000, 373000000000, 418000000000, 387000000000, 387000000000, 416000000000, 417000000000, 411000000000, 382000000000, 355000000000, 416000000000, 386000000000, 413000000000, 389000000000, 418000000000, 425000000000, 439000000000, 379000000000, 404000000000, 395000000000, 388000000000, 390000000000, 419000000000, 386000000000, 418000000000, 355000000000, 356000000000, 377000000000, 326000000000, 359000000000, 331000000000, 324000000000, 331000000000, 341000000000, 343000000000, 360000000000, 410000000000, 349000000000, 347000000000, 378000000000, 365000000000, 379000000000, 355000000000, 348000000000, 412000000000, 389000000000, 416000000000, 395000000000, 392000000000, 326000000000, 400000000000, 399000000000, 403000000000, 317000000000, 411000000000, 345000000000, 416000000000, 354000000000, 353000000000, 414000000000, 389000000000, 355000000000, 417000000000, 342000000000, 420000000000, 412000000000, 378000000000, 414000000000, 379000000000, 427000000000, 390000000000, 327000000000, 390000000000, 360000000000, 329000000000, 357000000000, 297000000000, 338000000000, 347000000000, 333000000000, 352000000000, 286000000000, 359000000000, 335000000000, 354000000000, 281000000000, 334000000000, 358000000000, 360000000000, 393000000000, 336000000000, 329000000000, 293000000000, 319000000000, 353000000000, 314000000000, 358000000000, 341000000000, 299000000000, 330000000000, 297000000000, 342000000000, 328000000000, 348000000000, 343000000000, 354000000000, 351000000000, 326000000000, 330000000000, 302000000000, 325000000000, 354000000000, 334000000000, 353000000000, 323000000000, 330000000000, 358000000000, 353000000000, 358000000000, 337000000000, 328000000000, 437000000000, 348000000000, 356000000000, 316000000000, 376000000000, 352000000000, 328000000000, 462000000000, 333000000000, 345000000000, 478000000000, 313000000000, 336000000000, 326000000000, 334000000000, 295000000000, 342000000000, 360000000000, 325000000000, 300000000000, 360000000000, 285000000000, 320000000000, 282000000000, 326000000000, 288000000000, 346000000000, 274000000000, 315000000000, 325000000000, 291000000000, 359000000000, 334000000000, 300000000000, 311000000000, 295000000000, 323000000000, 279000000000, 335000000000, 348000000000, 390000000000, 336000000000, 335000000000, 403000000000, 332000000000, 347000000000, 331000000000, 297000000000, 336000000000, 399000000000, 292000000000, 293000000000, 357000000000, 340000000000, 296000000000, 328000000000, 313000000000, 292000000000, 304000000000, 213000000000, 300000000000, 258000000000, 251000000000, 266000000000, 299000000000, 326000000000, 261000000000, 306000000000, 298000000000, 278000000000, 299000000000, 282000000000, 312000000000, 287000000000, 317000000000, 334000000000, 290000000000, 266000000000, 326000000000, 285000000000, 327000000000, 310000000000, 309000000000, 323000000000, 333000000000, 359000000000, 350000000000, 476000000000, 348000000000, 356000000000, 354000000000, 363000000000, 350000000000, 368000000000, 360000000000, 365000000000], \"yaxis\": \"y\"}],                        {\"legend\": {\"tracegroupgap\": 0}, \"margin\": {\"t\": 60}, \"template\": {\"data\": {\"bar\": [{\"error_x\": {\"color\": \"#2a3f5f\"}, \"error_y\": {\"color\": \"#2a3f5f\"}, \"marker\": {\"line\": {\"color\": \"#E5ECF6\", \"width\": 0.5}}, \"type\": \"bar\"}], \"barpolar\": [{\"marker\": {\"line\": {\"color\": \"#E5ECF6\", \"width\": 0.5}}, \"type\": \"barpolar\"}], \"carpet\": [{\"aaxis\": {\"endlinecolor\": \"#2a3f5f\", \"gridcolor\": \"white\", \"linecolor\": \"white\", \"minorgridcolor\": \"white\", \"startlinecolor\": \"#2a3f5f\"}, \"baxis\": {\"endlinecolor\": \"#2a3f5f\", \"gridcolor\": \"white\", \"linecolor\": \"white\", \"minorgridcolor\": \"white\", \"startlinecolor\": \"#2a3f5f\"}, \"type\": \"carpet\"}], \"choropleth\": [{\"colorbar\": {\"outlinewidth\": 0, \"ticks\": \"\"}, \"type\": \"choropleth\"}], \"contour\": [{\"colorbar\": {\"outlinewidth\": 0, \"ticks\": \"\"}, \"colorscale\": [[0.0, \"#0d0887\"], [0.1111111111111111, \"#46039f\"], [0.2222222222222222, \"#7201a8\"], [0.3333333333333333, \"#9c179e\"], [0.4444444444444444, \"#bd3786\"], [0.5555555555555556, \"#d8576b\"], [0.6666666666666666, \"#ed7953\"], [0.7777777777777778, \"#fb9f3a\"], [0.8888888888888888, \"#fdca26\"], [1.0, \"#f0f921\"]], \"type\": \"contour\"}], \"contourcarpet\": [{\"colorbar\": {\"outlinewidth\": 0, \"ticks\": \"\"}, \"type\": \"contourcarpet\"}], \"heatmap\": [{\"colorbar\": {\"outlinewidth\": 0, \"ticks\": \"\"}, \"colorscale\": [[0.0, \"#0d0887\"], [0.1111111111111111, \"#46039f\"], [0.2222222222222222, \"#7201a8\"], [0.3333333333333333, \"#9c179e\"], [0.4444444444444444, \"#bd3786\"], [0.5555555555555556, \"#d8576b\"], [0.6666666666666666, \"#ed7953\"], [0.7777777777777778, \"#fb9f3a\"], [0.8888888888888888, \"#fdca26\"], [1.0, \"#f0f921\"]], \"type\": \"heatmap\"}], \"heatmapgl\": [{\"colorbar\": {\"outlinewidth\": 0, \"ticks\": \"\"}, \"colorscale\": [[0.0, \"#0d0887\"], [0.1111111111111111, \"#46039f\"], [0.2222222222222222, \"#7201a8\"], [0.3333333333333333, \"#9c179e\"], [0.4444444444444444, \"#bd3786\"], [0.5555555555555556, \"#d8576b\"], [0.6666666666666666, \"#ed7953\"], [0.7777777777777778, \"#fb9f3a\"], [0.8888888888888888, \"#fdca26\"], [1.0, \"#f0f921\"]], \"type\": \"heatmapgl\"}], \"histogram\": [{\"marker\": {\"colorbar\": {\"outlinewidth\": 0, \"ticks\": \"\"}}, \"type\": \"histogram\"}], \"histogram2d\": [{\"colorbar\": {\"outlinewidth\": 0, \"ticks\": \"\"}, \"colorscale\": [[0.0, \"#0d0887\"], [0.1111111111111111, \"#46039f\"], [0.2222222222222222, \"#7201a8\"], [0.3333333333333333, \"#9c179e\"], [0.4444444444444444, \"#bd3786\"], [0.5555555555555556, \"#d8576b\"], [0.6666666666666666, \"#ed7953\"], [0.7777777777777778, \"#fb9f3a\"], [0.8888888888888888, \"#fdca26\"], [1.0, \"#f0f921\"]], \"type\": \"histogram2d\"}], \"histogram2dcontour\": [{\"colorbar\": {\"outlinewidth\": 0, \"ticks\": \"\"}, \"colorscale\": [[0.0, \"#0d0887\"], [0.1111111111111111, \"#46039f\"], [0.2222222222222222, \"#7201a8\"], [0.3333333333333333, \"#9c179e\"], [0.4444444444444444, \"#bd3786\"], [0.5555555555555556, \"#d8576b\"], [0.6666666666666666, \"#ed7953\"], [0.7777777777777778, \"#fb9f3a\"], [0.8888888888888888, \"#fdca26\"], [1.0, \"#f0f921\"]], \"type\": \"histogram2dcontour\"}], \"mesh3d\": [{\"colorbar\": {\"outlinewidth\": 0, \"ticks\": \"\"}, \"type\": \"mesh3d\"}], \"parcoords\": [{\"line\": {\"colorbar\": {\"outlinewidth\": 0, \"ticks\": \"\"}}, \"type\": \"parcoords\"}], \"pie\": [{\"automargin\": true, \"type\": \"pie\"}], \"scatter\": [{\"marker\": {\"colorbar\": {\"outlinewidth\": 0, \"ticks\": \"\"}}, \"type\": \"scatter\"}], \"scatter3d\": [{\"line\": {\"colorbar\": {\"outlinewidth\": 0, \"ticks\": \"\"}}, \"marker\": {\"colorbar\": {\"outlinewidth\": 0, \"ticks\": \"\"}}, \"type\": \"scatter3d\"}], \"scattercarpet\": [{\"marker\": {\"colorbar\": {\"outlinewidth\": 0, \"ticks\": \"\"}}, \"type\": \"scattercarpet\"}], \"scattergeo\": [{\"marker\": {\"colorbar\": {\"outlinewidth\": 0, \"ticks\": \"\"}}, \"type\": \"scattergeo\"}], \"scattergl\": [{\"marker\": {\"colorbar\": {\"outlinewidth\": 0, \"ticks\": \"\"}}, \"type\": \"scattergl\"}], \"scattermapbox\": [{\"marker\": {\"colorbar\": {\"outlinewidth\": 0, \"ticks\": \"\"}}, \"type\": \"scattermapbox\"}], \"scatterpolar\": [{\"marker\": {\"colorbar\": {\"outlinewidth\": 0, \"ticks\": \"\"}}, \"type\": \"scatterpolar\"}], \"scatterpolargl\": [{\"marker\": {\"colorbar\": {\"outlinewidth\": 0, \"ticks\": \"\"}}, \"type\": \"scatterpolargl\"}], \"scatterternary\": [{\"marker\": {\"colorbar\": {\"outlinewidth\": 0, \"ticks\": \"\"}}, \"type\": \"scatterternary\"}], \"surface\": [{\"colorbar\": {\"outlinewidth\": 0, \"ticks\": \"\"}, \"colorscale\": [[0.0, \"#0d0887\"], [0.1111111111111111, \"#46039f\"], [0.2222222222222222, \"#7201a8\"], [0.3333333333333333, \"#9c179e\"], [0.4444444444444444, \"#bd3786\"], [0.5555555555555556, \"#d8576b\"], [0.6666666666666666, \"#ed7953\"], [0.7777777777777778, \"#fb9f3a\"], [0.8888888888888888, \"#fdca26\"], [1.0, \"#f0f921\"]], \"type\": \"surface\"}], \"table\": [{\"cells\": {\"fill\": {\"color\": \"#EBF0F8\"}, \"line\": {\"color\": \"white\"}}, \"header\": {\"fill\": {\"color\": \"#C8D4E3\"}, \"line\": {\"color\": \"white\"}}, \"type\": \"table\"}]}, \"layout\": {\"annotationdefaults\": {\"arrowcolor\": \"#2a3f5f\", \"arrowhead\": 0, \"arrowwidth\": 1}, \"coloraxis\": {\"colorbar\": {\"outlinewidth\": 0, \"ticks\": \"\"}}, \"colorscale\": {\"diverging\": [[0, \"#8e0152\"], [0.1, \"#c51b7d\"], [0.2, \"#de77ae\"], [0.3, \"#f1b6da\"], [0.4, \"#fde0ef\"], [0.5, \"#f7f7f7\"], [0.6, \"#e6f5d0\"], [0.7, \"#b8e186\"], [0.8, \"#7fbc41\"], [0.9, \"#4d9221\"], [1, \"#276419\"]], \"sequential\": [[0.0, \"#0d0887\"], [0.1111111111111111, \"#46039f\"], [0.2222222222222222, \"#7201a8\"], [0.3333333333333333, \"#9c179e\"], [0.4444444444444444, \"#bd3786\"], [0.5555555555555556, \"#d8576b\"], [0.6666666666666666, \"#ed7953\"], [0.7777777777777778, \"#fb9f3a\"], [0.8888888888888888, \"#fdca26\"], [1.0, \"#f0f921\"]], \"sequentialminus\": [[0.0, \"#0d0887\"], [0.1111111111111111, \"#46039f\"], [0.2222222222222222, \"#7201a8\"], [0.3333333333333333, \"#9c179e\"], [0.4444444444444444, \"#bd3786\"], [0.5555555555555556, \"#d8576b\"], [0.6666666666666666, \"#ed7953\"], [0.7777777777777778, \"#fb9f3a\"], [0.8888888888888888, \"#fdca26\"], [1.0, \"#f0f921\"]]}, \"colorway\": [\"#636efa\", \"#EF553B\", \"#00cc96\", \"#ab63fa\", \"#FFA15A\", \"#19d3f3\", \"#FF6692\", \"#B6E880\", \"#FF97FF\", \"#FECB52\"], \"font\": {\"color\": \"#2a3f5f\"}, \"geo\": {\"bgcolor\": \"white\", \"lakecolor\": \"white\", \"landcolor\": \"#E5ECF6\", \"showlakes\": true, \"showland\": true, \"subunitcolor\": \"white\"}, \"hoverlabel\": {\"align\": \"left\"}, \"hovermode\": \"closest\", \"mapbox\": {\"style\": \"light\"}, \"paper_bgcolor\": \"white\", \"plot_bgcolor\": \"#E5ECF6\", \"polar\": {\"angularaxis\": {\"gridcolor\": \"white\", \"linecolor\": \"white\", \"ticks\": \"\"}, \"bgcolor\": \"#E5ECF6\", \"radialaxis\": {\"gridcolor\": \"white\", \"linecolor\": \"white\", \"ticks\": \"\"}}, \"scene\": {\"xaxis\": {\"backgroundcolor\": \"#E5ECF6\", \"gridcolor\": \"white\", \"gridwidth\": 2, \"linecolor\": \"white\", \"showbackground\": true, \"ticks\": \"\", \"zerolinecolor\": \"white\"}, \"yaxis\": {\"backgroundcolor\": \"#E5ECF6\", \"gridcolor\": \"white\", \"gridwidth\": 2, \"linecolor\": \"white\", \"showbackground\": true, \"ticks\": \"\", \"zerolinecolor\": \"white\"}, \"zaxis\": {\"backgroundcolor\": \"#E5ECF6\", \"gridcolor\": \"white\", \"gridwidth\": 2, \"linecolor\": \"white\", \"showbackground\": true, \"ticks\": \"\", \"zerolinecolor\": \"white\"}}, \"shapedefaults\": {\"line\": {\"color\": \"#2a3f5f\"}}, \"ternary\": {\"aaxis\": {\"gridcolor\": \"white\", \"linecolor\": \"white\", \"ticks\": \"\"}, \"baxis\": {\"gridcolor\": \"white\", \"linecolor\": \"white\", \"ticks\": \"\"}, \"bgcolor\": \"#E5ECF6\", \"caxis\": {\"gridcolor\": \"white\", \"linecolor\": \"white\", \"ticks\": \"\"}}, \"title\": {\"x\": 0.05}, \"xaxis\": {\"automargin\": true, \"gridcolor\": \"white\", \"linecolor\": \"white\", \"ticks\": \"\", \"title\": {\"standoff\": 15}, \"zerolinecolor\": \"white\", \"zerolinewidth\": 2}, \"yaxis\": {\"automargin\": true, \"gridcolor\": \"white\", \"linecolor\": \"white\", \"ticks\": \"\", \"title\": {\"standoff\": 15}, \"zerolinecolor\": \"white\", \"zerolinewidth\": 2}}}, \"xaxis\": {\"anchor\": \"y\", \"domain\": [0.0, 1.0], \"title\": {\"text\": \"Distance\"}}, \"yaxis\": {\"anchor\": \"x\", \"domain\": [0.0, 1.0], \"title\": {\"text\": \"Avg Pace\"}}},                        {\"responsive\": true}                    ).then(function(){\n",
       "                            \n",
       "var gd = document.getElementById('77bd4d6f-ca54-4ba4-99c0-3ad80622a395');\n",
       "var x = new MutationObserver(function (mutations, observer) {{\n",
       "        var display = window.getComputedStyle(gd).display;\n",
       "        if (!display || display === 'none') {{\n",
       "            console.log([gd, 'removed!']);\n",
       "            Plotly.purge(gd);\n",
       "            observer.disconnect();\n",
       "        }}\n",
       "}});\n",
       "\n",
       "// Listen for the removal of the full notebook cells\n",
       "var notebookContainer = gd.closest('#notebook-container');\n",
       "if (notebookContainer) {{\n",
       "    x.observe(notebookContainer, {childList: true});\n",
       "}}\n",
       "\n",
       "// Listen for the clearing of the current output cell\n",
       "var outputEl = gd.closest('.output');\n",
       "if (outputEl) {{\n",
       "    x.observe(outputEl, {childList: true});\n",
       "}}\n",
       "\n",
       "                        })                };                });            </script>        </div>"
      ]
     },
     "metadata": {},
     "output_type": "display_data"
    }
   ],
   "source": [
    "fig = px.scatter(running_df, x='Distance', y='Avg Pace')\n",
    "fig.show()"
   ]
  },
  {
   "cell_type": "code",
   "execution_count": 14,
   "metadata": {},
   "outputs": [
    {
     "data": {
      "text/html": [
       "<div>\n",
       "<style scoped>\n",
       "    .dataframe tbody tr th:only-of-type {\n",
       "        vertical-align: middle;\n",
       "    }\n",
       "\n",
       "    .dataframe tbody tr th {\n",
       "        vertical-align: top;\n",
       "    }\n",
       "\n",
       "    .dataframe thead th {\n",
       "        text-align: right;\n",
       "    }\n",
       "</style>\n",
       "<table border=\"1\" class=\"dataframe\">\n",
       "  <thead>\n",
       "    <tr style=\"text-align: right;\">\n",
       "      <th></th>\n",
       "      <th>Activity Type</th>\n",
       "      <th>Date</th>\n",
       "      <th>Title</th>\n",
       "      <th>Distance</th>\n",
       "      <th>Calories</th>\n",
       "      <th>Time</th>\n",
       "      <th>Avg HR</th>\n",
       "      <th>Max HR</th>\n",
       "      <th>Aerobic TE</th>\n",
       "      <th>Avg Run Cadence</th>\n",
       "      <th>Avg Pace</th>\n",
       "      <th>Elev Gain</th>\n",
       "      <th>Elev Loss</th>\n",
       "      <th>Avg Stride Length</th>\n",
       "      <th>Min Temp</th>\n",
       "    </tr>\n",
       "  </thead>\n",
       "  <tbody>\n",
       "    <tr>\n",
       "      <th>0</th>\n",
       "      <td>Other</td>\n",
       "      <td>2020-09-27 19:55:18</td>\n",
       "      <td>Table Tennis</td>\n",
       "      <td>0.0</td>\n",
       "      <td>612.0</td>\n",
       "      <td>01:55:53</td>\n",
       "      <td>140.0</td>\n",
       "      <td>180.0</td>\n",
       "      <td>3.1</td>\n",
       "      <td>8.0</td>\n",
       "      <td>NaN</td>\n",
       "      <td>NaN</td>\n",
       "      <td>NaN</td>\n",
       "      <td>0.0</td>\n",
       "      <td>28</td>\n",
       "    </tr>\n",
       "    <tr>\n",
       "      <th>1</th>\n",
       "      <td>Other</td>\n",
       "      <td>2020-09-23 19:59:19</td>\n",
       "      <td>Table Tennis</td>\n",
       "      <td>0.0</td>\n",
       "      <td>873.0</td>\n",
       "      <td>01:51:55</td>\n",
       "      <td>156.0</td>\n",
       "      <td>171.0</td>\n",
       "      <td>3.6</td>\n",
       "      <td>8.0</td>\n",
       "      <td>NaN</td>\n",
       "      <td>NaN</td>\n",
       "      <td>NaN</td>\n",
       "      <td>0.0</td>\n",
       "      <td>31</td>\n",
       "    </tr>\n",
       "    <tr>\n",
       "      <th>2</th>\n",
       "      <td>Other</td>\n",
       "      <td>2020-09-20 19:59:32</td>\n",
       "      <td>Table Tennis</td>\n",
       "      <td>0.0</td>\n",
       "      <td>781.0</td>\n",
       "      <td>01:56:59</td>\n",
       "      <td>146.0</td>\n",
       "      <td>174.0</td>\n",
       "      <td>3.3</td>\n",
       "      <td>7.0</td>\n",
       "      <td>NaN</td>\n",
       "      <td>NaN</td>\n",
       "      <td>NaN</td>\n",
       "      <td>0.0</td>\n",
       "      <td>29</td>\n",
       "    </tr>\n",
       "    <tr>\n",
       "      <th>3</th>\n",
       "      <td>Other</td>\n",
       "      <td>2020-09-13 20:06:34</td>\n",
       "      <td>Table Tennis</td>\n",
       "      <td>0.0</td>\n",
       "      <td>758.0</td>\n",
       "      <td>01:48:50</td>\n",
       "      <td>151.0</td>\n",
       "      <td>174.0</td>\n",
       "      <td>3.4</td>\n",
       "      <td>8.0</td>\n",
       "      <td>NaN</td>\n",
       "      <td>NaN</td>\n",
       "      <td>NaN</td>\n",
       "      <td>0.0</td>\n",
       "      <td>27</td>\n",
       "    </tr>\n",
       "    <tr>\n",
       "      <th>4</th>\n",
       "      <td>Other</td>\n",
       "      <td>2020-09-06 20:01:04</td>\n",
       "      <td>Table Tennis</td>\n",
       "      <td>0.0</td>\n",
       "      <td>790.0</td>\n",
       "      <td>01:51:54</td>\n",
       "      <td>154.0</td>\n",
       "      <td>174.0</td>\n",
       "      <td>3.6</td>\n",
       "      <td>10.0</td>\n",
       "      <td>NaN</td>\n",
       "      <td>NaN</td>\n",
       "      <td>NaN</td>\n",
       "      <td>0.0</td>\n",
       "      <td>29</td>\n",
       "    </tr>\n",
       "    <tr>\n",
       "      <th>...</th>\n",
       "      <td>...</td>\n",
       "      <td>...</td>\n",
       "      <td>...</td>\n",
       "      <td>...</td>\n",
       "      <td>...</td>\n",
       "      <td>...</td>\n",
       "      <td>...</td>\n",
       "      <td>...</td>\n",
       "      <td>...</td>\n",
       "      <td>...</td>\n",
       "      <td>...</td>\n",
       "      <td>...</td>\n",
       "      <td>...</td>\n",
       "      <td>...</td>\n",
       "      <td>...</td>\n",
       "    </tr>\n",
       "    <tr>\n",
       "      <th>125</th>\n",
       "      <td>Other</td>\n",
       "      <td>2018-04-28 15:07:56</td>\n",
       "      <td>Table Tennis</td>\n",
       "      <td>0.0</td>\n",
       "      <td>496.0</td>\n",
       "      <td>00:52:35</td>\n",
       "      <td>150.0</td>\n",
       "      <td>174.0</td>\n",
       "      <td>4.0</td>\n",
       "      <td>9.0</td>\n",
       "      <td>NaN</td>\n",
       "      <td>NaN</td>\n",
       "      <td>NaN</td>\n",
       "      <td>0.0</td>\n",
       "      <td>31</td>\n",
       "    </tr>\n",
       "    <tr>\n",
       "      <th>126</th>\n",
       "      <td>Other</td>\n",
       "      <td>2018-04-21 15:57:45</td>\n",
       "      <td>Table Tennis</td>\n",
       "      <td>0.0</td>\n",
       "      <td>771.0</td>\n",
       "      <td>01:43:48</td>\n",
       "      <td>138.0</td>\n",
       "      <td>166.0</td>\n",
       "      <td>3.6</td>\n",
       "      <td>7.0</td>\n",
       "      <td>NaN</td>\n",
       "      <td>NaN</td>\n",
       "      <td>NaN</td>\n",
       "      <td>0.0</td>\n",
       "      <td>29</td>\n",
       "    </tr>\n",
       "    <tr>\n",
       "      <th>127</th>\n",
       "      <td>Other</td>\n",
       "      <td>2018-04-08 13:12:22</td>\n",
       "      <td>Table Tennis</td>\n",
       "      <td>0.0</td>\n",
       "      <td>813.0</td>\n",
       "      <td>01:47:37</td>\n",
       "      <td>143.0</td>\n",
       "      <td>163.0</td>\n",
       "      <td>3.1</td>\n",
       "      <td>9.0</td>\n",
       "      <td>NaN</td>\n",
       "      <td>NaN</td>\n",
       "      <td>NaN</td>\n",
       "      <td>0.0</td>\n",
       "      <td>29</td>\n",
       "    </tr>\n",
       "    <tr>\n",
       "      <th>128</th>\n",
       "      <td>Other</td>\n",
       "      <td>2018-03-31 21:09:09</td>\n",
       "      <td>Table Tennis</td>\n",
       "      <td>0.0</td>\n",
       "      <td>281.0</td>\n",
       "      <td>00:58:13</td>\n",
       "      <td>111.0</td>\n",
       "      <td>144.0</td>\n",
       "      <td>0.8</td>\n",
       "      <td>6.0</td>\n",
       "      <td>NaN</td>\n",
       "      <td>NaN</td>\n",
       "      <td>NaN</td>\n",
       "      <td>0.0</td>\n",
       "      <td>28</td>\n",
       "    </tr>\n",
       "    <tr>\n",
       "      <th>129</th>\n",
       "      <td>Other</td>\n",
       "      <td>2018-03-30 20:01:30</td>\n",
       "      <td>Table Tennis</td>\n",
       "      <td>0.0</td>\n",
       "      <td>738.0</td>\n",
       "      <td>01:35:19</td>\n",
       "      <td>146.0</td>\n",
       "      <td>164.0</td>\n",
       "      <td>3.2</td>\n",
       "      <td>9.0</td>\n",
       "      <td>NaN</td>\n",
       "      <td>NaN</td>\n",
       "      <td>NaN</td>\n",
       "      <td>0.0</td>\n",
       "      <td>27</td>\n",
       "    </tr>\n",
       "  </tbody>\n",
       "</table>\n",
       "<p>130 rows × 15 columns</p>\n",
       "</div>"
      ],
      "text/plain": [
       "    Activity Type                 Date         Title  Distance  Calories  \\\n",
       "0           Other  2020-09-27 19:55:18  Table Tennis       0.0     612.0   \n",
       "1           Other  2020-09-23 19:59:19  Table Tennis       0.0     873.0   \n",
       "2           Other  2020-09-20 19:59:32  Table Tennis       0.0     781.0   \n",
       "3           Other  2020-09-13 20:06:34  Table Tennis       0.0     758.0   \n",
       "4           Other  2020-09-06 20:01:04  Table Tennis       0.0     790.0   \n",
       "..            ...                  ...           ...       ...       ...   \n",
       "125         Other  2018-04-28 15:07:56  Table Tennis       0.0     496.0   \n",
       "126         Other  2018-04-21 15:57:45  Table Tennis       0.0     771.0   \n",
       "127         Other  2018-04-08 13:12:22  Table Tennis       0.0     813.0   \n",
       "128         Other  2018-03-31 21:09:09  Table Tennis       0.0     281.0   \n",
       "129         Other  2018-03-30 20:01:30  Table Tennis       0.0     738.0   \n",
       "\n",
       "         Time  Avg HR  Max HR  Aerobic TE  Avg Run Cadence Avg Pace  \\\n",
       "0    01:55:53   140.0   180.0         3.1              8.0      NaN   \n",
       "1    01:51:55   156.0   171.0         3.6              8.0      NaN   \n",
       "2    01:56:59   146.0   174.0         3.3              7.0      NaN   \n",
       "3    01:48:50   151.0   174.0         3.4              8.0      NaN   \n",
       "4    01:51:54   154.0   174.0         3.6             10.0      NaN   \n",
       "..        ...     ...     ...         ...              ...      ...   \n",
       "125  00:52:35   150.0   174.0         4.0              9.0      NaN   \n",
       "126  01:43:48   138.0   166.0         3.6              7.0      NaN   \n",
       "127  01:47:37   143.0   163.0         3.1              9.0      NaN   \n",
       "128  00:58:13   111.0   144.0         0.8              6.0      NaN   \n",
       "129  01:35:19   146.0   164.0         3.2              9.0      NaN   \n",
       "\n",
       "     Elev Gain  Elev Loss  Avg Stride Length  Min Temp  \n",
       "0          NaN        NaN                0.0        28  \n",
       "1          NaN        NaN                0.0        31  \n",
       "2          NaN        NaN                0.0        29  \n",
       "3          NaN        NaN                0.0        27  \n",
       "4          NaN        NaN                0.0        29  \n",
       "..         ...        ...                ...       ...  \n",
       "125        NaN        NaN                0.0        31  \n",
       "126        NaN        NaN                0.0        29  \n",
       "127        NaN        NaN                0.0        29  \n",
       "128        NaN        NaN                0.0        28  \n",
       "129        NaN        NaN                0.0        27  \n",
       "\n",
       "[130 rows x 15 columns]"
      ]
     },
     "execution_count": 14,
     "metadata": {},
     "output_type": "execute_result"
    }
   ],
   "source": [
    "table_tennis_df = df[df['Title'] == 'Table Tennis'].reset_index(drop=True)\n",
    "\n",
    "table_tennis_df"
   ]
  }
 ],
 "metadata": {
  "kernelspec": {
   "display_name": "Python 3",
   "language": "python",
   "name": "python3"
  },
  "language_info": {
   "codemirror_mode": {
    "name": "ipython",
    "version": 3
   },
   "file_extension": ".py",
   "mimetype": "text/x-python",
   "name": "python",
   "nbconvert_exporter": "python",
   "pygments_lexer": "ipython3",
   "version": "3.8.5"
  }
 },
 "nbformat": 4,
 "nbformat_minor": 4
}
